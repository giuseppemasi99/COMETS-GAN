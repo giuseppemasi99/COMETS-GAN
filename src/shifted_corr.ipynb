{
 "cells": [
  {
   "cell_type": "code",
   "execution_count": null,
   "metadata": {},
   "outputs": [],
   "source": [
    "!ls"
   ]
  },
  {
   "cell_type": "code",
   "execution_count": null,
   "metadata": {},
   "outputs": [],
   "source": [
    "import pandas as pd\n",
    "import numpy as np\n",
    "import matplotlib.pyplot as plt\n",
    "from sklearn.preprocessing import StandardScaler\n",
    "from tqdm import tqdm"
   ]
  },
  {
   "cell_type": "code",
   "execution_count": null,
   "metadata": {},
   "outputs": [],
   "source": [
    "FONT_SIZE_TITLE_PLOT = 48\n",
    "FONT_SIZE_TITLE_AX = 36\n",
    "FONT_SIZE_LABEL = 30\n",
    "FONT_SIZE_TICKS = 24\n",
    "FONT_SIZE_LEGEND = 32"
   ]
  },
  {
   "cell_type": "code",
   "execution_count": null,
   "metadata": {},
   "outputs": [],
   "source": [
    "PROJECT_FOLDER = \"PycharmProjects/thesis-gan\"\n",
    "train_data_path = f\"{PROJECT_FOLDER}/data/midprice_volume__KO_PEP_NVDA_KSU__train.csv\"\n",
    "stock_names = [\"KO\", \"PEP\"]"
   ]
  },
  {
   "cell_type": "code",
   "execution_count": null,
   "metadata": {},
   "outputs": [],
   "source": [
    "df = pd.read_csv(train_data_path)\n",
    "df = df.rename(columns={\"Unnamed: 0\": \"date\"})\n",
    "midprices_KO_PEP = df[[f\"mid_price_{stock_name}\" for stock_name in stock_names] + [\"date\"]]\n",
    "midprices_KO_PEP[\"date\"] = pd.to_datetime(midprices_KO_PEP[\"date\"])\n",
    "midprices_KO_PEP"
   ]
  },
  {
   "cell_type": "code",
   "execution_count": null,
   "metadata": {},
   "outputs": [],
   "source": [
    "scaler = StandardScaler()"
   ]
  },
  {
   "cell_type": "markdown",
   "metadata": {},
   "source": [
    "## Tau = 1DAY, Delta = 1Minute"
   ]
  },
  {
   "cell_type": "code",
   "execution_count": null,
   "metadata": {},
   "outputs": [],
   "source": [
    "DELTA_MAX = 60\n",
    "\n",
    "grouped = midprices_KO_PEP.groupby(midprices_KO_PEP.date.dt.date)\n",
    "\n",
    "date2delta2corr = dict()\n",
    "\n",
    "for date, midprices_KO_PEP_day in grouped:\n",
    "    if midprices_KO_PEP_day.shape[0] == 390:\n",
    "        delta2corr = dict()\n",
    "        mid_price_KO_day, mid_price_PEP_day = (\n",
    "            midprices_KO_PEP_day[\"mid_price_KO\"].values,\n",
    "            midprices_KO_PEP_day[\"mid_price_PEP\"].values,\n",
    "        )\n",
    "\n",
    "        for delta in range(-DELTA_MAX, DELTA_MAX + 1):\n",
    "            corrcoef = np.round(\n",
    "                np.corrcoef(mid_price_KO_day[60 + delta : 330 + delta], mid_price_PEP_day[60:330])[0, 1], 2\n",
    "            )\n",
    "            delta2corr[delta] = corrcoef\n",
    "\n",
    "        date2delta2corr[str(date)] = delta2corr"
   ]
  },
  {
   "cell_type": "code",
   "execution_count": null,
   "metadata": {},
   "outputs": [],
   "source": [
    "for date, midprices_KO_PEP_day in grouped:\n",
    "    if midprices_KO_PEP_day.shape[0] != 390:\n",
    "        continue\n",
    "    fig, axes = plt.subplots(2, 1, figsize=(16, 9))\n",
    "    axes = axes.ravel()\n",
    "    ax_price, ax_corr = axes\n",
    "\n",
    "    mid_price_KO_day, mid_price_PEP_day = (\n",
    "        midprices_KO_PEP_day[\"mid_price_KO\"].values,\n",
    "        midprices_KO_PEP_day[\"mid_price_PEP\"].values,\n",
    "    )\n",
    "    mid_price_KO_day_scaled = scaler.fit_transform(mid_price_KO_day.reshape(-1, 1))\n",
    "    mid_price_PEP_day_scaled = scaler.fit_transform(mid_price_PEP_day.reshape(-1, 1))\n",
    "\n",
    "    ax_price.plot(range(390), mid_price_KO_day_scaled, color=\"C4\", label=\"KO\")\n",
    "    ax_price.plot(range(390), mid_price_PEP_day_scaled, color=\"C5\", label=\"PEP\")\n",
    "\n",
    "    ax_price.set_xlabel(\"Steps\", fontdict={\"fontsize\": FONT_SIZE_LABEL})\n",
    "    ax_price.set_ylabel(\"Price\", fontdict={\"fontsize\": FONT_SIZE_LABEL})\n",
    "    ax_price.xaxis.set_tick_params(labelsize=FONT_SIZE_TICKS)\n",
    "    ax_price.yaxis.set_tick_params(labelsize=FONT_SIZE_TICKS)\n",
    "    ax_price.legend(ncol=2, loc=\"lower center\", fontsize=FONT_SIZE_LEGEND, frameon=False)\n",
    "\n",
    "    delta2corr = date2delta2corr[str(date)]\n",
    "    delta2corr = dict(sorted(delta2corr.items()))\n",
    "    ax_corr.plot(delta2corr.keys(), delta2corr.values(), color=\"C6\", label=r\"$\\rho(KO[\\delta:], PEP[:-\\delta])$\")\n",
    "\n",
    "    ax_corr.set_ylim((-1, 1))\n",
    "    ax_corr.set_xlabel(r\"$\\delta$\", fontdict={\"fontsize\": FONT_SIZE_LABEL})\n",
    "    ax_corr.set_ylabel(\"Correlation\\ncoefficient\", fontdict={\"fontsize\": FONT_SIZE_LABEL})\n",
    "    ax_corr.xaxis.set_tick_params(labelsize=FONT_SIZE_TICKS)\n",
    "    ax_corr.yaxis.set_tick_params(labelsize=FONT_SIZE_TICKS)\n",
    "    ax_corr.legend(loc=\"lower center\", fontsize=FONT_SIZE_LEGEND, frameon=False)\n",
    "\n",
    "    fig.suptitle(f\"{date}\", fontsize=FONT_SIZE_TITLE_PLOT)\n",
    "    plt.tight_layout()\n",
    "    plt.savefig(f\"{PROJECT_FOLDER}/plot_finali/multistock/shifted_correlations/tau=1day_delta=1minute/{date}.pdf\")\n",
    "    # plt.show()\n",
    "    plt.close(fig)"
   ]
  },
  {
   "cell_type": "markdown",
   "metadata": {},
   "source": [
    "## Tau = 1Week, Delta = 1Hour"
   ]
  },
  {
   "cell_type": "code",
   "execution_count": null,
   "metadata": {},
   "outputs": [],
   "source": [
    "DELTA_MAX = 6\n",
    "\n",
    "grouped = midprices_KO_PEP.groupby([pd.Grouper(key=\"date\", freq=\"W\", origin=pd.Timestamp(year=2018, month=1, day=1))])\n",
    "\n",
    "date2delta2corr = dict()\n",
    "\n",
    "for date, midprices_KO_PEP_week in grouped:\n",
    "    if midprices_KO_PEP_week.shape[0] == 390 * 5:\n",
    "        delta2corr = dict()\n",
    "        mid_price_KO_week, mid_price_PEP_week = (\n",
    "            midprices_KO_PEP_week[\"mid_price_KO\"].values,\n",
    "            midprices_KO_PEP_week[\"mid_price_PEP\"].values,\n",
    "        )\n",
    "\n",
    "        for delta in range(-DELTA_MAX, DELTA_MAX + 1):\n",
    "            corrcoef = np.round(\n",
    "                np.corrcoef(mid_price_KO_week[390 + 60 * delta : 1560 + 60 * delta], mid_price_PEP_week[390:1560])[\n",
    "                    0, 1\n",
    "                ],\n",
    "                2,\n",
    "            )\n",
    "            delta2corr[delta] = corrcoef\n",
    "\n",
    "        date2delta2corr[str(date)] = delta2corr"
   ]
  },
  {
   "cell_type": "code",
   "execution_count": null,
   "metadata": {},
   "outputs": [],
   "source": [
    "for date, midprices_KO_PEP_week in grouped:\n",
    "    if midprices_KO_PEP_week.shape[0] != 390 * 5:\n",
    "        continue\n",
    "    fig, axes = plt.subplots(2, 1, figsize=(16, 9))\n",
    "    axes = axes.ravel()\n",
    "    ax_price, ax_corr = axes\n",
    "\n",
    "    mid_price_KO_week, mid_price_PEP_week = (\n",
    "        midprices_KO_PEP_week[\"mid_price_KO\"].values,\n",
    "        midprices_KO_PEP_week[\"mid_price_PEP\"].values,\n",
    "    )\n",
    "    mid_price_KO_week_scaled = scaler.fit_transform(mid_price_KO_week.reshape(-1, 1))\n",
    "    mid_price_PEP_week_scaled = scaler.fit_transform(mid_price_PEP_week.reshape(-1, 1))\n",
    "\n",
    "    ax_price.plot(range(390 * 5), mid_price_KO_week_scaled, color=\"C4\", label=\"KO\")\n",
    "    ax_price.plot(range(390 * 5), mid_price_PEP_week_scaled, color=\"C5\", label=\"PEP\")\n",
    "\n",
    "    ax_price.set_xlabel(\"Steps\", fontdict={\"fontsize\": FONT_SIZE_LABEL})\n",
    "    ax_price.set_ylabel(\"Price\", fontdict={\"fontsize\": FONT_SIZE_LABEL})\n",
    "    ax_price.xaxis.set_tick_params(labelsize=FONT_SIZE_TICKS)\n",
    "    ax_price.yaxis.set_tick_params(labelsize=FONT_SIZE_TICKS)\n",
    "    ax_price.legend(ncol=2, loc=\"lower center\", fontsize=FONT_SIZE_LEGEND, frameon=False)\n",
    "\n",
    "    delta2corr = date2delta2corr[str(date)]\n",
    "    delta2corr = dict(sorted(delta2corr.items()))\n",
    "    ax_corr.plot(delta2corr.keys(), delta2corr.values(), color=\"C6\", label=r\"$\\rho(KO[\\delta:], PEP[:-\\delta])$\")\n",
    "\n",
    "    ax_corr.set_ylim((-1, 1))\n",
    "    ax_corr.set_xlabel(r\"$\\delta$\", fontdict={\"fontsize\": FONT_SIZE_LABEL})\n",
    "    ax_corr.set_ylabel(\"Correlation\\ncoefficient\", fontdict={\"fontsize\": FONT_SIZE_LABEL})\n",
    "    ax_corr.xaxis.set_tick_params(labelsize=FONT_SIZE_TICKS)\n",
    "    ax_corr.yaxis.set_tick_params(labelsize=FONT_SIZE_TICKS)\n",
    "    ax_corr.legend(loc=\"lower center\", fontsize=FONT_SIZE_LEGEND, frameon=False)\n",
    "\n",
    "    fig.suptitle(f\"{date}\", fontsize=FONT_SIZE_TITLE_PLOT)\n",
    "    plt.tight_layout()\n",
    "    plt.savefig(f\"{PROJECT_FOLDER}/plot_finali/multistock/shifted_correlations/tau=1week_delta=1hour/{date}.pdf\")\n",
    "    # plt.show()\n",
    "    plt.close(fig)"
   ]
  },
  {
   "cell_type": "markdown",
   "metadata": {},
   "source": [
    "## HFT"
   ]
  },
  {
   "cell_type": "code",
   "execution_count": null,
   "metadata": {},
   "outputs": [],
   "source": [
    "raw_df = pd.read_csv(f\"{PROJECT_FOLDER}/data/hft/Sec1/midprice_volume_KO_PEP_NVDA_KSU_train.csv\")"
   ]
  },
  {
   "cell_type": "code",
   "execution_count": null,
   "metadata": {},
   "outputs": [],
   "source": [
    "hft_df = raw_df[[\"mid_price_KO\", \"mid_price_PEP\", \"date\"]]\n",
    "hft_df[\"date\"] = pd.to_datetime(hft_df[\"date\"])"
   ]
  },
  {
   "cell_type": "code",
   "execution_count": null,
   "metadata": {},
   "outputs": [],
   "source": [
    "DELTA_MAX = 60 * 5\n",
    "\n",
    "grouped = hft_df.groupby(hft_df.date.dt.date)\n",
    "\n",
    "date2delta2corr = dict()\n",
    "\n",
    "for date, midprices_KO_PEP_day in tqdm(grouped):\n",
    "    if midprices_KO_PEP_day.shape[0] == 390 * 60:\n",
    "        delta2corr = dict()\n",
    "        mid_price_KO_day, mid_price_PEP_day = (\n",
    "            midprices_KO_PEP_day[\"mid_price_KO\"].values,\n",
    "            midprices_KO_PEP_day[\"mid_price_PEP\"].values,\n",
    "        )\n",
    "\n",
    "        for delta in range(-DELTA_MAX, DELTA_MAX + 1):\n",
    "            corrcoef = np.round(\n",
    "                np.corrcoef(mid_price_KO_day[300 + delta : 23100 + delta], mid_price_PEP_day[300:23100])[0, 1], 2\n",
    "            )\n",
    "            delta2corr[delta] = corrcoef\n",
    "\n",
    "        date2delta2corr[str(date)] = delta2corr"
   ]
  },
  {
   "cell_type": "code",
   "execution_count": null,
   "metadata": {},
   "outputs": [],
   "source": [
    "for date, midprices_KO_PEP_day in tqdm(grouped):\n",
    "    if midprices_KO_PEP_day.shape[0] != 390 * 60:\n",
    "        continue\n",
    "    fig, axes = plt.subplots(2, 1, figsize=(16, 9))\n",
    "    axes = axes.ravel()\n",
    "    ax_price, ax_corr = axes\n",
    "\n",
    "    mid_price_KO_day, mid_price_PEP_day = (\n",
    "        midprices_KO_PEP_day[\"mid_price_KO\"].values,\n",
    "        midprices_KO_PEP_day[\"mid_price_PEP\"].values,\n",
    "    )\n",
    "    mid_price_KO_day_scaled = scaler.fit_transform(mid_price_KO_day.reshape(-1, 1))\n",
    "    mid_price_PEP_day_scaled = scaler.fit_transform(mid_price_PEP_day.reshape(-1, 1))\n",
    "\n",
    "    ax_price.plot(range(390 * 60), mid_price_KO_day_scaled, color=\"C4\", label=\"KO\")\n",
    "    ax_price.plot(range(390 * 60), mid_price_PEP_day_scaled, color=\"C5\", label=\"PEP\")\n",
    "\n",
    "    ax_price.set_xlabel(\"Steps\", fontdict={\"fontsize\": FONT_SIZE_LABEL})\n",
    "    ax_price.set_ylabel(\"Price\", fontdict={\"fontsize\": FONT_SIZE_LABEL})\n",
    "    ax_price.xaxis.set_tick_params(labelsize=FONT_SIZE_TICKS)\n",
    "    ax_price.yaxis.set_tick_params(labelsize=FONT_SIZE_TICKS)\n",
    "    ax_price.legend(ncol=2, loc=\"lower center\", fontsize=FONT_SIZE_LEGEND, frameon=False)\n",
    "\n",
    "    delta2corr = date2delta2corr[str(date)]\n",
    "    delta2corr = dict(sorted(delta2corr.items()))\n",
    "    ax_corr.plot(delta2corr.keys(), delta2corr.values(), color=\"C6\", label=r\"$\\rho(KO[\\delta:], PEP[:-\\delta])$\")\n",
    "\n",
    "    ax_corr.set_ylim((-1, 1))\n",
    "    ax_corr.set_xlabel(r\"$\\delta$\", fontdict={\"fontsize\": FONT_SIZE_LABEL})\n",
    "    ax_corr.set_ylabel(\"Correlation\\ncoefficient\", fontdict={\"fontsize\": FONT_SIZE_LABEL})\n",
    "    ax_corr.xaxis.set_tick_params(labelsize=FONT_SIZE_TICKS)\n",
    "    ax_corr.yaxis.set_tick_params(labelsize=FONT_SIZE_TICKS)\n",
    "    ax_corr.legend(loc=\"lower center\", fontsize=FONT_SIZE_LEGEND, frameon=False)\n",
    "\n",
    "    fig.suptitle(f\"{date}\", fontsize=FONT_SIZE_TITLE_PLOT)\n",
    "    plt.tight_layout()\n",
    "    plt.savefig(f\"{PROJECT_FOLDER}/plot_finali/multistock/shifted_correlations/tau=1day_delta=1second/{date}.pdf\")\n",
    "    # plt.show()\n",
    "    plt.close(fig)"
   ]
  },
  {
   "cell_type": "markdown",
   "metadata": {},
   "source": [
    "## TAU=\n"
   ]
  },
  {
   "cell_type": "code",
   "execution_count": null,
   "metadata": {},
   "outputs": [],
   "source": [
    "raw_df = pd.read_csv(f\"{PROJECT_FOLDER}/data/hft/mSec100/midprice_volume_KO_PEP_NVDA_KSU_train.csv\")"
   ]
  },
  {
   "cell_type": "code",
   "execution_count": null,
   "metadata": {},
   "outputs": [],
   "source": [
    "hft_df = raw_df[[\"mid_price_KO\", \"mid_price_PEP\", \"date\"]]\n",
    "hft_df[\"date\"] = pd.to_datetime(hft_df[\"date\"])"
   ]
  },
  {
   "cell_type": "code",
   "execution_count": null,
   "metadata": {},
   "outputs": [],
   "source": [
    "hft_df.shape"
   ]
  },
  {
   "cell_type": "code",
   "execution_count": null,
   "metadata": {},
   "outputs": [],
   "source": [
    "hft_df.head(20)"
   ]
  },
  {
   "cell_type": "code",
   "execution_count": null,
   "metadata": {},
   "outputs": [],
   "source": []
  }
 ],
 "metadata": {
  "kernelspec": {
   "display_name": "Python 3",
   "language": "python",
   "name": "python3"
  },
  "language_info": {
   "codemirror_mode": {
    "name": "ipython",
    "version": 2
   },
   "file_extension": ".py",
   "mimetype": "text/x-python",
   "name": "python",
   "nbconvert_exporter": "python",
   "pygments_lexer": "ipython2",
   "version": "2.7.6"
  }
 },
 "nbformat": 4,
 "nbformat_minor": 0
}
