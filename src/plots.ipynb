{
 "cells": [
  {
   "cell_type": "code",
   "execution_count": null,
   "metadata": {},
   "outputs": [],
   "source": [
    "import pandas as pd\n",
    "import numpy as np\n",
    "import matplotlib.pyplot as plt\n",
    "import pickle\n",
    "from itertools import combinations\n",
    "\n",
    "import tqdm"
   ]
  },
  {
   "cell_type": "code",
   "execution_count": null,
   "metadata": {},
   "outputs": [],
   "source": [
    "plt.rcParams[\"figure.figsize\"] = [16, 9]\n",
    "# plt.rcParams[\"figure.dpi\"] = 300\n",
    "plt.rcParams[\"font.size\"] = 20\n",
    "plt.rcParams[\"axes.labelsize\"] = 20\n",
    "plt.rcParams[\"axes.titlesize\"] = 24\n",
    "plt.rcParams[\"xtick.labelsize\"] = 16\n",
    "plt.rcParams[\"ytick.labelsize\"] = 16\n",
    "plt.rcParams[\"font.family\"] = \"serif\""
   ]
  },
  {
   "cell_type": "code",
   "execution_count": null,
   "metadata": {},
   "outputs": [],
   "source": [
    "FONT_SIZE_TITLE_PLOT = 48  # 40\n",
    "FONT_SIZE_TITLE_AX = 36  # 30\n",
    "FONT_SIZE_LABEL = 30  # 24\n",
    "FONT_SIZE_TICKS = 24  # 20\n",
    "FONT_SIZE_LEGEND = 32  # 28"
   ]
  },
  {
   "cell_type": "code",
   "execution_count": null,
   "metadata": {},
   "outputs": [],
   "source": [
    "PROJECT_FOLDER = \"PycharmProjects/thesis-gan\""
   ]
  },
  {
   "cell_type": "code",
   "execution_count": null,
   "metadata": {},
   "outputs": [],
   "source": [
    "stock_names = [\"PEP\", \"KO\", \"NVDA\", \"KSU\"]\n",
    "n_stocks = len(stock_names)"
   ]
  },
  {
   "cell_type": "code",
   "execution_count": null,
   "metadata": {},
   "outputs": [],
   "source": [
    "RUN_ID_PRICE = \"13v3dpxg\"\n",
    "EPOCH_PRICE = 121\n",
    "PATH_PICKLE_REAL_PRICE = f\"{PROJECT_FOLDER}/storage/thesis-gan/{RUN_ID_PRICE}/reals.pickle\"\n",
    "PATH_PICKLE_PRED_PRICE = f\"{PROJECT_FOLDER}/storage/thesis-gan/{RUN_ID_PRICE}/preds_epoch={EPOCH_PRICE}-seed=42-target_price=mid_price-target_volume=None-sampling_seed=599121577.pickle\""
   ]
  },
  {
   "cell_type": "code",
   "execution_count": null,
   "metadata": {},
   "outputs": [],
   "source": [
    "RUN_ID_VOLUME = \"136a5wci\"\n",
    "EPOCH_VOLUME = 108\n",
    "PATH_PICKLE_REAL_VOLUME = f\"{PROJECT_FOLDER}/storage/thesis-gan/{RUN_ID_VOLUME}/reals.pickle\"\n",
    "PATH_PICKLE_PRED_VOLUME = f\"{PROJECT_FOLDER}/storage/thesis-gan/{RUN_ID_VOLUME}/preds_epoch={EPOCH_VOLUME}-seed=42-target_price=None-target_volume=volume-sampling_seed=599121577.pickle\""
   ]
  },
  {
   "cell_type": "code",
   "execution_count": null,
   "metadata": {},
   "outputs": [],
   "source": [
    "with open(PATH_PICKLE_REAL_PRICE, \"rb\") as handle:\n",
    "    real_price_dict = pickle.load(handle)\n",
    "with open(PATH_PICKLE_PRED_PRICE, \"rb\") as handle:\n",
    "    pred_price_dict = pickle.load(handle)"
   ]
  },
  {
   "cell_type": "code",
   "execution_count": null,
   "metadata": {},
   "outputs": [],
   "source": [
    "with open(PATH_PICKLE_REAL_VOLUME, \"rb\") as handle:\n",
    "    real_volume_dict = pickle.load(handle)\n",
    "with open(PATH_PICKLE_PRED_VOLUME, \"rb\") as handle:\n",
    "    pred_volume_dict = pickle.load(handle)"
   ]
  },
  {
   "cell_type": "code",
   "execution_count": null,
   "metadata": {},
   "outputs": [],
   "source": [
    "real_price_dict.keys(), pred_price_dict.keys()"
   ]
  },
  {
   "cell_type": "code",
   "execution_count": null,
   "metadata": {},
   "outputs": [],
   "source": [
    "real_volume_dict.keys(), pred_volume_dict.keys()"
   ]
  },
  {
   "cell_type": "code",
   "execution_count": null,
   "metadata": {},
   "outputs": [],
   "source": [
    "x = real_price_dict[\"x\"]\n",
    "x_hat = pred_price_dict[\"x_hat\"]\n",
    "x.shape, x_hat.shape"
   ]
  },
  {
   "cell_type": "code",
   "execution_count": null,
   "metadata": {},
   "outputs": [],
   "source": [
    "price_real = real_price_dict[\"prices\"]\n",
    "price_pred = pred_price_dict[\"pred_prices\"]\n",
    "price_real.shape, price_pred.shape"
   ]
  },
  {
   "cell_type": "code",
   "execution_count": null,
   "metadata": {},
   "outputs": [],
   "source": [
    "volume_real = real_volume_dict[\"volumes\"]\n",
    "volume_pred = pred_volume_dict[\"pred_volumes\"]\n",
    "volume_real.shape, volume_pred.shape"
   ]
  },
  {
   "cell_type": "code",
   "execution_count": null,
   "metadata": {},
   "outputs": [],
   "source": [
    "history_indexes = np.arange(390)\n",
    "continuation_indexes = np.arange(390, price_real.shape[1])\n",
    "history_indexes.shape, continuation_indexes.shape"
   ]
  },
  {
   "cell_type": "code",
   "execution_count": null,
   "metadata": {},
   "outputs": [],
   "source": [
    "price_real.shape, price_pred.shape"
   ]
  },
  {
   "cell_type": "code",
   "execution_count": null,
   "metadata": {},
   "outputs": [],
   "source": [
    "price_real_ = price_real / 10000\n",
    "price_pred_ = price_pred / 10000\n",
    "price_real_[0, 1000], price_pred_[0, 1000]"
   ]
  },
  {
   "cell_type": "markdown",
   "metadata": {},
   "source": [
    "# PRICES"
   ]
  },
  {
   "cell_type": "code",
   "execution_count": null,
   "metadata": {},
   "outputs": [],
   "source": [
    "fig, axes = plt.subplots(2, 2, figsize=(16, 9))\n",
    "axes = axes.ravel()\n",
    "\n",
    "add_label = True\n",
    "for (\n",
    "    ax,\n",
    "    stock_name,\n",
    "    real,\n",
    "    synthetic,\n",
    ") in zip(axes, stock_names, price_real_, price_pred_):\n",
    "    ax.plot(history_indexes, real[:390], color=\"C0\", label=\"Observed\" if add_label else None)\n",
    "    ax.plot(continuation_indexes, real[390:], color=\"C1\", label=\"Real\" if add_label else None)\n",
    "    ax.plot(continuation_indexes, synthetic[390:], color=\"C2\", label=\"Synthetic\" if add_label else None)\n",
    "    ax.axvline(x=390, color=\"r\")\n",
    "\n",
    "    ax.set_title(stock_name, fontsize=FONT_SIZE_TITLE_AX)\n",
    "    ax.set_xlabel(\"Steps\", fontsize=FONT_SIZE_LABEL)\n",
    "    ax.set_ylabel(\"Price ($)\", fontsize=FONT_SIZE_LABEL, rotation=90)\n",
    "    ax.xaxis.set_tick_params(labelsize=FONT_SIZE_TICKS)\n",
    "    ax.yaxis.set_tick_params(labelsize=FONT_SIZE_TICKS)\n",
    "    ax.set_xticks(list(ax.get_xticks()[2:-1]) + [390])\n",
    "\n",
    "    add_label = False\n",
    "\n",
    "fig.suptitle(\"Prices\", fontsize=FONT_SIZE_TITLE_PLOT, y=1)\n",
    "fig.legend(loc=\"upper center\", ncol=3, fontsize=FONT_SIZE_LEGEND, frameon=False, bbox_to_anchor=(0.5, 0.97))\n",
    "fig.tight_layout()\n",
    "# plt.savefig(f\"{PROJECT_FOLDER}/plot_finali/multistock/prices.pdf\")\n",
    "plt.show()\n",
    "plt.close(fig)"
   ]
  },
  {
   "cell_type": "markdown",
   "metadata": {},
   "source": [
    "# Couples"
   ]
  },
  {
   "cell_type": "code",
   "execution_count": null,
   "metadata": {},
   "outputs": [],
   "source": [
    "df_corr_real = pd.DataFrame(price_real.T, columns=stock_names).corr().round(2)\n",
    "df_corr_synthetic = pd.DataFrame(price_pred.T, columns=stock_names).corr().round(2)"
   ]
  },
  {
   "cell_type": "code",
   "execution_count": null,
   "metadata": {},
   "outputs": [],
   "source": [
    "minutes_in_a_day = 6 * 60 + 30\n",
    "minutes_in_a_day"
   ]
  },
  {
   "cell_type": "code",
   "execution_count": null,
   "metadata": {},
   "outputs": [],
   "source": [
    "fig, axes = plt.subplots(2, 4, figsize=(16, 9))\n",
    "\n",
    "add_label = True\n",
    "for i, (ax_real, ax_synthetic) in enumerate(axes.T):\n",
    "    stock_name, real, synthetic = stock_names[i], price_real_[i], price_pred_[i]\n",
    "\n",
    "    ylim = (min(real.min(), synthetic.min()), max(real.max(), synthetic.max()))\n",
    "    ax_real.set_ylim(ylim)\n",
    "    ax_synthetic.set_ylim(ylim)\n",
    "    ax_real.set_xticklabels([])\n",
    "    ax_synthetic.set_xticklabels([])\n",
    "    ax_real.yaxis.set_tick_params(labelsize=FONT_SIZE_TICKS)\n",
    "    ax_synthetic.yaxis.set_tick_params(labelsize=FONT_SIZE_TICKS)\n",
    "\n",
    "    ax_real.plot(history_indexes, real[:minutes_in_a_day], color=\"C0\", label=\"Observed\" if add_label else None)\n",
    "    ax_real.plot(continuation_indexes, real[minutes_in_a_day:], color=\"C1\", label=\"Real\" if add_label else None)\n",
    "\n",
    "    ax_synthetic.plot(history_indexes, synthetic[:minutes_in_a_day], color=\"C0\")\n",
    "    ax_synthetic.plot(\n",
    "        continuation_indexes, synthetic[minutes_in_a_day:], color=\"C2\", label=\"Synthetic\" if add_label else None\n",
    "    )\n",
    "\n",
    "    ax_real.set_title(stock_name, fontsize=FONT_SIZE_TITLE_AX)\n",
    "\n",
    "    add_label = False\n",
    "\n",
    "    if i > 0:\n",
    "        corr_real, corr_synthetic = df_corr_real[stock_name][\"PEP\"], df_corr_synthetic[stock_name][\"PEP\"]\n",
    "        ax_real.set_xlabel(rf\"$\\rho({stock_name}, PEP)={corr_real}$\", fontsize=FONT_SIZE_LABEL - 6)\n",
    "        ax_synthetic.set_xlabel(\n",
    "            r\"$\\rho(\\widehat{\" + stock_name + \"}, \\widehat{PEP})=\" + str(corr_synthetic) + \"$\",\n",
    "            fontsize=FONT_SIZE_LABEL - 6,\n",
    "        )\n",
    "\n",
    "fig.suptitle(\"Price - Correlation Dynamics\", fontsize=FONT_SIZE_TITLE_PLOT, y=1)\n",
    "fig.legend(\n",
    "    loc=\"upper center\",\n",
    "    ncol=3,\n",
    "    fontsize=FONT_SIZE_LEGEND,\n",
    "    frameon=False,\n",
    "    bbox_to_anchor=(0.5, 0.97),\n",
    ")\n",
    "plt.tight_layout()\n",
    "# plt.savefig(f\"{PROJECT_FOLDER}/plot_finali/multistock/price_correlations_wrt_PEP.pdf\")\n",
    "plt.show()\n",
    "plt.close(fig)"
   ]
  },
  {
   "cell_type": "markdown",
   "metadata": {},
   "source": [
    "# VOLUMES"
   ]
  },
  {
   "cell_type": "code",
   "execution_count": null,
   "metadata": {},
   "outputs": [],
   "source": [
    "fig, axes = plt.subplots(2, 2, figsize=(16, 9))\n",
    "axes = axes.ravel()\n",
    "\n",
    "add_label = True\n",
    "for (\n",
    "    ax,\n",
    "    stock_name,\n",
    "    real,\n",
    "    synthetic,\n",
    ") in zip(axes, stock_names, volume_real, volume_pred):\n",
    "    ax.plot(history_indexes, real[:390], color=\"C0\", label=\"Observed\" if add_label else None)\n",
    "    ax.plot(continuation_indexes, real[390:], color=\"C1\", label=\"Real\" if add_label else None)\n",
    "    ax.plot(\n",
    "        continuation_indexes,\n",
    "        synthetic[390:],\n",
    "        color=\"C2\",\n",
    "        alpha=0.7,\n",
    "        label=\"Synthetic\" if add_label else None,\n",
    "    )\n",
    "    ax.axvline(x=390, color=\"r\")\n",
    "\n",
    "    ax.set_title(stock_name, fontsize=FONT_SIZE_TITLE_AX)\n",
    "    ax.set_xlabel(\"Steps\", fontsize=FONT_SIZE_LABEL)\n",
    "    ax.set_ylabel(\"Shares\", fontsize=FONT_SIZE_LABEL, rotation=90)\n",
    "    ax.xaxis.set_tick_params(labelsize=FONT_SIZE_TICKS)\n",
    "    ax.yaxis.set_tick_params(labelsize=FONT_SIZE_TICKS)\n",
    "    ax.set_xticks(list(ax.get_xticks()[2:-1]) + [390])\n",
    "\n",
    "    add_label = False\n",
    "\n",
    "fig.suptitle(\"Volumes\", fontsize=FONT_SIZE_TITLE_PLOT, y=1)\n",
    "fig.legend(loc=\"upper center\", ncol=3, fontsize=FONT_SIZE_LEGEND, frameon=False, bbox_to_anchor=(0.5, 0.97))\n",
    "fig.tight_layout()\n",
    "# plt.savefig(f\"{PROJECT_FOLDER}/plot_finali/multistock/volumes.pdf\")\n",
    "plt.show()\n",
    "plt.close(fig)"
   ]
  },
  {
   "cell_type": "markdown",
   "metadata": {},
   "source": [
    "# STYLISED FACT"
   ]
  },
  {
   "cell_type": "code",
   "execution_count": null,
   "metadata": {},
   "outputs": [],
   "source": [
    "price_real = np.reshape(price_real, newshape=(n_stocks, -1, minutes_in_a_day))\n",
    "price_pred = np.reshape(price_pred, newshape=(n_stocks, -1, minutes_in_a_day))\n",
    "price_real.shape, price_pred.shape"
   ]
  },
  {
   "cell_type": "code",
   "execution_count": null,
   "metadata": {},
   "outputs": [],
   "source": [
    "n_days = price_real.shape[1]\n",
    "n_days"
   ]
  },
  {
   "cell_type": "code",
   "execution_count": null,
   "metadata": {},
   "outputs": [],
   "source": [
    "minutely_returns_real = np.diff(np.log(price_real)).reshape(n_stocks, -1)\n",
    "minutely_returns_synthetic = np.diff(np.log(price_pred)).reshape(n_stocks, -1)\n",
    "minutely_returns_real.shape, minutely_returns_synthetic.shape"
   ]
  },
  {
   "cell_type": "code",
   "execution_count": null,
   "metadata": {},
   "outputs": [],
   "source": [
    "n_minutes = 15\n",
    "n_minutely_returns_real = np.diff(np.log(price_real[:, :, ::n_minutes])).reshape(n_stocks, -1)\n",
    "n_minutely_returns_synthetic = np.diff(np.log(price_pred[:, :, ::n_minutes])).reshape(n_stocks, -1)\n",
    "n_minutely_returns_real.shape, n_minutely_returns_synthetic.shape"
   ]
  },
  {
   "cell_type": "code",
   "execution_count": null,
   "metadata": {},
   "outputs": [],
   "source": [
    "xlim = (\n",
    "    min(\n",
    "        minutely_returns_real.min(),\n",
    "        minutely_returns_synthetic.min(),\n",
    "        n_minutely_returns_real.min(),\n",
    "        n_minutely_returns_synthetic.min(),\n",
    "    ),\n",
    "    max(\n",
    "        minutely_returns_real.max(),\n",
    "        minutely_returns_synthetic.max(),\n",
    "        n_minutely_returns_real.max(),\n",
    "        n_minutely_returns_synthetic.max(),\n",
    "    ),\n",
    ")"
   ]
  },
  {
   "cell_type": "code",
   "execution_count": null,
   "metadata": {},
   "outputs": [],
   "source": [
    "bins = np.linspace(xlim[0], xlim[1], 75)"
   ]
  },
  {
   "cell_type": "markdown",
   "metadata": {},
   "source": [
    "## RETURNS DISTRIBUTION"
   ]
  },
  {
   "cell_type": "code",
   "execution_count": null,
   "metadata": {},
   "outputs": [],
   "source": [
    "fig, axes = plt.subplots(2, 2, figsize=(16, 9))\n",
    "axes = axes.ravel()\n",
    "\n",
    "add_label = True\n",
    "for ax, stock_name, real, synthetic in zip(axes, stock_names, minutely_returns_real, minutely_returns_synthetic):\n",
    "    ax.set_xlim(xlim)\n",
    "\n",
    "    ax.hist(\n",
    "        x=[synthetic, real],\n",
    "        label=[\"Synthetic\", \"Real\"] if add_label else None,\n",
    "        color=[\"C2\", \"C1\"],\n",
    "        bins=bins,\n",
    "        density=True,\n",
    "        log=True,\n",
    "        histtype=\"step\",\n",
    "        linewidth=3,\n",
    "    )\n",
    "\n",
    "    add_label = False\n",
    "    ax.set_title(f\"{stock_name}\", fontsize=FONT_SIZE_TITLE_AX)\n",
    "    ax.set_xlabel(\"Minutely Log-Returns\", fontsize=FONT_SIZE_LABEL)\n",
    "    ax.set_ylabel(\"Density\", fontsize=FONT_SIZE_LABEL)\n",
    "    ax.xaxis.set_tick_params(labelsize=FONT_SIZE_TICKS)\n",
    "    ax.yaxis.set_tick_params(labelsize=FONT_SIZE_TICKS)\n",
    "\n",
    "fig.suptitle(\"Returns distribution\", fontsize=FONT_SIZE_TITLE_PLOT, y=1.0)\n",
    "fig.legend(loc=\"upper center\", ncol=2, fontsize=FONT_SIZE_LEGEND, bbox_to_anchor=(0.5, 0.97), frameon=False)\n",
    "fig.tight_layout()\n",
    "plt.savefig(f\"{PROJECT_FOLDER}/plot_finali/multistock/return_distribution.pdf\")\n",
    "# plt.show()\n",
    "plt.close(fig)"
   ]
  },
  {
   "cell_type": "markdown",
   "metadata": {},
   "source": [
    "## AGGREGATIONAL GAUSSIANITY"
   ]
  },
  {
   "cell_type": "code",
   "execution_count": null,
   "metadata": {},
   "outputs": [],
   "source": [
    "fig, axes = plt.subplots(2, 2, figsize=(16, 9))\n",
    "axes = axes.ravel()\n",
    "\n",
    "add_label = True\n",
    "for ax, stock_name, real, synthetic in zip(axes, stock_names, n_minutely_returns_real, n_minutely_returns_synthetic):\n",
    "    ax.set_xlim(xlim)\n",
    "\n",
    "    ax.hist(\n",
    "        x=[synthetic, real],\n",
    "        label=[\"Synthetic\", \"Real\"] if add_label else None,\n",
    "        color=[\"C2\", \"C1\"],\n",
    "        bins=bins,\n",
    "        density=True,\n",
    "        log=True,\n",
    "        histtype=\"step\",\n",
    "        linewidth=3,\n",
    "    )\n",
    "\n",
    "    add_label = False\n",
    "    ax.set_title(f\"{stock_name}\", fontsize=FONT_SIZE_TITLE_AX)\n",
    "    ax.set_xlabel(f\"{n_minutes} Minute Log-Returns\", fontsize=FONT_SIZE_LABEL)\n",
    "    ax.set_ylabel(\"Density\", fontsize=FONT_SIZE_LABEL)\n",
    "    ax.xaxis.set_tick_params(labelsize=FONT_SIZE_TICKS)\n",
    "    ax.yaxis.set_tick_params(labelsize=FONT_SIZE_TICKS)\n",
    "\n",
    "fig.suptitle(\"Aggregational Gaussianity\", fontsize=FONT_SIZE_TITLE_PLOT, y=1.0)\n",
    "fig.legend(loc=\"upper center\", ncol=2, fontsize=FONT_SIZE_LEGEND, bbox_to_anchor=(0.5, 0.97), frameon=False)\n",
    "fig.tight_layout()\n",
    "plt.savefig(f\"{PROJECT_FOLDER}/plot_finali/multistock/aggregational_gaussianity.pdf\")\n",
    "# plt.show()\n",
    "plt.close(fig)"
   ]
  },
  {
   "cell_type": "markdown",
   "metadata": {},
   "source": [
    "## ABSENCE OF AUTOCORRELATION"
   ]
  },
  {
   "cell_type": "code",
   "execution_count": null,
   "metadata": {},
   "outputs": [],
   "source": [
    "from numpy.lib.stride_tricks import sliding_window_view"
   ]
  },
  {
   "cell_type": "code",
   "execution_count": null,
   "metadata": {},
   "outputs": [],
   "source": [
    "minutely_returns_real.shape, minutely_returns_synthetic.shape"
   ]
  },
  {
   "cell_type": "code",
   "execution_count": null,
   "metadata": {},
   "outputs": [],
   "source": [
    "window_shape = minutes_in_a_day\n",
    "rolled_minutely_returns_real = sliding_window_view(minutely_returns_real, window_shape=window_shape, axis=1)\n",
    "rolled_minutely_returns_synthetic = sliding_window_view(minutely_returns_synthetic, window_shape=window_shape, axis=1)\n",
    "rolled_minutely_returns_real.shape, rolled_minutely_returns_synthetic.shape"
   ]
  },
  {
   "cell_type": "code",
   "execution_count": null,
   "metadata": {},
   "outputs": [],
   "source": [
    "lags = [1, 10, 20, 30]\n",
    "stock_name2lag2autocorr = dict()\n",
    "for stock_name, real, synthetic in zip(stock_names, rolled_minutely_returns_real, rolled_minutely_returns_synthetic):\n",
    "    lag2autocorr = dict()\n",
    "\n",
    "    for lag in lags:\n",
    "        l_real, l_synthetic = list(), list()\n",
    "\n",
    "        for window_real, window_synthetic in zip(real, synthetic):\n",
    "            autocorr_real = np.corrcoef(window_real[:-lag], window_real[lag:])[0, 1]\n",
    "            autocorr_synthetic = np.corrcoef(window_synthetic[:-lag], window_synthetic[lag:])[0, 1]\n",
    "            l_real.append(autocorr_real)\n",
    "            l_synthetic.append(autocorr_synthetic)\n",
    "\n",
    "        lag2autocorr[lag] = (np.asarray(l_real), np.asarray(l_synthetic))\n",
    "\n",
    "    stock_name2lag2autocorr[stock_name] = lag2autocorr"
   ]
  },
  {
   "cell_type": "code",
   "execution_count": null,
   "metadata": {},
   "outputs": [],
   "source": [
    "bins = np.linspace(-1, 1, 50)"
   ]
  },
  {
   "cell_type": "code",
   "execution_count": null,
   "metadata": {},
   "outputs": [],
   "source": [
    "for stock_name, lag2autocorr in stock_name2lag2autocorr.items():\n",
    "    fig, axes = plt.subplots(2, 2, figsize=(16, 9))\n",
    "    axes = axes.ravel()\n",
    "\n",
    "    add_label = True\n",
    "    for ax, (lag, (real, synthetic)) in zip(axes, lag2autocorr.items()):\n",
    "        ax.set_xlim((-1, 1))\n",
    "\n",
    "        ax.hist(\n",
    "            x=[synthetic, real],\n",
    "            label=[\"Synthetic\", \"Real\"] if add_label else None,\n",
    "            color=[\"C2\", \"C1\"],\n",
    "            bins=bins,\n",
    "            density=True,\n",
    "            log=True,\n",
    "            histtype=\"step\",\n",
    "            linewidth=3,\n",
    "        )\n",
    "\n",
    "        add_label = False\n",
    "        ax.set_title(f\"Lag={lag}\", fontsize=FONT_SIZE_TITLE_AX)\n",
    "        ax.set_xlabel(\"Correlation Coefficient\", fontsize=FONT_SIZE_LABEL)\n",
    "        ax.set_ylabel(\"Density\", fontsize=FONT_SIZE_LABEL)\n",
    "        ax.xaxis.set_tick_params(labelsize=FONT_SIZE_TICKS)\n",
    "        ax.yaxis.set_tick_params(labelsize=FONT_SIZE_TICKS)\n",
    "\n",
    "    fig.suptitle(f\"Returns Autocorrelations {stock_name} - Window={window_shape}\", fontsize=FONT_SIZE_TITLE_PLOT, y=1.0)\n",
    "    fig.legend(loc=\"upper center\", ncol=2, fontsize=FONT_SIZE_LEGEND, bbox_to_anchor=(0.5, 0.97), frameon=False)\n",
    "    fig.tight_layout()\n",
    "    plt.savefig(\n",
    "        f\"{PROJECT_FOLDER}/plot_finali/multistock/absence_autocorrelation/absence_autocorrelation_{stock_name}.pdf\"\n",
    "    )\n",
    "    plt.show()\n",
    "    plt.close(fig)"
   ]
  },
  {
   "cell_type": "markdown",
   "metadata": {},
   "source": [
    "## VOLATILITY CLUSTERING"
   ]
  },
  {
   "cell_type": "code",
   "execution_count": null,
   "metadata": {},
   "outputs": [],
   "source": [
    "price_real.shape, price_pred.shape"
   ]
  },
  {
   "cell_type": "code",
   "execution_count": null,
   "metadata": {},
   "outputs": [],
   "source": [
    "window_shape = 20\n",
    "\n",
    "windowed_price_real = sliding_window_view(price_real, window_shape=window_shape, axis=-1)\n",
    "windowed_price_synthetic = sliding_window_view(price_pred, window_shape=window_shape, axis=-1)\n",
    "\n",
    "rolled_volatility_real = (windowed_price_real.std(axis=-1) / np.sqrt(window_shape)).reshape(n_stocks, -1)\n",
    "rolled_volatility_synthetic = (windowed_price_synthetic.std(axis=-1) / np.sqrt(window_shape)).reshape(n_stocks, -1)\n",
    "\n",
    "rolled_volatility_real.shape, rolled_volatility_synthetic.shape"
   ]
  },
  {
   "cell_type": "code",
   "execution_count": null,
   "metadata": {},
   "outputs": [],
   "source": [
    "x_indices, y_indices = [k1 for k1 in range(len(stock_names))], [\n",
    "    k2 for k2 in range(len(stock_names), 2 * len(stock_names))\n",
    "]\n",
    "\n",
    "max_days = 11\n",
    "lags = np.asarray(range(1, max_days)) * minutes_in_a_day\n",
    "\n",
    "l_real, l_synthetic = list(), list()\n",
    "for lag in lags:\n",
    "    real = np.corrcoef(rolled_volatility_real[:, lag:], rolled_volatility_real[:, :-lag])[x_indices, y_indices]\n",
    "    l_real.append(real)\n",
    "    synthetic = np.corrcoef(rolled_volatility_synthetic[:, lag:], rolled_volatility_synthetic[:, :-lag])[\n",
    "        x_indices, y_indices\n",
    "    ]\n",
    "    l_synthetic.append(synthetic)\n",
    "\n",
    "corrs_real = np.asarray(l_real).T\n",
    "corrs_synthetic = np.asarray(l_synthetic).T\n",
    "\n",
    "corrs_real.shape, corrs_synthetic.shape"
   ]
  },
  {
   "cell_type": "code",
   "execution_count": null,
   "metadata": {},
   "outputs": [],
   "source": [
    "fig, axes = plt.subplots(2, 2, figsize=(16, 9))\n",
    "axes = axes.ravel()\n",
    "\n",
    "add_label = True\n",
    "for ax, stock_name, real, synthetic in zip(axes, stock_names, corrs_real, corrs_synthetic):\n",
    "    ax.plot(range(1, max_days), real, color=\"C1\", linewidth=3, label=\"Real\" if add_label else None)\n",
    "    ax.plot(range(1, max_days), synthetic, color=\"C2\", linewidth=3, label=\"Synthetic\" if add_label else None)\n",
    "\n",
    "    add_label = False\n",
    "    ax.set_title(f\"{stock_name}\", fontsize=FONT_SIZE_TITLE_AX)\n",
    "    ax.set_xlabel(\"Lag (Days)\", fontsize=FONT_SIZE_LABEL)\n",
    "    ax.set_ylabel(\"Correlation\\nCoefficient\", fontsize=FONT_SIZE_LABEL)\n",
    "    ax.set_xticks(range(1, max_days))\n",
    "    ax.xaxis.set_tick_params(labelsize=FONT_SIZE_TICKS)\n",
    "    ax.yaxis.set_tick_params(labelsize=FONT_SIZE_TICKS)\n",
    "\n",
    "\n",
    "fig.suptitle(f\"Volatility clustering Window={window_shape}\", fontsize=FONT_SIZE_TITLE_PLOT, y=1)\n",
    "fig.legend(loc=\"upper center\", ncol=2, fontsize=FONT_SIZE_LEGEND, bbox_to_anchor=(0.5, 0.97), frameon=False)\n",
    "fig.tight_layout()\n",
    "plt.savefig(f\"{PROJECT_FOLDER}/plot_finali/multistock/volatility_clustering.pdf\")\n",
    "plt.show()\n",
    "plt.close(fig)"
   ]
  },
  {
   "cell_type": "markdown",
   "metadata": {},
   "source": [
    "## VOLUME VOLATILITY CORRELATION"
   ]
  },
  {
   "cell_type": "code",
   "execution_count": null,
   "metadata": {},
   "outputs": [],
   "source": [
    "volume_real = volume_real.reshape(n_stocks, n_days, -1)\n",
    "volume_synthetic = volume_pred.reshape(n_stocks, n_days, -1)"
   ]
  },
  {
   "cell_type": "code",
   "execution_count": null,
   "metadata": {},
   "outputs": [],
   "source": [
    "price_real.shape, volume_real.shape, price_real.shape, price_pred.shape"
   ]
  },
  {
   "cell_type": "code",
   "execution_count": null,
   "metadata": {},
   "outputs": [],
   "source": [
    "window_shape = 30"
   ]
  },
  {
   "cell_type": "code",
   "execution_count": null,
   "metadata": {},
   "outputs": [],
   "source": [
    "windowed_price_real = sliding_window_view(price_real, window_shape=window_shape, axis=-1)\n",
    "windowed_price_synthetic = sliding_window_view(price_pred, window_shape=window_shape, axis=-1)\n",
    "print(windowed_price_real.shape, windowed_price_synthetic.shape)\n",
    "\n",
    "rolled_volatility_real = (windowed_price_real.std(axis=-1) / np.sqrt(window_shape)).reshape(n_stocks, -1)\n",
    "rolled_volatility_synthetic = (windowed_price_synthetic.std(axis=-1) / np.sqrt(window_shape)).reshape(n_stocks, -1)\n",
    "\n",
    "print(rolled_volatility_real.shape, rolled_volatility_synthetic.shape)"
   ]
  },
  {
   "cell_type": "code",
   "execution_count": null,
   "metadata": {},
   "outputs": [],
   "source": [
    "windowed_volume_real = sliding_window_view(volume_real, window_shape=window_shape, axis=-1)\n",
    "windowed_volume_synthetic = sliding_window_view(volume_synthetic, window_shape=window_shape, axis=-1)\n",
    "print(windowed_volume_real.shape, windowed_volume_synthetic.shape)\n",
    "\n",
    "rolled_mean_volume_real = (windowed_volume_real.mean(axis=-1)).reshape(n_stocks, -1)\n",
    "rolled_mean_volume_synthetic = (windowed_volume_synthetic.mean(axis=-1)).reshape(n_stocks, -1)\n",
    "print(rolled_mean_volume_real.shape, rolled_mean_volume_synthetic.shape)"
   ]
  },
  {
   "cell_type": "code",
   "execution_count": null,
   "metadata": {},
   "outputs": [],
   "source": [
    "window_shape = 390\n",
    "\n",
    "windowed_rolled_volatility_real = sliding_window_view(rolled_volatility_real, window_shape=window_shape, axis=-1)\n",
    "windowed_rolled_volatility_synthetic = sliding_window_view(\n",
    "    rolled_volatility_synthetic, window_shape=window_shape, axis=-1\n",
    ")\n",
    "print(windowed_rolled_volatility_real.shape, windowed_rolled_volatility_synthetic.shape)\n",
    "\n",
    "windowed_rolled_mean_volume_real = sliding_window_view(rolled_mean_volume_real, window_shape=window_shape, axis=-1)\n",
    "windowed_rolled_mean_volume_synthetic = sliding_window_view(\n",
    "    rolled_mean_volume_synthetic, window_shape=window_shape, axis=-1\n",
    ")\n",
    "print(windowed_rolled_mean_volume_real.shape, windowed_rolled_mean_volume_synthetic.shape)"
   ]
  },
  {
   "cell_type": "code",
   "execution_count": null,
   "metadata": {},
   "outputs": [],
   "source": [
    "d = dict()\n",
    "for stock_name, real_volume, real_volatility, synthetic_volume, synthetic_volatility in zip(\n",
    "    stock_names,\n",
    "    windowed_rolled_mean_volume_real,\n",
    "    windowed_rolled_volatility_real,\n",
    "    windowed_rolled_mean_volume_synthetic,\n",
    "    windowed_rolled_volatility_synthetic,\n",
    "):\n",
    "\n",
    "    l_real = list()\n",
    "    for (\n",
    "        window_volume,\n",
    "        window_volatility,\n",
    "    ) in zip(real_volume, real_volatility):\n",
    "        real_corr = np.corrcoef(window_volume, window_volatility)[0, 1]\n",
    "        l_real.append(real_corr)\n",
    "\n",
    "    l_synthetic = list()\n",
    "    for (\n",
    "        window_volume,\n",
    "        window_volatility,\n",
    "    ) in zip(synthetic_volume, synthetic_volatility):\n",
    "        synthetic_corr = np.corrcoef(window_volume, window_volatility)[0, 1]\n",
    "        l_synthetic.append(synthetic_corr)\n",
    "\n",
    "    d[stock_name] = (np.asarray(l_real), np.asarray(l_synthetic))"
   ]
  },
  {
   "cell_type": "code",
   "execution_count": null,
   "metadata": {},
   "outputs": [],
   "source": [
    "bins = np.linspace(-1, 1, 50)"
   ]
  },
  {
   "cell_type": "code",
   "execution_count": null,
   "metadata": {},
   "outputs": [],
   "source": [
    "fig, axes = plt.subplots(2, 2, figsize=(16, 9))\n",
    "axes = axes.ravel()\n",
    "\n",
    "add_label = True\n",
    "for ax, (stock_name, (corrs_real, corrs_synthetic)) in zip(axes, d.items()):\n",
    "    ax.set_xlim((-1, 1))\n",
    "\n",
    "    ax.hist(\n",
    "        x=[corrs_synthetic, corrs_real],\n",
    "        label=[\"Synthetic\", \"Real\"] if add_label else None,\n",
    "        color=[\"C2\", \"C1\"],\n",
    "        bins=bins,\n",
    "        density=True,\n",
    "        log=True,\n",
    "        histtype=\"step\",\n",
    "        linewidth=3,\n",
    "    )\n",
    "\n",
    "    add_label = False\n",
    "    ax.set_title(f\"{stock_name}\", fontsize=FONT_SIZE_TITLE_AX)\n",
    "    ax.set_xlabel(\"Correlation Coefficient\", fontsize=FONT_SIZE_LABEL)\n",
    "    ax.set_ylabel(\"Density\", fontsize=FONT_SIZE_LABEL)\n",
    "    ax.xaxis.set_tick_params(labelsize=FONT_SIZE_TICKS)\n",
    "    ax.yaxis.set_tick_params(labelsize=FONT_SIZE_TICKS)\n",
    "\n",
    "fig.suptitle(f\"Volume-Volatility Correlation Window={window_shape}\", fontsize=FONT_SIZE_TITLE_PLOT, y=1)\n",
    "fig.legend(loc=\"upper center\", ncol=2, fontsize=FONT_SIZE_LEGEND, bbox_to_anchor=(0.5, 0.97), frameon=False)\n",
    "fig.tight_layout()\n",
    "# plt.savefig(f\"{PROJECT_FOLDER}/plot_finali/multistock/volume_volatility_correlation.pdf\")\n",
    "plt.show()\n",
    "plt.close(fig)"
   ]
  },
  {
   "cell_type": "code",
   "execution_count": null,
   "metadata": {},
   "outputs": [],
   "source": []
  }
 ],
 "metadata": {
  "kernelspec": {
   "display_name": "Python 3 (ipykernel)",
   "language": "python",
   "name": "python3"
  },
  "language_info": {
   "codemirror_mode": {
    "name": "ipython",
    "version": 3
   },
   "file_extension": ".py",
   "mimetype": "text/x-python",
   "name": "python",
   "nbconvert_exporter": "python",
   "pygments_lexer": "ipython3",
   "version": "3.9.13"
  }
 },
 "nbformat": 4,
 "nbformat_minor": 1
}
