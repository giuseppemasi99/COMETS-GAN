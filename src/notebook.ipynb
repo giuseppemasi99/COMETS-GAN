{
 "cells": [
  {
   "cell_type": "code",
   "execution_count": null,
   "metadata": {},
   "outputs": [],
   "source": [
    "import pandas as pd\n",
    "import numpy as np\n",
    "import seaborn as sb"
   ]
  },
  {
   "cell_type": "code",
   "execution_count": null,
   "metadata": {},
   "outputs": [],
   "source": [
    "DATA = \"../data/\"\n",
    "!ls $DATA"
   ]
  },
  {
   "cell_type": "code",
   "execution_count": null,
   "metadata": {},
   "outputs": [],
   "source": [
    "df = pd.read_csv(DATA + \"ohlc_KO_PEP_NVDA_KSU_test.csv\")\n",
    "# print(df.columns)\n",
    "df = df.drop(\n",
    "    [\n",
    "        \"hour_slot\",\n",
    "        \"minute_slot\",\n",
    "        \"weekday\",\n",
    "        \"symbol\",\n",
    "        \"open_KO\",\n",
    "        \"high_KO\",\n",
    "        \"low_KO\",\n",
    "        \"norders_KO\",\n",
    "        \"close_KO\",\n",
    "        \"open_PEP\",\n",
    "        \"high_PEP\",\n",
    "        \"low_PEP\",\n",
    "        \"norders_PEP\",\n",
    "        \"close_PEP\",\n",
    "        \"open_NVDA\",\n",
    "        \"high_NVDA\",\n",
    "        \"low_NVDA\",\n",
    "        \"norders_NVDA\",\n",
    "        \"close_NVDA\",\n",
    "        \"open_KSU\",\n",
    "        \"high_KSU\",\n",
    "        \"low_KSU\",\n",
    "        \"norders_KSU\",\n",
    "        \"close_KSU\",\n",
    "    ],\n",
    "    axis=1,\n",
    ")\n",
    "# print(df.columns)\n",
    "# df.head()"
   ]
  },
  {
   "cell_type": "code",
   "execution_count": null,
   "metadata": {},
   "outputs": [],
   "source": [
    "targets_v = [\"volume_KO\", \"volume_PEP\", \"volume_NVDA\", \"volume_KSU\"]\n",
    "\n",
    "targets_p = [\"mid_price_KO\", \"mid_price_PEP\", \"mid_price_NVDA\", \"mid_price_KSU\"]"
   ]
  },
  {
   "cell_type": "code",
   "execution_count": null,
   "metadata": {},
   "outputs": [],
   "source": [
    "corr = df[targets_p].corr(numeric_only=True)\n",
    "sb.heatmap(corr, cmap=\"Blues\", annot=True)"
   ]
  },
  {
   "cell_type": "code",
   "execution_count": null,
   "metadata": {},
   "outputs": [],
   "source": []
  }
 ],
 "metadata": {
  "kernelspec": {
   "display_name": "Python 3",
   "language": "python",
   "name": "python3"
  },
  "language_info": {
   "codemirror_mode": {
    "name": "ipython",
    "version": 2
   },
   "file_extension": ".py",
   "mimetype": "text/x-python",
   "name": "python",
   "nbconvert_exporter": "python",
   "pygments_lexer": "ipython2",
   "version": "2.7.6"
  }
 },
 "nbformat": 4,
 "nbformat_minor": 0
}
