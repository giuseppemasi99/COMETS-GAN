{
 "cells": [
  {
   "cell_type": "code",
   "execution_count": null,
   "metadata": {},
   "outputs": [],
   "source": [
    "import pandas as pd\n",
    "import numpy as np\n",
    "import seaborn as sb"
   ]
  },
  {
   "cell_type": "code",
   "execution_count": null,
   "metadata": {},
   "outputs": [],
   "source": [
    "DATA = \"../data/\"\n",
    "!ls $DATA"
   ]
  },
  {
   "cell_type": "code",
   "execution_count": null,
   "metadata": {},
   "outputs": [],
   "source": [
    "df = pd.read_csv(DATA + \"ohlc_KO_PEP_NVDA_KSU_train.csv\")\n",
    "# print(df.columns)\n",
    "df = df.drop(\n",
    "    [\n",
    "        \"hour_slot\",\n",
    "        \"minute_slot\",\n",
    "        \"weekday\",\n",
    "        \"symbol\",\n",
    "        \"open_KO\",\n",
    "        \"high_KO\",\n",
    "        \"low_KO\",\n",
    "        \"norders_KO\",\n",
    "        \"close_KO\",\n",
    "        \"open_PEP\",\n",
    "        \"high_PEP\",\n",
    "        \"low_PEP\",\n",
    "        \"norders_PEP\",\n",
    "        \"close_PEP\",\n",
    "        \"open_NVDA\",\n",
    "        \"high_NVDA\",\n",
    "        \"low_NVDA\",\n",
    "        \"norders_NVDA\",\n",
    "        \"close_NVDA\",\n",
    "        \"open_KSU\",\n",
    "        \"high_KSU\",\n",
    "        \"low_KSU\",\n",
    "        \"norders_KSU\",\n",
    "        \"close_KSU\",\n",
    "    ],\n",
    "    axis=1,\n",
    ")\n",
    "# print(df.columns)\n",
    "# df.head()"
   ]
  },
  {
   "cell_type": "code",
   "execution_count": null,
   "metadata": {},
   "outputs": [],
   "source": [
    "targets = [\"volume_KO\", \"volume_PEP\", \"volume_NVDA\", \"volume_KSU\"]"
   ]
  },
  {
   "cell_type": "code",
   "execution_count": null,
   "metadata": {},
   "outputs": [],
   "source": [
    "df[targets].min(), df[targets].max(), df[targets].mean(), df[targets].std()"
   ]
  },
  {
   "cell_type": "code",
   "execution_count": null,
   "metadata": {},
   "outputs": [],
   "source": [
    "df[targets]"
   ]
  },
  {
   "cell_type": "code",
   "execution_count": null,
   "metadata": {},
   "outputs": [],
   "source": [
    "from sklearn.preprocessing import MinMaxScaler\n",
    "from scipy.special import expit\n",
    "\n",
    "\n",
    "scaler = MinMaxScaler()\n",
    "\n",
    "scaler.fit(df[targets])\n",
    "scaled = scaler.transform(df[targets])"
   ]
  },
  {
   "cell_type": "code",
   "execution_count": null,
   "metadata": {},
   "outputs": [],
   "source": [
    "scaled.shape"
   ]
  },
  {
   "cell_type": "code",
   "execution_count": null,
   "metadata": {},
   "outputs": [],
   "source": [
    "fake = np.array([[-1, -5, 10, -32], [10, 0.6, -30.5, 1]])\n",
    "fake = expit(fake)\n",
    "fake.shape\n",
    "scaler.inverse_transform(fake)"
   ]
  },
  {
   "cell_type": "code",
   "execution_count": null,
   "metadata": {},
   "outputs": [],
   "source": []
  },
  {
   "cell_type": "code",
   "execution_count": null,
   "metadata": {},
   "outputs": [],
   "source": [
    "corr = df.corr(numeric_only=True)\n",
    "sb.heatmap(corr, cmap=\"Blues\", annot=True)"
   ]
  }
 ],
 "metadata": {
  "kernelspec": {
   "display_name": "Python 3",
   "language": "python",
   "name": "python3"
  },
  "language_info": {
   "codemirror_mode": {
    "name": "ipython",
    "version": 2
   },
   "file_extension": ".py",
   "mimetype": "text/x-python",
   "name": "python",
   "nbconvert_exporter": "python",
   "pygments_lexer": "ipython2",
   "version": "2.7.6"
  }
 },
 "nbformat": 4,
 "nbformat_minor": 0
}
