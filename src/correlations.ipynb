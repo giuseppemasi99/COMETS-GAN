{
 "cells": [
  {
   "cell_type": "code",
   "execution_count": null,
   "metadata": {},
   "outputs": [],
   "source": [
    "import pandas as pd\n",
    "import numpy as np\n",
    "import seaborn as sb\n",
    "import matplotlib.pyplot as plt\n",
    "from matplotlib.lines import Line2D\n",
    "import pickle\n",
    "import tqdm\n",
    "from sklearn.metrics import mean_squared_error"
   ]
  },
  {
   "cell_type": "code",
   "execution_count": null,
   "metadata": {},
   "outputs": [],
   "source": [
    "plt.rcParams[\"figure.figsize\"] = [16, 9]\n",
    "# plt.rcParams[\"figure.dpi\"] = 300\n",
    "plt.rcParams[\"font.size\"] = 20\n",
    "plt.rcParams[\"axes.labelsize\"] = 20\n",
    "plt.rcParams[\"axes.titlesize\"] = 24\n",
    "plt.rcParams[\"xtick.labelsize\"] = 16\n",
    "plt.rcParams[\"ytick.labelsize\"] = 16\n",
    "plt.rcParams[\"font.family\"] = \"serif\""
   ]
  },
  {
   "cell_type": "code",
   "execution_count": null,
   "metadata": {},
   "outputs": [],
   "source": [
    "FONT_SIZE_TITLE_PLOT = 48  # 40\n",
    "FONT_SIZE_TITLE_AX = 36  # 30\n",
    "FONT_SIZE_LABEL = 30  # 24\n",
    "FONT_SIZE_TICKS = 24  # 20\n",
    "FONT_SIZE_LEGEND = 32  # 28"
   ]
  },
  {
   "cell_type": "code",
   "execution_count": null,
   "metadata": {},
   "outputs": [],
   "source": [
    "PROJECT_FOLDER = \"PycharmProjects/thesis-gan\""
   ]
  },
  {
   "cell_type": "code",
   "execution_count": null,
   "metadata": {},
   "outputs": [],
   "source": [
    "df_cross_corr_prices_train = pd.read_csv(f\"{PROJECT_FOLDER}/data/cross_corr_dist/cross_corr_dist_price_train.csv\")\n",
    "df_cross_corr_prices_train = df_cross_corr_prices_train[\n",
    "    [\n",
    "        \"New data, multistock, prices, conv - train_corr_dist/KO_mid_price-KSU_mid_price\",\n",
    "        \"New data, multistock, prices, conv - train_corr_dist/KO_mid_price-NVDA_mid_price\",\n",
    "        \"New data, multistock, prices, conv - train_corr_dist/KO_mid_price-NVDA_mid_price\",\n",
    "        \"New data, multistock, prices, conv - train_corr_dist/KO_mid_price-PEP_mid_price\",\n",
    "        \"New data, multistock, prices, conv - train_corr_dist/NVDA_mid_price-KSU_mid_price\",\n",
    "        \"New data, multistock, prices, conv - train_corr_dist/PEP_mid_price-KSU_mid_price\",\n",
    "        \"New data, multistock, prices, conv - train_corr_dist/PEP_mid_price-NVDA_mid_price\",\n",
    "    ]\n",
    "]\n",
    "cross_corr_distance_price_train = df_cross_corr_prices_train.mean(axis=1).values"
   ]
  },
  {
   "cell_type": "code",
   "execution_count": null,
   "metadata": {},
   "outputs": [],
   "source": [
    "df_cross_corr_prices_val = pd.read_csv(f\"{PROJECT_FOLDER}/data/cross_corr_dist/cross_corr_dist_price_val.csv\")\n",
    "df_cross_corr_prices_val = df_cross_corr_prices_val[\n",
    "    [\n",
    "        \"New data, multistock, prices, conv - val_corr_dist/KO_mid_price-KSU_mid_price\",\n",
    "        \"New data, multistock, prices, conv - val_corr_dist/KO_mid_price-NVDA_mid_price\",\n",
    "        \"New data, multistock, prices, conv - val_corr_dist/KO_mid_price-NVDA_mid_price\",\n",
    "        \"New data, multistock, prices, conv - val_corr_dist/KO_mid_price-PEP_mid_price\",\n",
    "        \"New data, multistock, prices, conv - val_corr_dist/NVDA_mid_price-KSU_mid_price\",\n",
    "        \"New data, multistock, prices, conv - val_corr_dist/PEP_mid_price-KSU_mid_price\",\n",
    "        \"New data, multistock, prices, conv - val_corr_dist/PEP_mid_price-NVDA_mid_price\",\n",
    "    ]\n",
    "]\n",
    "cross_corr_distance_price_val = df_cross_corr_prices_val.mean(axis=1).values"
   ]
  },
  {
   "cell_type": "code",
   "execution_count": null,
   "metadata": {},
   "outputs": [],
   "source": [
    "df_cross_corr_volumes_train = pd.read_csv(f\"{PROJECT_FOLDER}/data/cross_corr_dist/cross_corr_dist_volume_train.csv\")\n",
    "df_cross_corr_volumes_train = df_cross_corr_volumes_train[\n",
    "    [\n",
    "        \"New data, multistock, volumes, conv - train_corr_dist/KO_volume-KSU_volume\",\n",
    "        \"New data, multistock, volumes, conv - train_corr_dist/KO_volume-NVDA_volume\",\n",
    "        \"New data, multistock, volumes, conv - train_corr_dist/KO_volume-NVDA_volume\",\n",
    "        \"New data, multistock, volumes, conv - train_corr_dist/KO_volume-PEP_volume\",\n",
    "        \"New data, multistock, volumes, conv - train_corr_dist/NVDA_volume-KSU_volume\",\n",
    "        \"New data, multistock, volumes, conv - train_corr_dist/PEP_volume-KSU_volume\",\n",
    "        \"New data, multistock, volumes, conv - train_corr_dist/PEP_volume-NVDA_volume\",\n",
    "    ]\n",
    "]\n",
    "cross_corr_distance_volume_train = df_cross_corr_volumes_train.mean(axis=1).values"
   ]
  },
  {
   "cell_type": "code",
   "execution_count": null,
   "metadata": {},
   "outputs": [],
   "source": [
    "df_cross_corr_volumes_val = pd.read_csv(f\"{PROJECT_FOLDER}/data/cross_corr_dist/cross_corr_dist_volume_val.csv\")\n",
    "df_cross_corr_volumes_val = df_cross_corr_volumes_val[\n",
    "    [\n",
    "        \"New data, multistock, volumes, conv - val_corr_dist/KO_volume-KSU_volume\",\n",
    "        \"New data, multistock, volumes, conv - val_corr_dist/KO_volume-NVDA_volume\",\n",
    "        \"New data, multistock, volumes, conv - val_corr_dist/KO_volume-NVDA_volume\",\n",
    "        \"New data, multistock, volumes, conv - val_corr_dist/KO_volume-PEP_volume\",\n",
    "        \"New data, multistock, volumes, conv - val_corr_dist/NVDA_volume-KSU_volume\",\n",
    "        \"New data, multistock, volumes, conv - val_corr_dist/PEP_volume-KSU_volume\",\n",
    "        \"New data, multistock, volumes, conv - val_corr_dist/PEP_volume-NVDA_volume\",\n",
    "    ]\n",
    "]\n",
    "cross_corr_distance_volume_val = df_cross_corr_volumes_val.mean(axis=1).values"
   ]
  },
  {
   "cell_type": "code",
   "execution_count": null,
   "metadata": {},
   "outputs": [],
   "source": [
    "MAX_EPOCHS = 150"
   ]
  },
  {
   "cell_type": "code",
   "execution_count": null,
   "metadata": {},
   "outputs": [],
   "source": [
    "fig = plt.figure(1, figsize=(16, 9))\n",
    "plt.plot(cross_corr_distance_price_train[:MAX_EPOCHS], color=\"C8\", label=\"Price\")\n",
    "plt.plot(cross_corr_distance_volume_train[:MAX_EPOCHS], color=\"C9\", label=\"Volume\")\n",
    "\n",
    "plt.xlabel(\"Epoch\", fontsize=FONT_SIZE_LABEL)\n",
    "plt.ylabel(r\"$MSE(\\rho(\\cdot, \\cdot), \\rho(\\cdot, \\cdot))$\", fontsize=FONT_SIZE_LABEL, rotation=90)\n",
    "plt.xticks(fontsize=FONT_SIZE_TICKS)\n",
    "plt.yticks(fontsize=FONT_SIZE_TICKS)\n",
    "\n",
    "fig.suptitle(\"Cross-Correlation Distance - Train\", fontsize=FONT_SIZE_TITLE_PLOT, y=1)\n",
    "fig.legend(loc=\"upper center\", ncol=2, fontsize=FONT_SIZE_LEGEND, frameon=False, bbox_to_anchor=(0.5, 0.97))\n",
    "plt.tight_layout()\n",
    "plt.savefig(f\"{PROJECT_FOLDER}/plot_finali/multistock/corr_dist/cross_corr_dist_train.pdf\")\n",
    "# plt.show()\n",
    "plt.close(fig)"
   ]
  },
  {
   "cell_type": "code",
   "execution_count": null,
   "metadata": {},
   "outputs": [],
   "source": [
    "fig = plt.figure(1, figsize=(16, 9))\n",
    "plt.plot(cross_corr_distance_price_val[:MAX_EPOCHS], color=\"C8\", label=\"Price\")\n",
    "plt.plot(cross_corr_distance_volume_val[:MAX_EPOCHS], color=\"C9\", label=\"Volume\")\n",
    "\n",
    "plt.xlabel(\"Epoch\", fontsize=FONT_SIZE_LABEL)\n",
    "plt.ylabel(r\"$MSE(\\rho(\\cdot, \\cdot), \\rho(\\cdot, \\cdot))$\", fontsize=FONT_SIZE_LABEL, rotation=90)\n",
    "plt.xticks(fontsize=FONT_SIZE_TICKS)\n",
    "plt.yticks(fontsize=FONT_SIZE_TICKS)\n",
    "\n",
    "fig.suptitle(\"Cross-Correlation Distance - Validation\", fontsize=FONT_SIZE_TITLE_PLOT, y=1)\n",
    "fig.legend(loc=\"upper center\", ncol=2, fontsize=FONT_SIZE_LEGEND, frameon=False, bbox_to_anchor=(0.5, 0.97))\n",
    "plt.tight_layout()\n",
    "plt.savefig(f\"{PROJECT_FOLDER}/plot_finali/multistock/corr_dist/cross_corr_dist_val.pdf\")\n",
    "# plt.show()\n",
    "plt.close(fig)"
   ]
  },
  {
   "cell_type": "code",
   "execution_count": null,
   "metadata": {},
   "outputs": [],
   "source": [
    "df_val = pd.read_csv(f\"{PROJECT_FOLDER}/data/midprice_volume__KO_PEP_NVDA_KSU__val.csv\")\n",
    "df_val.corr()"
   ]
  },
  {
   "cell_type": "code",
   "execution_count": null,
   "metadata": {},
   "outputs": [],
   "source": []
  }
 ],
 "metadata": {
  "kernelspec": {
   "display_name": "Python 3",
   "language": "python",
   "name": "python3"
  },
  "language_info": {
   "codemirror_mode": {
    "name": "ipython",
    "version": 2
   },
   "file_extension": ".py",
   "mimetype": "text/x-python",
   "name": "python",
   "nbconvert_exporter": "python",
   "pygments_lexer": "ipython2",
   "version": "2.7.6"
  }
 },
 "nbformat": 4,
 "nbformat_minor": 0
}
