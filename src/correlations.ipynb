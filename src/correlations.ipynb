{
 "cells": [
  {
   "cell_type": "code",
   "execution_count": null,
   "metadata": {},
   "outputs": [],
   "source": [
    "import pandas as pd\n",
    "import numpy as np\n",
    "import seaborn as sb\n",
    "import matplotlib.pyplot as plt\n",
    "from matplotlib.lines import Line2D\n",
    "import pickle\n",
    "import tqdm\n",
    "from sklearn.metrics import mean_squared_error"
   ]
  },
  {
   "cell_type": "code",
   "execution_count": null,
   "metadata": {},
   "outputs": [],
   "source": [
    "plt.rcParams[\"figure.figsize\"] = [16, 9]\n",
    "# plt.rcParams[\"figure.dpi\"] = 300\n",
    "plt.rcParams[\"font.size\"] = 20\n",
    "plt.rcParams[\"axes.labelsize\"] = 20\n",
    "plt.rcParams[\"axes.titlesize\"] = 24\n",
    "plt.rcParams[\"xtick.labelsize\"] = 16\n",
    "plt.rcParams[\"ytick.labelsize\"] = 16\n",
    "plt.rcParams[\"font.family\"] = \"serif\""
   ]
  },
  {
   "cell_type": "code",
   "execution_count": null,
   "metadata": {},
   "outputs": [],
   "source": [
    "FONT_SIZE_TITLE_PLOT = 48  # 40\n",
    "FONT_SIZE_TITLE_AX = 36  # 30\n",
    "FONT_SIZE_LABEL = 30  # 24\n",
    "FONT_SIZE_TICKS = 24  # 20\n",
    "FONT_SIZE_LEGEND = 32  # 28"
   ]
  },
  {
   "cell_type": "code",
   "execution_count": null,
   "metadata": {},
   "outputs": [],
   "source": [
    "PROJECT_FOLDER = \"PycharmProjects/thesis-gan\""
   ]
  },
  {
   "cell_type": "code",
   "execution_count": null,
   "metadata": {},
   "outputs": [],
   "source": [
    "df_cross_corr_prices = pd.read_csv(f\"{PROJECT_FOLDER}/data/wandb_export_2023-04-17T15_51_58.484+02_00.csv\")\n",
    "df_cross_corr_prices = df_cross_corr_prices[\n",
    "    [\n",
    "        \"New data, multistock, prices, conv - val_corr_dist/KO_mid_price-KSU_mid_price\",\n",
    "        \"New data, multistock, prices, conv - val_corr_dist/KO_mid_price-NVDA_mid_price\",\n",
    "        \"New data, multistock, prices, conv - val_corr_dist/KO_mid_price-NVDA_mid_price\",\n",
    "        \"New data, multistock, prices, conv - val_corr_dist/KO_mid_price-PEP_mid_price\",\n",
    "        \"New data, multistock, prices, conv - val_corr_dist/NVDA_mid_price-KSU_mid_price\",\n",
    "        \"New data, multistock, prices, conv - val_corr_dist/PEP_mid_price-KSU_mid_price\",\n",
    "        \"New data, multistock, prices, conv - val_corr_dist/PEP_mid_price-NVDA_mid_price\",\n",
    "    ]\n",
    "]\n",
    "cross_corr_distance_price = df_cross_corr_prices.mean(axis=1).values"
   ]
  },
  {
   "cell_type": "code",
   "execution_count": null,
   "metadata": {},
   "outputs": [],
   "source": [
    "fig = plt.figure(1, figsize=(16, 9))\n",
    "plt.plot(cross_corr_distance_price, color=\"C8\", label=\"Price\")\n",
    "\n",
    "plt.xlabel(\"Epoch\", fontsize=FONT_SIZE_LABEL)\n",
    "plt.ylabel(r\"$MSE(\\rho(\\cdot, \\cdot), \\rho(\\cdot, \\cdot))$\", fontsize=FONT_SIZE_LABEL, rotation=90)\n",
    "plt.xticks(fontsize=FONT_SIZE_TICKS)\n",
    "plt.yticks(fontsize=FONT_SIZE_TICKS)\n",
    "\n",
    "fig.suptitle(\"Average Cross-Correlation Distance\", fontsize=FONT_SIZE_TITLE_AX, y=1)\n",
    "fig.legend(loc=\"upper center\", ncol=2, fontsize=FONT_SIZE_LEGEND, frameon=False, bbox_to_anchor=(0.5, 0.97))\n",
    "plt.tight_layout()\n",
    "plt.show()\n",
    "plt.close(fig)"
   ]
  },
  {
   "cell_type": "code",
   "execution_count": null,
   "metadata": {},
   "outputs": [],
   "source": [
    "fig, axes = plt.subplots(2, 2, figsize=(16, 9))\n",
    "axes = axes.ravel()\n",
    "\n",
    "add_label = True\n",
    "for (\n",
    "    ax,\n",
    "    stock_name,\n",
    "    real,\n",
    "    synthetic,\n",
    ") in zip(axes, stock_names, price_real_, price_pred_):\n",
    "    ax.plot(history_indexes, real[:390], color=\"C0\", label=\"Observed\" if add_label else None)\n",
    "    ax.plot(continuation_indexes, real[390:], color=\"C1\", label=\"Real continuation\" if add_label else None)\n",
    "    ax.plot(continuation_indexes, synthetic[390:], color=\"C2\", label=\"Synthetic continuation\" if add_label else None)\n",
    "    ax.axvline(x=390, color=\"r\")\n",
    "\n",
    "    ax.set_title(stock_name, fontsize=FONT_SIZE_TITLE_AX)\n",
    "    ax.set_xlabel(\"Steps\", fontsize=FONT_SIZE_LABEL)\n",
    "    ax.set_ylabel(\"Price ($)\", fontsize=FONT_SIZE_LABEL, rotation=90)\n",
    "    ax.xaxis.set_tick_params(labelsize=FONT_SIZE_TICKS)\n",
    "    ax.yaxis.set_tick_params(labelsize=FONT_SIZE_TICKS)\n",
    "    ax.set_xticks(list(ax.get_xticks()[1:-1]) + [390])\n",
    "\n",
    "    add_label = False\n",
    "\n",
    "fig.suptitle(\"Prices\", fontsize=FONT_SIZE_TITLE_PLOT, y=1)\n",
    "fig.legend(loc=\"upper center\", ncol=3, fontsize=FONT_SIZE_LEGEND, frameon=False, bbox_to_anchor=(0.5, 0.97))\n",
    "fig.tight_layout()\n",
    "# plt.savefig(f\"{PROJECT_FOLDER}/plot_finali/multistock/prices.pdf\")\n",
    "plt.show()\n",
    "plt.close(fig)"
   ]
  }
 ],
 "metadata": {
  "kernelspec": {
   "display_name": "Python 3",
   "language": "python",
   "name": "python3"
  },
  "language_info": {
   "codemirror_mode": {
    "name": "ipython",
    "version": 2
   },
   "file_extension": ".py",
   "mimetype": "text/x-python",
   "name": "python",
   "nbconvert_exporter": "python",
   "pygments_lexer": "ipython2",
   "version": "2.7.6"
  }
 },
 "nbformat": 4,
 "nbformat_minor": 0
}
