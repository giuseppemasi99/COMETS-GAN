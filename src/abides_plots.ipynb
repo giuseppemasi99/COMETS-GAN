{
 "cells": [
  {
   "cell_type": "code",
   "execution_count": null,
   "metadata": {},
   "outputs": [],
   "source": [
    "import pandas as pd\n",
    "import numpy as np\n",
    "import seaborn as sb\n",
    "import matplotlib.pyplot as plt\n",
    "import pickle\n",
    "from matplotlib.lines import Line2D\n",
    "import scipy.stats as scs\n",
    "from itertools import combinations"
   ]
  },
  {
   "cell_type": "code",
   "execution_count": null,
   "metadata": {},
   "outputs": [],
   "source": [
    "!pwd"
   ]
  },
  {
   "cell_type": "code",
   "execution_count": null,
   "metadata": {},
   "outputs": [],
   "source": [
    "plt.rcParams[\"figure.figsize\"] = [16, 9]\n",
    "# plt.rcParams[\"figure.dpi\"] = 300\n",
    "plt.rcParams[\"font.size\"] = 20\n",
    "plt.rcParams[\"axes.labelsize\"] = 20\n",
    "plt.rcParams[\"axes.titlesize\"] = 24\n",
    "plt.rcParams[\"xtick.labelsize\"] = 16\n",
    "plt.rcParams[\"ytick.labelsize\"] = 16\n",
    "plt.rcParams[\"font.family\"] = \"serif\""
   ]
  },
  {
   "cell_type": "code",
   "execution_count": null,
   "metadata": {},
   "outputs": [],
   "source": [
    "PROJECT_FOLDER = \"PycharmProjects/thesis-gan\""
   ]
  },
  {
   "cell_type": "code",
   "execution_count": null,
   "metadata": {},
   "outputs": [],
   "source": [
    "stock_names = [\"KO\", \"PEP\", \"NVDA\", \"KSU\"]"
   ]
  },
  {
   "cell_type": "code",
   "execution_count": null,
   "metadata": {},
   "outputs": [],
   "source": [
    "RUN_ID_PRICE = \"iksf94ne\"\n",
    "EPOCH_PRICE = 260\n",
    "PATH_PICKLE_REAL_PRICE = f\"{PROJECT_FOLDER}/storage/thesis-gan/{RUN_ID_PRICE}/reals.pickle\"\n",
    "PATH_PICKLE_PRED_PRICE = f\"{PROJECT_FOLDER}/storage/thesis-gan/{RUN_ID_PRICE}/preds_epoch={EPOCH_PRICE}-target_price=mid_price-target_volume=None.pickle\""
   ]
  },
  {
   "cell_type": "code",
   "execution_count": null,
   "metadata": {},
   "outputs": [],
   "source": [
    "RUN_ID_VOLUME = \"3ogpusxf\"\n",
    "EPOCH_VOLUME = 71\n",
    "PATH_PICKLE_REAL_VOLUME = f\"{PROJECT_FOLDER}/storage/thesis-gan/{RUN_ID_VOLUME}/reals.pickle\"\n",
    "PATH_PICKLE_PRED_VOLUME = f\"{PROJECT_FOLDER}/storage/thesis-gan/{RUN_ID_VOLUME}/preds_epoch={EPOCH_VOLUME}-target_price=None-target_volume=volume.pickle\""
   ]
  },
  {
   "cell_type": "code",
   "execution_count": null,
   "metadata": {},
   "outputs": [],
   "source": [
    "with open(PATH_PICKLE_REAL_PRICE, \"rb\") as handle:\n",
    "    real_price_dict = pickle.load(handle)\n",
    "with open(PATH_PICKLE_PRED_PRICE, \"rb\") as handle:\n",
    "    pred_price_dict = pickle.load(handle)"
   ]
  },
  {
   "cell_type": "code",
   "execution_count": null,
   "metadata": {},
   "outputs": [],
   "source": [
    "with open(PATH_PICKLE_REAL_VOLUME, \"rb\") as handle:\n",
    "    real_volume_dict = pickle.load(handle)\n",
    "with open(PATH_PICKLE_PRED_VOLUME, \"rb\") as handle:\n",
    "    pred_volume_dict = pickle.load(handle)"
   ]
  },
  {
   "cell_type": "code",
   "execution_count": null,
   "metadata": {},
   "outputs": [],
   "source": [
    "real_price_dict.keys(), pred_price_dict.keys()"
   ]
  },
  {
   "cell_type": "code",
   "execution_count": null,
   "metadata": {},
   "outputs": [],
   "source": [
    "real_volume_dict.keys(), pred_volume_dict.keys()"
   ]
  },
  {
   "cell_type": "code",
   "execution_count": null,
   "metadata": {},
   "outputs": [],
   "source": [
    "x = real_price_dict[\"x\"]\n",
    "x_hat = pred_price_dict[\"x_hat\"]\n",
    "x.shape, x_hat.shape"
   ]
  },
  {
   "cell_type": "code",
   "execution_count": null,
   "metadata": {},
   "outputs": [],
   "source": [
    "price_real = real_price_dict[\"prices\"]\n",
    "price_pred = pred_price_dict[\"pred_prices\"]\n",
    "price_real.shape, price_pred.shape"
   ]
  },
  {
   "cell_type": "code",
   "execution_count": null,
   "metadata": {},
   "outputs": [],
   "source": [
    "volume_real = real_volume_dict[\"volumes\"]\n",
    "volume_pred = pred_volume_dict[\"pred_volumes\"]\n",
    "volume_real.shape, volume_pred.shape"
   ]
  },
  {
   "cell_type": "code",
   "execution_count": null,
   "metadata": {},
   "outputs": [],
   "source": [
    "history_indexes = np.arange(390)\n",
    "continuation_indexes = np.arange(390, price_real.shape[1])\n",
    "history_indexes.shape, continuation_indexes.shape"
   ]
  },
  {
   "cell_type": "code",
   "execution_count": null,
   "metadata": {},
   "outputs": [],
   "source": [
    "price_real.shape, price_pred.shape"
   ]
  },
  {
   "cell_type": "code",
   "execution_count": null,
   "metadata": {},
   "outputs": [],
   "source": [
    "price_real_ = price_real / 10000\n",
    "price_pred_ = price_pred / 10000\n",
    "price_real_[0, 1000], price_pred_[0, 1000]"
   ]
  },
  {
   "cell_type": "code",
   "execution_count": null,
   "metadata": {},
   "outputs": [],
   "source": [
    "FONT_SIZE_TITLE_PLOT = 48  # 40\n",
    "FONT_SIZE_TITLE_AX = 36  # 30\n",
    "FONT_SIZE_LABEL = 30  # 24\n",
    "FONT_SIZE_TICKS = 24  # 20\n",
    "FONT_SIZE_LEGEND = 32  # 28"
   ]
  },
  {
   "cell_type": "markdown",
   "metadata": {},
   "source": [
    "# PRICES"
   ]
  },
  {
   "cell_type": "code",
   "execution_count": null,
   "metadata": {},
   "outputs": [],
   "source": [
    "fig, axes = plt.subplots(2, 2)\n",
    "legend_elements = [\n",
    "    Line2D([0], [0], color=\"C0\", lw=2, label=\"Observed\"),\n",
    "    Line2D([0], [0], color=\"C1\", lw=2, label=\"Real continuation\"),\n",
    "    Line2D([0], [0], color=\"C2\", lw=2, label=\"Synthetic continuation\"),\n",
    "]\n",
    "\n",
    "for i in range(2):\n",
    "    for j in range(2):\n",
    "        linear_index = i * 2 + j\n",
    "        axes[i, j].set_title(f\"{stock_names[linear_index]}\", fontsize=FONT_SIZE_TITLE_AX)\n",
    "        axes[i, j].set_xlabel(\"Steps\", fontsize=FONT_SIZE_LABEL)\n",
    "        # axes[i, j].set_ylabel('$', fontsize=FONT_SIZE_LABEL, rotation=0)\n",
    "        axes[i, j].xaxis.set_tick_params(labelsize=FONT_SIZE_TICKS)\n",
    "        axes[i, j].yaxis.set_tick_params(labelsize=FONT_SIZE_TICKS)\n",
    "\n",
    "        axes[i, j].plot(\n",
    "            history_indexes,\n",
    "            price_real_[linear_index, :390],\n",
    "            color=\"C0\",\n",
    "        )\n",
    "        axes[i, j].plot(\n",
    "            continuation_indexes,\n",
    "            price_real_[linear_index, 390:],\n",
    "            color=\"C1\",\n",
    "        )\n",
    "        axes[i, j].plot(\n",
    "            continuation_indexes,\n",
    "            price_pred_[linear_index, 390:],\n",
    "            color=\"C2\",\n",
    "        )\n",
    "\n",
    "        axes[i, j].axvline(x=390, color=\"r\")\n",
    "        axes[i, j].set_xticks(list(axes[i, j].get_xticks()[1:-1]) + [390])\n",
    "\n",
    "fig.suptitle(\"Prices\", fontsize=FONT_SIZE_TITLE_PLOT, y=1)\n",
    "fig.legend(\n",
    "    handles=legend_elements,\n",
    "    loc=\"upper center\",\n",
    "    ncol=3,\n",
    "    fontsize=FONT_SIZE_LEGEND,\n",
    "    frameon=False,\n",
    "    bbox_to_anchor=(0.5, 0.97),\n",
    ")\n",
    "fig.tight_layout(rect=[0, -0.03, 1, 1])\n",
    "# plt.savefig(f\"{PROJECT_FOLDER}/plot_finali/multistock/prices.pdf\")\n",
    "plt.show()\n",
    "plt.close(fig)"
   ]
  },
  {
   "cell_type": "markdown",
   "metadata": {},
   "source": [
    "# Couples"
   ]
  },
  {
   "cell_type": "code",
   "execution_count": null,
   "metadata": {},
   "outputs": [],
   "source": [
    "corr_real = np.corrcoef(price_real)\n",
    "corr_pred = np.corrcoef(price_pred)\n",
    "corr_real, corr_pred"
   ]
  },
  {
   "cell_type": "code",
   "execution_count": null,
   "metadata": {},
   "outputs": [],
   "source": [
    "for stock_name_1, stock_name_2 in combinations(stock_names, 2):\n",
    "    fig, axes = plt.subplots(2, 2)\n",
    "    legend_elements = [\n",
    "        Line2D([0], [0], color=\"C0\", lw=2, label=\"Observed\"),\n",
    "        Line2D([0], [0], color=\"C1\", lw=2, label=\"Real continuation\"),\n",
    "        Line2D([0], [0], color=\"C2\", lw=2, label=\"Synthetic continuation\"),\n",
    "    ]\n",
    "\n",
    "    stock_index_1, stock_index_2 = stock_names.index(stock_name_1), stock_names.index(stock_name_2)\n",
    "    corr_real_12, corr_pred_12 = corr_real[stock_index_1][stock_index_2], corr_pred[stock_index_1][stock_index_2]\n",
    "\n",
    "    price_real_1, price_real_2 = price_real[stock_index_1], price_real[stock_index_2]\n",
    "\n",
    "    history_indexes = np.arange(390)\n",
    "    continuation_indexes = np.arange(390, price_real.shape[1])\n",
    "\n",
    "    history_1, history_2 = price_real[stock_index_1, :390], price_real[stock_index_2, :390]\n",
    "    continuation_real_1, continuation_real_2 = price_real[stock_index_1, 390:], price_real[stock_index_2, 390:]\n",
    "    continuation_pred_1, continuation_pred_2 = price_pred[stock_index_1, 390:], price_pred[stock_index_2, 390:]\n",
    "\n",
    "    # Titles\n",
    "    axes[0, 0].set_title(f\"{stock_name_1} - Real\", fontsize=FONT_SIZE_TITLE_AX)\n",
    "    axes[0, 1].set_title(f\"{stock_name_2} - Real\", fontsize=FONT_SIZE_TITLE_AX)\n",
    "    axes[1, 0].set_title(f\"{stock_name_1} - Synthetic\", fontsize=FONT_SIZE_TITLE_AX)\n",
    "    axes[1, 1].set_title(f\"{stock_name_2} - Synthetic\", fontsize=FONT_SIZE_TITLE_AX)\n",
    "\n",
    "    # Histories\n",
    "    axes[0, 0].plot(history_indexes, history_1, color=\"C0\")\n",
    "    axes[0, 1].plot(history_indexes, history_2, color=\"C0\")\n",
    "    axes[1, 0].plot(history_indexes, history_1, color=\"C0\")\n",
    "    axes[1, 1].plot(history_indexes, history_2, color=\"C0\")\n",
    "\n",
    "    # Reals\n",
    "    axes[0, 0].plot(continuation_indexes, continuation_real_1, color=\"C1\")\n",
    "    axes[0, 1].plot(continuation_indexes, continuation_real_2, color=\"C1\")\n",
    "\n",
    "    # Synthetic\n",
    "    axes[1, 0].plot(continuation_indexes, continuation_pred_1, color=\"C2\")\n",
    "    axes[1, 1].plot(continuation_indexes, continuation_pred_2, color=\"C2\")\n",
    "\n",
    "    # y_lim\n",
    "    axes[0, 0].set_ylim(\n",
    "        [min(price_real_1.min(), continuation_pred_1.min()), max(price_real_1.max(), continuation_pred_1.max())]\n",
    "    )\n",
    "    axes[1, 0].set_ylim(\n",
    "        [min(price_real_1.min(), continuation_pred_1.min()), max(price_real_1.max(), continuation_pred_1.max())]\n",
    "    )\n",
    "    axes[0, 1].set_ylim(\n",
    "        [min(price_real_2.min(), continuation_pred_2.min()), max(price_real_2.max(), continuation_pred_2.max())]\n",
    "    )\n",
    "    axes[1, 1].set_ylim(\n",
    "        [min(price_real_2.min(), continuation_pred_2.min()), max(price_real_2.max(), continuation_pred_2.max())]\n",
    "    )\n",
    "\n",
    "    for axs in axes:\n",
    "        for ax in axs:\n",
    "            ax.set_yticklabels([])\n",
    "            ax.set_xticklabels([])\n",
    "\n",
    "    axes[0, 1].set_ylabel(\n",
    "        round(corr_real_12, 2), rotation=\"horizontal\", horizontalalignment=\"right\", fontsize=FONT_SIZE_LABEL\n",
    "    )\n",
    "    axes[1, 1].set_ylabel(\n",
    "        round(corr_pred_12, 2), rotation=\"horizontal\", horizontalalignment=\"right\", fontsize=FONT_SIZE_LABEL\n",
    "    )\n",
    "\n",
    "    fig.legend(\n",
    "        handles=legend_elements,\n",
    "        loc=\"upper center\",\n",
    "        ncol=3,\n",
    "        fontsize=FONT_SIZE_LEGEND,\n",
    "        bbox_to_anchor=(0.5, 0.97),\n",
    "        frameon=False,\n",
    "    )\n",
    "    fig.suptitle(\"Prices\", fontsize=FONT_SIZE_TITLE_PLOT, y=1.0)\n",
    "    fig.tight_layout()\n",
    "    plt.savefig(f\"{PROJECT_FOLDER}/plot_finali/multistock/couples/{stock_name_1}-{stock_name_2}.pdf\")\n",
    "    # plt.show()\n",
    "    plt.close(fig)"
   ]
  },
  {
   "cell_type": "markdown",
   "metadata": {},
   "source": [
    "# VOLUMES"
   ]
  },
  {
   "cell_type": "code",
   "execution_count": null,
   "metadata": {},
   "outputs": [],
   "source": [
    "fig, axes = plt.subplots(2, 2)\n",
    "legend_elements = [\n",
    "    Line2D([0], [0], color=\"C0\", lw=2, label=\"Observed\"),\n",
    "    Line2D([0], [0], color=\"C1\", lw=2, label=\"Real continuation\"),\n",
    "    Line2D([0], [0], color=\"C2\", lw=2, label=\"Synthetic continuation\"),\n",
    "]\n",
    "\n",
    "for i in range(2):\n",
    "    for j in range(2):\n",
    "        linear_index = i * 2 + j\n",
    "        axes[i, j].set_title(f\"{stock_names[linear_index]}\", fontsize=FONT_SIZE_TITLE_AX)\n",
    "        axes[i, j].set_xlabel(\"Steps\", fontsize=FONT_SIZE_LABEL)\n",
    "        axes[i, j].set_ylabel(\"Shares\", fontsize=FONT_SIZE_LABEL)\n",
    "        axes[i, j].xaxis.set_tick_params(labelsize=FONT_SIZE_TICKS)\n",
    "        axes[i, j].yaxis.set_tick_params(labelsize=FONT_SIZE_TICKS)\n",
    "\n",
    "        axes[i, j].plot(\n",
    "            history_indexes,\n",
    "            volume_real[linear_index, :390],\n",
    "            color=\"C0\",\n",
    "        )\n",
    "        axes[i, j].plot(\n",
    "            continuation_indexes,\n",
    "            volume_real[linear_index, 390:],\n",
    "            color=\"C1\",\n",
    "        )\n",
    "        axes[i, j].plot(continuation_indexes, volume_pred[linear_index, 390:], color=\"C2\", alpha=0.7)\n",
    "\n",
    "        axes[i, j].axvline(x=390, color=\"r\")\n",
    "        axes[i, j].set_xticks(list(axes[i, j].get_xticks()[1:-1]) + [390])\n",
    "\n",
    "fig.suptitle(\"Volumes\", fontsize=FONT_SIZE_TITLE_PLOT, y=1.00)\n",
    "fig.legend(\n",
    "    handles=legend_elements,\n",
    "    loc=\"upper center\",\n",
    "    ncol=3,\n",
    "    fontsize=FONT_SIZE_LEGEND,\n",
    "    bbox_to_anchor=(0.5, 0.96),\n",
    "    frameon=False,\n",
    ")\n",
    "fig.tight_layout(rect=[0, -0.03, 1, 1])\n",
    "# plt.savefig(f\"{PROJECT_FOLDER}/plot_finali/multistock/volumes.pdf\")\n",
    "plt.show()\n",
    "plt.close(fig)"
   ]
  },
  {
   "cell_type": "markdown",
   "metadata": {},
   "source": [
    "# STYLISED FACT"
   ]
  },
  {
   "cell_type": "code",
   "execution_count": null,
   "metadata": {},
   "outputs": [],
   "source": [
    "4300 / 60"
   ]
  },
  {
   "cell_type": "code",
   "execution_count": null,
   "metadata": {},
   "outputs": [],
   "source": [
    "class StylisedFacts:\n",
    "    def __init__(self, stock_names, price_real=None, price_synthetic=None, volume_real=None, volume_pred=None):\n",
    "        self.stock_names = stock_names\n",
    "        self.price_real = price_real\n",
    "        self.price_synthetic = price_synthetic\n",
    "        self.volume_real = volume_real\n",
    "        self.volume_pred = volume_pred\n",
    "\n",
    "    @staticmethod\n",
    "    def __compute_log_returns(data):\n",
    "        return np.diff(np.log(data))\n",
    "\n",
    "    @staticmethod\n",
    "    def __compute_rolling_autocorrelation(data, window, lag):\n",
    "        l = list()\n",
    "        for series in data:\n",
    "            l.append(\n",
    "                pd.Series(series)\n",
    "                .rolling(window, center=True)\n",
    "                .apply(lambda x: x.autocorr(lag=lag), raw=False)\n",
    "                .dropna()\n",
    "                .values\n",
    "            )\n",
    "        return np.asarray(l)\n",
    "\n",
    "    @staticmethod\n",
    "    def __compute_autocorrelation(data, lags):\n",
    "        l = list()\n",
    "        for series in data:\n",
    "            l.append([pd.Series(series).autocorr(lag) for lag in range(1, lags + 1)])\n",
    "        return np.asarray(l)\n",
    "\n",
    "    def fat_tailed_distribution(self, log=False, n_bins=75):\n",
    "        assert self.price_real is not None and self.price_synthetic is not None\n",
    "        minutely_log_returns_real = self.__compute_log_returns(self.price_real)\n",
    "        minutely_log_returns_pred = self.__compute_log_returns(self.price_synthetic)\n",
    "        self.__hist(\n",
    "            minutely_log_returns_real,\n",
    "            minutely_log_returns_pred,\n",
    "            title=\"Minutely log-returns\",\n",
    "            xlabel=\"Returns\",\n",
    "            log=log,\n",
    "            n_bins=n_bins,\n",
    "        )\n",
    "\n",
    "    def aggregation_normality(self, n_minutes=10, log=False, n_bins=75):\n",
    "        assert self.price_real is not None and self.price_synthetic is not None\n",
    "        log_returns_real = self.__compute_log_returns(self.price_real[:, ::n_minutes])\n",
    "        log_returns_pred = self.__compute_log_returns(self.price_synthetic[:, ::n_minutes])\n",
    "        self.__hist(\n",
    "            log_returns_real,\n",
    "            log_returns_pred,\n",
    "            title=f\"{n_minutes} Minutes log-returns\",\n",
    "            xlabel=\"Returns\",\n",
    "            log=log,\n",
    "            n_bins=n_bins,\n",
    "        )\n",
    "\n",
    "    def absence_autocorrelation(self, lag, window):\n",
    "        assert self.price_real is not None and self.price_synthetic is not None\n",
    "        minutely_log_returns_real = self.__compute_log_returns(self.price_real)\n",
    "        minutely_log_returns_pred = self.__compute_log_returns(self.price_synthetic)\n",
    "\n",
    "        autocorelation_real = self.__compute_rolling_autocorrelation(minutely_log_returns_real, window, lag)\n",
    "        autocorelation_pred = self.__compute_rolling_autocorrelation(minutely_log_returns_pred, window, lag)\n",
    "\n",
    "        self.__hist(\n",
    "            autocorelation_real,\n",
    "            autocorelation_pred,\n",
    "            title=\"Autocorrelation (lag={}, window={})\".format(lag, window),\n",
    "            xlabel=\"Correlation coefficient\",\n",
    "            log=False,\n",
    "        )\n",
    "\n",
    "    def volatility_clustering(self, lags):\n",
    "        assert self.price_real is not None and self.price_synthetic is not None\n",
    "        minutely_log_returns_real = self.__compute_log_returns(self.price_real)\n",
    "        minutely_log_returns_pred = self.__compute_log_returns(self.price_synthetic)\n",
    "\n",
    "        autocorelations_real = self.__compute_autocorrelation(minutely_log_returns_real, lags)\n",
    "        autocorelations_pred = self.__compute_autocorrelation(minutely_log_returns_pred, lags)\n",
    "\n",
    "        self.__line(\n",
    "            autocorelations_real,\n",
    "            autocorelations_pred,\n",
    "            \"Volatility Clustering/Long Range Dependence\",\n",
    "            \"Lag\",\n",
    "            \"Correlation\\ncoefficient\",\n",
    "        )\n",
    "\n",
    "    def volume_volatility_correlation(\n",
    "        self,\n",
    "    ):\n",
    "        assert (\n",
    "            self.price_real is not None\n",
    "            and self.price_synthetic is not None\n",
    "            and self.volume_real is not None\n",
    "            and self.volume_pred is not None\n",
    "        )\n",
    "\n",
    "        minutely_log_returns_real = self.__compute_log_returns(self.price_real)\n",
    "        minutely_log_returns_pred = self.__compute_log_returns(self.price_synthetic)\n",
    "\n",
    "        volatility_real = abs(minutely_log_returns_real)\n",
    "        volatility_pred = abs(minutely_log_returns_pred)\n",
    "\n",
    "        volume_real = self.volume_real[:, 1:]\n",
    "        volume_pred = self.volume_pred[:, 1:]\n",
    "\n",
    "        corr_real = np.corrcoef(volume_real, volatility_real)\n",
    "        corr_pred = np.corrcoef(volume_pred, volatility_pred)\n",
    "\n",
    "        x_indices, y_indices = [k1 for k1 in range(len(stock_names))], [\n",
    "            k2 for k2 in range(len(stock_names), 2 * len(stock_names))\n",
    "        ]\n",
    "\n",
    "        corr_real = corr_real[x_indices, y_indices]\n",
    "        corr_pred = corr_pred[x_indices, y_indices]\n",
    "\n",
    "        print(corr_real.shape)\n",
    "\n",
    "        self.__hist(corr_real, corr_pred, title=\"Volume/Volatility Correlation\", xlabel=\"Correlation coefficient\")\n",
    "\n",
    "    @staticmethod\n",
    "    def __hist(data_real, data_synthetic, title=\"Simulation data histogram\", xlabel=\"Values\", log=False, n_bins=75):\n",
    "        fig, axes = plt.subplots(2, 2, figsize=(16, 9))\n",
    "        add_label = True\n",
    "        for i, ax in enumerate(axes.ravel()):\n",
    "            stock_name, real, synthetic = stock_names[i], data_real[i], data_synthetic[i]\n",
    "            left = min(real)\n",
    "            right = max(real)\n",
    "            bins = np.linspace(left, right, n_bins)\n",
    "            ax.hist(\n",
    "                real,\n",
    "                bins=bins,\n",
    "                color=\"C1\",\n",
    "                log=log,\n",
    "                alpha=1,\n",
    "                histtype=\"step\",\n",
    "                linewidth=3,\n",
    "                label=\"Real\" if add_label else None,\n",
    "            )\n",
    "            ax.hist(\n",
    "                synthetic,\n",
    "                bins=bins,\n",
    "                color=\"C2\",\n",
    "                log=log,\n",
    "                alpha=1,\n",
    "                histtype=\"step\",\n",
    "                linewidth=3,\n",
    "                label=\"Synthetic\" if add_label else None,\n",
    "            )\n",
    "            ax.set_title(stock_name, fontsize=FONT_SIZE_TITLE_AX)\n",
    "            ax.set_xlabel(xlabel, fontsize=FONT_SIZE_LABEL)\n",
    "            ax.set_ylabel((\"Log\\n\" if log else \"\") + \"Frequency\", fontsize=FONT_SIZE_LABEL)\n",
    "            ax.xaxis.set_tick_params(labelsize=FONT_SIZE_TICKS)\n",
    "            ax.yaxis.set_tick_params(labelsize=FONT_SIZE_TICKS)\n",
    "            add_label = False\n",
    "\n",
    "        fig.suptitle(title, y=1, fontsize=FONT_SIZE_TITLE_PLOT)\n",
    "        fig.legend(loc=\"upper center\", ncol=3, fontsize=FONT_SIZE_LEGEND, frameon=False, bbox_to_anchor=(0.5, 0.96))\n",
    "        plt.tight_layout()\n",
    "        plt.show()\n",
    "        plt.close(fig)\n",
    "\n",
    "    @staticmethod\n",
    "    def __line(data_real, data_synthetic, title=\"Simulation data line\", xlabel=\"X\", ylabel=\"Y\"):\n",
    "        fig, axes = plt.subplots(2, 2, figsize=(16, 9))\n",
    "        x = np.arange(data_real.shape[1]) + 1\n",
    "\n",
    "        add_label = True\n",
    "        for i, ax in enumerate(axes.ravel()):\n",
    "            stock_name, real, synthetic = stock_names[i], data_real[i], data_synthetic[i]\n",
    "\n",
    "            ax.plot(x, real, color=\"C1\", linewidth=4, label=\"Real\" if add_label else None)\n",
    "            ax.plot(x, synthetic, color=\"C2\", linewidth=4, label=\"Synthetic\" if add_label else None)\n",
    "            ax.set_xticks(x)\n",
    "\n",
    "            ax.set_title(stock_name, fontsize=FONT_SIZE_TITLE_AX)\n",
    "            ax.set_xlabel(xlabel, fontsize=FONT_SIZE_LABEL)\n",
    "            ax.set_ylabel(ylabel, fontsize=FONT_SIZE_LABEL)\n",
    "            ax.xaxis.set_tick_params(labelsize=FONT_SIZE_TICKS)\n",
    "            ax.yaxis.set_tick_params(labelsize=FONT_SIZE_TICKS)\n",
    "            add_label = False\n",
    "\n",
    "        fig.suptitle(title, y=1, fontsize=FONT_SIZE_TITLE_PLOT)\n",
    "        fig.legend(loc=\"upper center\", ncol=3, fontsize=FONT_SIZE_LEGEND, frameon=False, bbox_to_anchor=(0.5, 0.96))\n",
    "        plt.tight_layout()\n",
    "        plt.show()\n",
    "        plt.close(fig)"
   ]
  },
  {
   "cell_type": "code",
   "execution_count": null,
   "metadata": {},
   "outputs": [],
   "source": []
  },
  {
   "cell_type": "code",
   "execution_count": null,
   "metadata": {},
   "outputs": [],
   "source": [
    "sfs = StylisedFacts(\n",
    "    stock_names, price_real=price_real, price_synthetic=price_pred, volume_real=volume_real, volume_pred=volume_pred\n",
    ")"
   ]
  },
  {
   "cell_type": "code",
   "execution_count": null,
   "metadata": {},
   "outputs": [],
   "source": [
    "sfs.volatility_clustering(lags=10)"
   ]
  },
  {
   "cell_type": "code",
   "execution_count": null,
   "metadata": {},
   "outputs": [],
   "source": [
    "sfs.absence_autocorrelation(1, 30)"
   ]
  },
  {
   "cell_type": "code",
   "execution_count": null,
   "metadata": {},
   "outputs": [],
   "source": [
    "sfs.fat_tailed_distribution(log=True, n_bins=75)"
   ]
  },
  {
   "cell_type": "code",
   "execution_count": null,
   "metadata": {},
   "outputs": [],
   "source": [
    "sfs.aggregation_normality(30, log=True, n_bins=75)"
   ]
  },
  {
   "cell_type": "markdown",
   "metadata": {},
   "source": [
    "## VOLUME VOLATILITY CORRELATION"
   ]
  },
  {
   "cell_type": "code",
   "execution_count": null,
   "metadata": {},
   "outputs": [],
   "source": [
    "price_real.shape, price_pred.shape, volume_real.shape, volume_pred.shape"
   ]
  },
  {
   "cell_type": "code",
   "execution_count": null,
   "metadata": {},
   "outputs": [],
   "source": [
    "def compute_avg_log_returns(x, delta):\n",
    "    # x.shape = [sequence_length, n_stocks]\n",
    "    x = pd.DataFrame(x)\n",
    "    x = np.log1p(x.pct_change()[1:])\n",
    "    x = x.rolling(delta).mean().to_numpy().squeeze()\n",
    "    x = x[::delta][1:]\n",
    "    return x.T\n",
    "\n",
    "\n",
    "def compute_avg_volumes(x, delta):\n",
    "    # x.shape = [sequence_length, n_stocks]\n",
    "    x = pd.DataFrame(x)\n",
    "    x = np.log1p(x)\n",
    "    x = x.rolling(delta).mean().to_numpy().squeeze()\n",
    "    x = x[::delta][1:]\n",
    "    return x.T"
   ]
  },
  {
   "cell_type": "code",
   "execution_count": null,
   "metadata": {},
   "outputs": [],
   "source": [
    "real_avg_log_returns = compute_avg_log_returns(price_real.T, 15)\n",
    "real_avg_volumes = compute_avg_volumes(volume_real.T, 15)\n",
    "\n",
    "pred_avg_log_returns = compute_avg_log_returns(price_pred.T, 15)\n",
    "pred_avg_volumes = compute_avg_volumes(volume_pred.T, 15)"
   ]
  },
  {
   "cell_type": "code",
   "execution_count": null,
   "metadata": {},
   "outputs": [],
   "source": [
    "real_avg_log_returns.shape, real_avg_volumes.shape, pred_avg_log_returns.shape, pred_avg_volumes.shape"
   ]
  },
  {
   "cell_type": "code",
   "execution_count": null,
   "metadata": {},
   "outputs": [],
   "source": [
    "fig, axes = plt.subplots(2, 2, figsize=(16, 9))\n",
    "axes = axes.ravel()\n",
    "\n",
    "for target_idx, ax in enumerate(axes):\n",
    "    stock_name = stock_names[target_idx]\n",
    "\n",
    "    ax.set_title(stock_name, fontsize=FONT_SIZE_TITLE_AX)\n",
    "    ax.set_xlabel(\"Avg log-returns\", fontsize=FONT_SIZE_LABEL)\n",
    "    ax.set_ylabel(\"Avg\\nlog-volumes\", fontsize=FONT_SIZE_LABEL)\n",
    "    ax.xaxis.set_tick_params(labelsize=FONT_SIZE_TICKS)\n",
    "    ax.yaxis.set_tick_params(labelsize=FONT_SIZE_TICKS)\n",
    "\n",
    "    ax.scatter(\n",
    "        real_avg_log_returns[target_idx],\n",
    "        real_avg_volumes[target_idx],\n",
    "        color=\"orange\",\n",
    "        label=\"Real\" if target_idx == 0 else None,\n",
    "    )\n",
    "\n",
    "    ax.scatter(\n",
    "        pred_avg_log_returns[target_idx],\n",
    "        pred_avg_volumes[target_idx],\n",
    "        color=\"green\",\n",
    "        label=\"Synthetic\" if target_idx == 0 else None,\n",
    "        alpha=0.5,\n",
    "    )\n",
    "\n",
    "fig.suptitle(\"Volume-Volatility Correlation\", fontsize=FONT_SIZE_TITLE_PLOT, y=1.00)\n",
    "fig.legend(loc=\"upper center\", ncol=2, fontsize=FONT_SIZE_LEGEND, bbox_to_anchor=(0.5, 0.96), frameon=False)\n",
    "fig.tight_layout()\n",
    "# plt.savefig(f\"{PROJECT_FOLDER}/plot_finali/multistock/volume_volatility_correlation.pdf\")\n",
    "plt.show()\n",
    "plt.close(fig)"
   ]
  },
  {
   "cell_type": "code",
   "execution_count": null,
   "metadata": {},
   "outputs": [],
   "source": []
  }
 ],
 "metadata": {
  "kernelspec": {
   "display_name": "Python 3 (ipykernel)",
   "language": "python",
   "name": "python3"
  },
  "language_info": {
   "codemirror_mode": {
    "name": "ipython",
    "version": 3
   },
   "file_extension": ".py",
   "mimetype": "text/x-python",
   "name": "python",
   "nbconvert_exporter": "python",
   "pygments_lexer": "ipython3",
   "version": "3.9.13"
  }
 },
 "nbformat": 4,
 "nbformat_minor": 1
}
