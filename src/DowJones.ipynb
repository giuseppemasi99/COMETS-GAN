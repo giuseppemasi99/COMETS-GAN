{
 "cells": [
  {
   "cell_type": "code",
   "execution_count": null,
   "metadata": {},
   "outputs": [],
   "source": [
    "import pandas as pd\n",
    "import numpy as np\n",
    "import seaborn as sb\n",
    "import matplotlib.pyplot as plt\n",
    "from matplotlib.lines import Line2D\n",
    "import pickle\n",
    "import tqdm\n",
    "from sklearn.metrics import mean_squared_error"
   ]
  },
  {
   "cell_type": "code",
   "execution_count": null,
   "metadata": {},
   "outputs": [],
   "source": [
    "plt.rcParams[\"figure.figsize\"] = [16, 9]\n",
    "# plt.rcParams[\"figure.dpi\"] = 300\n",
    "plt.rcParams[\"font.size\"] = 20\n",
    "plt.rcParams[\"axes.labelsize\"] = 20\n",
    "plt.rcParams[\"axes.titlesize\"] = 24\n",
    "plt.rcParams[\"xtick.labelsize\"] = 16\n",
    "plt.rcParams[\"ytick.labelsize\"] = 16\n",
    "plt.rcParams[\"font.family\"] = \"serif\""
   ]
  },
  {
   "cell_type": "code",
   "execution_count": null,
   "metadata": {},
   "outputs": [],
   "source": [
    "DATA_REALS = \"../data/ohlc_DowJones\""
   ]
  },
  {
   "cell_type": "code",
   "execution_count": null,
   "metadata": {},
   "outputs": [],
   "source": [
    "DATA_PREDS = \"../storage/thesis-gan/abllixzn\""
   ]
  },
  {
   "cell_type": "code",
   "execution_count": null,
   "metadata": {},
   "outputs": [],
   "source": [
    "reals = pd.read_csv(f\"{DATA_REALS}/ohlc_DowJones_val.csv\").filter(regex=\"mid_price\")"
   ]
  },
  {
   "cell_type": "code",
   "execution_count": null,
   "metadata": {},
   "outputs": [],
   "source": [
    "cols = list(reals.columns.values)\n",
    "d = dict()\n",
    "for col in cols:\n",
    "    d[col] = col.split(\"_\")[2]\n",
    "reals = reals.rename(columns=d)\n",
    "reals = reals.iloc[:8490, :]\n",
    "reals_corr = reals.corr(numeric_only=True)"
   ]
  },
  {
   "cell_type": "code",
   "execution_count": null,
   "metadata": {},
   "outputs": [],
   "source": [
    "mses = list()\n",
    "for epoch in tqdm.tqdm(range(300)):\n",
    "    PATH_PICKLE_PRICE = DATA_PREDS + f\"/preds_epoch={epoch}-target_price=mid_price-target_volume=None.pickle\"\n",
    "    with open(PATH_PICKLE_PRICE, \"rb\") as handle:\n",
    "        pred_prices_dict = pickle.load(handle)\n",
    "    preds = pd.DataFrame(pred_prices_dict[\"pred_prices\"].squeeze().numpy().T)\n",
    "    preds.columns = reals.columns\n",
    "    preds_corr = preds.corr(numeric_only=True)\n",
    "    mse = mean_squared_error(reals_corr, preds_corr)\n",
    "    mses.append(mse)"
   ]
  },
  {
   "cell_type": "code",
   "execution_count": null,
   "metadata": {},
   "outputs": [],
   "source": [
    "min_epoch, min_mse = min(zip(range(300), mses), key=lambda x: x[1])\n",
    "min_epoch, min_mse"
   ]
  },
  {
   "cell_type": "code",
   "execution_count": null,
   "metadata": {},
   "outputs": [],
   "source": [
    "plt.plot(mses)\n",
    "plt.scatter(min_epoch, min_mse, c=\"r\", label=f\"Minimum: Epoch={min_epoch} MSE={round(min_mse, 2)}\")\n",
    "plt.legend(loc=\"upper center\", fontsize=15)\n",
    "plt.title(\"Average Correlation Distance - Prices\")\n",
    "plt.xlabel(\"Epoch\")\n",
    "plt.tight_layout()\n",
    "# plt.savefig(f\"/Users/giuseppemasi/PycharmProjects/thesis-gan/storage/thesis-gan/cross_corr_dist_DowJones.png\")\n",
    "plt.show()\n",
    "plt.close()"
   ]
  },
  {
   "cell_type": "code",
   "execution_count": null,
   "metadata": {},
   "outputs": [],
   "source": [
    "stock_names = [\n",
    "    \"AAPL\",\n",
    "    \"AMGN\",\n",
    "    \"AXP\",\n",
    "    \"BA\",\n",
    "    \"CAT\",\n",
    "    \"CRM\",\n",
    "    \"CSCO\",\n",
    "    \"CVX\",\n",
    "    \"DIS\",\n",
    "    \"GS\",\n",
    "    \"HD\",\n",
    "    \"HON\",\n",
    "    \"IBM\",\n",
    "    \"INTC\",\n",
    "    \"JNJ\",\n",
    "    \"JPM\",\n",
    "    \"KO\",\n",
    "    \"MCD\",\n",
    "    \"MMM\",\n",
    "    \"MRK\",\n",
    "    \"MSFT\",\n",
    "    \"NKE\",\n",
    "    \"PG\",\n",
    "    \"TRV\",\n",
    "    \"UNH\",\n",
    "    \"V\",\n",
    "    \"VZ\",\n",
    "    \"WBA\",\n",
    "    \"WMT\",\n",
    "]"
   ]
  },
  {
   "cell_type": "code",
   "execution_count": null,
   "metadata": {},
   "outputs": [],
   "source": [
    "chosen_epoch = 197"
   ]
  },
  {
   "cell_type": "code",
   "execution_count": null,
   "metadata": {},
   "outputs": [],
   "source": [
    "mses[chosen_epoch]"
   ]
  },
  {
   "cell_type": "code",
   "execution_count": null,
   "metadata": {},
   "outputs": [],
   "source": [
    "PATH_PICKLE_PRICE = DATA_PREDS + f\"/preds_epoch={chosen_epoch}-target_price=mid_price-target_volume=None.pickle\"\n",
    "with open(PATH_PICKLE_PRICE, \"rb\") as handle:\n",
    "    pred_prices_dict = pickle.load(handle)\n",
    "preds = pd.DataFrame(pred_prices_dict[\"pred_prices\"].squeeze().numpy().T)\n",
    "preds.columns = reals.columns"
   ]
  },
  {
   "cell_type": "code",
   "execution_count": null,
   "metadata": {},
   "outputs": [],
   "source": [
    "reals = reals.to_numpy()\n",
    "preds = preds.to_numpy()"
   ]
  },
  {
   "cell_type": "code",
   "execution_count": null,
   "metadata": {},
   "outputs": [],
   "source": [
    "reals.shape, preds.shape"
   ]
  },
  {
   "cell_type": "code",
   "execution_count": null,
   "metadata": {},
   "outputs": [],
   "source": [
    "history_indexes = np.arange(390)\n",
    "continuation_indexes = np.arange(390, reals.shape[0])\n",
    "history_indexes.shape, continuation_indexes.shape"
   ]
  },
  {
   "cell_type": "code",
   "execution_count": null,
   "metadata": {},
   "outputs": [],
   "source": [
    "history = reals[:390, :].T\n",
    "reals_continuation = reals[390:, :].T\n",
    "preds_continuation = preds[390:, :].T\n",
    "history.shape, reals_continuation.shape, preds_continuation.shape"
   ]
  },
  {
   "cell_type": "code",
   "execution_count": null,
   "metadata": {},
   "outputs": [],
   "source": [
    "fig, ax = plt.subplots(5, 6)\n",
    "legend_elements = [\n",
    "    Line2D([0], [0], color=\"C0\", lw=2, label=\"Observed\"),\n",
    "    Line2D([0], [0], color=\"C1\", lw=2, label=\"Real continuation\"),\n",
    "    Line2D([0], [0], color=\"C2\", lw=2, label=\"Predicted continuation\"),\n",
    "]\n",
    "\n",
    "for i in range(5):\n",
    "    for j in range(6):\n",
    "        index = i * 6 + j\n",
    "        ax[i, j].set_xticklabels([])\n",
    "        ax[i, j].set_yticklabels([])\n",
    "        if index == 29:\n",
    "            continue\n",
    "        ax[i, j].set_title(f\"{stock_names[index]}\", fontsize=20)\n",
    "        ax[i, j].plot(\n",
    "            history_indexes,\n",
    "            history[index],\n",
    "            color=\"C0\",\n",
    "        )\n",
    "        ax[i, j].plot(\n",
    "            continuation_indexes,\n",
    "            reals_continuation[index],\n",
    "            color=\"C1\",\n",
    "        )\n",
    "        ax[i, j].plot(\n",
    "            continuation_indexes,\n",
    "            preds_continuation[index],\n",
    "            color=\"C2\",\n",
    "        )\n",
    "\n",
    "fig.suptitle(\"Prices\", fontsize=24, y=1.04)\n",
    "fig.legend(handles=legend_elements, loc=\"upper center\", ncol=3, fontsize=15, bbox_to_anchor=(0.5, 1))\n",
    "fig.tight_layout()\n",
    "# plt.savefig(\"../storage/thesis-gan/prices_DowJones.png\")\n",
    "plt.show()\n",
    "plt.close(fig)"
   ]
  },
  {
   "cell_type": "markdown",
   "metadata": {},
   "source": [
    "# Correlations"
   ]
  },
  {
   "cell_type": "code",
   "execution_count": null,
   "metadata": {},
   "outputs": [],
   "source": [
    "plt.rcParams[\"font.size\"] = 8"
   ]
  },
  {
   "cell_type": "code",
   "execution_count": null,
   "metadata": {},
   "outputs": [],
   "source": [
    "sb.heatmap(reals_corr, cmap=\"Blues\", annot=True, fmt=\".2f\")\n",
    "plt.title(\"Real correlations\")\n",
    "plt.show()\n",
    "plt.close()"
   ]
  },
  {
   "cell_type": "code",
   "execution_count": null,
   "metadata": {},
   "outputs": [],
   "source": [
    "sb.heatmap(preds_corr, cmap=\"Blues\", annot=True, fmt=\".2f\")\n",
    "plt.title(\"Pred correlations\")\n",
    "plt.show()\n",
    "plt.close()"
   ]
  },
  {
   "cell_type": "code",
   "execution_count": null,
   "metadata": {},
   "outputs": [],
   "source": [
    "diffs_corr = (reals_corr - preds_corr) / reals_corr\n",
    "sb.heatmap(diffs_corr, cmap=\"Blues\", annot=True, fmt=\".2f\")\n",
    "plt.title(\"Difference correlations\")\n",
    "plt.show()\n",
    "plt.close()"
   ]
  },
  {
   "cell_type": "code",
   "execution_count": null,
   "metadata": {},
   "outputs": [],
   "source": []
  }
 ],
 "metadata": {
  "kernelspec": {
   "display_name": "Python 3",
   "language": "python",
   "name": "python3"
  },
  "language_info": {
   "codemirror_mode": {
    "name": "ipython",
    "version": 2
   },
   "file_extension": ".py",
   "mimetype": "text/x-python",
   "name": "python",
   "nbconvert_exporter": "python",
   "pygments_lexer": "ipython2",
   "version": "2.7.6"
  }
 },
 "nbformat": 4,
 "nbformat_minor": 0
}
