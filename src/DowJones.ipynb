{
 "cells": [
  {
   "cell_type": "code",
   "execution_count": null,
   "metadata": {},
   "outputs": [],
   "source": [
    "import pandas as pd\n",
    "import seaborn as sb\n",
    "import matplotlib.pyplot as plt\n",
    "import pickle\n",
    "from sklearn.metrics import mean_squared_error"
   ]
  },
  {
   "cell_type": "code",
   "execution_count": null,
   "metadata": {},
   "outputs": [],
   "source": [
    "plt.rcParams[\"figure.figsize\"] = [16, 9]\n",
    "plt.rcParams[\"figure.dpi\"] = 300\n",
    "plt.rcParams[\"font.size\"] = 20\n",
    "plt.rcParams[\"axes.labelsize\"] = 20\n",
    "plt.rcParams[\"axes.titlesize\"] = 24\n",
    "plt.rcParams[\"xtick.labelsize\"] = 16\n",
    "plt.rcParams[\"ytick.labelsize\"] = 16\n",
    "plt.rcParams[\"font.family\"] = \"serif\""
   ]
  },
  {
   "cell_type": "code",
   "execution_count": null,
   "metadata": {},
   "outputs": [],
   "source": [
    "DATA_REALS = \"../data/ohlc_DowJones\"\n",
    "!ls $DATA_REALS/"
   ]
  },
  {
   "cell_type": "code",
   "execution_count": null,
   "metadata": {},
   "outputs": [],
   "source": [
    "DATA_PREDS = \"../storage/thesis-gan/abllixzn\"\n",
    "!ls $DATA_PREDS/"
   ]
  },
  {
   "cell_type": "code",
   "execution_count": null,
   "metadata": {},
   "outputs": [],
   "source": [
    "reals = pd.read_csv(f\"{DATA_REALS}/ohlc_DowJones_val.csv\").filter(regex=\"mid_price\")"
   ]
  },
  {
   "cell_type": "code",
   "execution_count": null,
   "metadata": {},
   "outputs": [],
   "source": [
    "cols = list(reals.columns.values)\n",
    "d = dict()\n",
    "for col in cols:\n",
    "    d[col] = col.split(\"_\")[2]\n",
    "reals = reals.rename(columns=d)\n",
    "reals = reals.iloc[:8490, :]\n",
    "reals_corr = reals.corr(numeric_only=True)"
   ]
  },
  {
   "cell_type": "code",
   "execution_count": null,
   "metadata": {},
   "outputs": [],
   "source": [
    "EPOCHS = [\n",
    "    280,\n",
    "    279,\n",
    "    268,\n",
    "    258,\n",
    "    252,\n",
    "    241,\n",
    "    235,\n",
    "    230,\n",
    "    229,\n",
    "    223,\n",
    "    217,\n",
    "    216,\n",
    "    211,\n",
    "    206,\n",
    "    196,\n",
    "    194,\n",
    "    189,\n",
    "    185,\n",
    "    182,\n",
    "    181,\n",
    "    171,\n",
    "    167,\n",
    "    160,\n",
    "    159,\n",
    "    146,\n",
    "    129,\n",
    "    128,\n",
    "    127,\n",
    "    126,\n",
    "    125,\n",
    "]"
   ]
  },
  {
   "cell_type": "code",
   "execution_count": null,
   "metadata": {},
   "outputs": [],
   "source": [
    "epoch2corrs = dict()\n",
    "for epoch in EPOCHS:\n",
    "    epoch2corrs[epoch] = dict()\n",
    "\n",
    "    PATH_PICKLE_PRICE = DATA_PREDS + f\"/preds_epoch={epoch}-target_price=mid_price-target_volume=None.pickle\"\n",
    "    with open(PATH_PICKLE_PRICE, \"rb\") as handle:\n",
    "        pred_prices_dict = pickle.load(handle)\n",
    "    preds = pd.DataFrame(pred_prices_dict[\"pred_prices\"].squeeze().numpy().T)\n",
    "    preds.columns = reals.columns\n",
    "\n",
    "    preds_corr = preds.corr(numeric_only=True)\n",
    "    mse = round(mean_squared_error(reals_corr, preds_corr), 2)\n",
    "    diffs_corr = (reals_corr - preds_corr) / reals_corr\n",
    "\n",
    "    epoch2corrs[epoch][\"preds_corr\"] = preds_corr\n",
    "    epoch2corrs[epoch][\"diffs_corr\"] = diffs_corr\n",
    "    epoch2corrs[epoch][\"mse\"] = mse"
   ]
  },
  {
   "cell_type": "code",
   "execution_count": null,
   "metadata": {},
   "outputs": [],
   "source": [
    "mses = list()\n",
    "for epoch, v in epoch2corrs.items():\n",
    "    mses.append(v[\"mse\"])\n",
    "min(zip(EPOCHS, mses), key=lambda x: x[1])"
   ]
  },
  {
   "cell_type": "markdown",
   "metadata": {},
   "source": [
    "# Correlations"
   ]
  },
  {
   "cell_type": "code",
   "execution_count": null,
   "metadata": {},
   "outputs": [],
   "source": [
    "plt.rcParams[\"font.size\"] = 8"
   ]
  },
  {
   "cell_type": "code",
   "execution_count": null,
   "metadata": {},
   "outputs": [],
   "source": [
    "EPOCH = 241\n",
    "preds_corr = epoch2corrs[EPOCH][\"preds_corr\"]\n",
    "diffs_corr = epoch2corrs[EPOCH][\"diffs_corr\"]\n",
    "mse = epoch2corrs[EPOCH][\"mse\"]\n",
    "mse"
   ]
  },
  {
   "cell_type": "code",
   "execution_count": null,
   "metadata": {},
   "outputs": [],
   "source": [
    "sb.heatmap(reals_corr, cmap=\"Blues\", annot=True, fmt=\".2f\")\n",
    "plt.title(\"Real correlations\")\n",
    "plt.show()\n",
    "plt.close()"
   ]
  },
  {
   "cell_type": "code",
   "execution_count": null,
   "metadata": {},
   "outputs": [],
   "source": [
    "sb.heatmap(preds_corr, cmap=\"Blues\", annot=True, fmt=\".2f\")\n",
    "plt.title(\"Pred correlations\")\n",
    "plt.show()\n",
    "plt.close()"
   ]
  },
  {
   "cell_type": "code",
   "execution_count": null,
   "metadata": {},
   "outputs": [],
   "source": [
    "sb.heatmap(diffs_corr, cmap=\"Blues\", annot=True, fmt=\".2f\")\n",
    "plt.title(\"Difference correlations\")\n",
    "plt.show()\n",
    "plt.close()"
   ]
  },
  {
   "cell_type": "code",
   "execution_count": null,
   "metadata": {},
   "outputs": [],
   "source": []
  }
 ],
 "metadata": {
  "kernelspec": {
   "display_name": "Python 3",
   "language": "python",
   "name": "python3"
  },
  "language_info": {
   "codemirror_mode": {
    "name": "ipython",
    "version": 2
   },
   "file_extension": ".py",
   "mimetype": "text/x-python",
   "name": "python",
   "nbconvert_exporter": "python",
   "pygments_lexer": "ipython2",
   "version": "2.7.6"
  }
 },
 "nbformat": 4,
 "nbformat_minor": 0
}
