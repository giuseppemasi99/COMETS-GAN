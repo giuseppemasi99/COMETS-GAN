{
 "cells": [
  {
   "cell_type": "code",
   "execution_count": null,
   "metadata": {},
   "outputs": [],
   "source": [
    "import matplotlib.pyplot as plt\n",
    "import numpy as np\n",
    "from numpy.lib.stride_tricks import sliding_window_view\n",
    "import pandas as pd\n",
    "import pickle"
   ]
  },
  {
   "cell_type": "code",
   "execution_count": null,
   "metadata": {},
   "outputs": [],
   "source": [
    "plt.rcParams[\"figure.figsize\"] = [16, 9]\n",
    "# plt.rcParams[\"figure.dpi\"] = 300\n",
    "plt.rcParams[\"font.size\"] = 20\n",
    "plt.rcParams[\"axes.labelsize\"] = 20\n",
    "plt.rcParams[\"axes.titlesize\"] = 24\n",
    "plt.rcParams[\"xtick.labelsize\"] = 16\n",
    "plt.rcParams[\"ytick.labelsize\"] = 16\n",
    "plt.rcParams[\"font.family\"] = \"serif\""
   ]
  },
  {
   "cell_type": "code",
   "execution_count": null,
   "metadata": {},
   "outputs": [],
   "source": [
    "FONT_SIZE_TITLE_PLOT = 48  # 40\n",
    "FONT_SIZE_TITLE_AX = 36  # 30\n",
    "FONT_SIZE_LABEL = 30  # 24\n",
    "FONT_SIZE_TICKS = 24  # 20\n",
    "FONT_SIZE_LEGEND = 32  # 28"
   ]
  },
  {
   "cell_type": "code",
   "execution_count": null,
   "metadata": {},
   "outputs": [],
   "source": [
    "PROJECT_FOLDER = \"PycharmProjects/thesis-gan\""
   ]
  },
  {
   "cell_type": "code",
   "execution_count": null,
   "metadata": {},
   "outputs": [],
   "source": [
    "stock_names = [\n",
    "    \"AAPL\",\n",
    "    \"AMGN\",\n",
    "    \"AXP\",\n",
    "    \"BA\",\n",
    "    \"CAT\",\n",
    "    \"CRM\",\n",
    "    \"CSCO\",\n",
    "    \"CVX\",\n",
    "    \"DIS\",\n",
    "    \"GE\",\n",
    "    \"GS\",\n",
    "    \"HD\",\n",
    "    \"HON\",\n",
    "    \"IBM\",\n",
    "    \"INTC\",\n",
    "    \"JNJ\",\n",
    "    \"JPM\",\n",
    "    \"KO\",\n",
    "    \"MCD\",\n",
    "    \"MMM\",\n",
    "    \"MRK\",\n",
    "    \"MSFT\",\n",
    "    \"NKE\",\n",
    "    \"PG\",\n",
    "    \"TRV\",\n",
    "    \"UNH\",\n",
    "    \"V\",\n",
    "    \"VZ\",\n",
    "    \"WBA\",\n",
    "    \"WMT\",\n",
    "]\n",
    "n_stocks = len(stock_names)"
   ]
  },
  {
   "cell_type": "code",
   "execution_count": null,
   "metadata": {},
   "outputs": [],
   "source": [
    "RUN_ID = \"1sf7oq6a\"\n",
    "PATH_PICKLE_REAL = f\"{PROJECT_FOLDER}/storage/thesis-gan/{RUN_ID}/reals.pickle\"\n",
    "with open(PATH_PICKLE_REAL, \"rb\") as f:\n",
    "    real = pickle.load(f)[\"prices\"]\n",
    "corr_real = np.corrcoef(real)\n",
    "real.shape, corr_real.shape"
   ]
  },
  {
   "cell_type": "code",
   "execution_count": null,
   "metadata": {},
   "outputs": [],
   "source": [
    "CHOSEN_EPOCH = 255\n",
    "PATH_PICKLE_PRED = f\"{PROJECT_FOLDER}/storage/thesis-gan/{RUN_ID}/preds_epoch={CHOSEN_EPOCH}-target_price=mid_price-target_volume=None.pickle\"\n",
    "with open(PATH_PICKLE_PRED, \"rb\") as f:\n",
    "    synthetic = pickle.load(f)[\"pred_prices\"]\n",
    "synthetic.shape"
   ]
  },
  {
   "cell_type": "code",
   "execution_count": null,
   "metadata": {},
   "outputs": [],
   "source": [
    "MINUTES1DAY = 6 * 60 + 30"
   ]
  },
  {
   "cell_type": "code",
   "execution_count": null,
   "metadata": {},
   "outputs": [],
   "source": [
    "history_indexes = np.arange(MINUTES1DAY)\n",
    "continuation_indexes = np.arange(MINUTES1DAY, real.shape[1])\n",
    "history_indexes.shape, continuation_indexes.shape"
   ]
  },
  {
   "cell_type": "code",
   "execution_count": null,
   "metadata": {},
   "outputs": [],
   "source": [
    "# fig, axes = plt.subplots(6, 5, figsize=(16, 9))\n",
    "# axes = axes.ravel()\n",
    "#\n",
    "# add_label = True\n",
    "# for ax, stock_name, real1stock, synthetic1stock in zip(axes, stock_names, real, synthetic):\n",
    "#     ax.set_title(stock_name, fontsize=FONT_SIZE_TITLE_AX-16)\n",
    "#     ax.set_xticklabels([])\n",
    "#     ax.set_yticklabels([])\n",
    "#     ax.tick_params(bottom=False, left=False)\n",
    "#\n",
    "#     ax.plot(history_indexes, real1stock[:MINUTES1DAY], color='C0', label='Observed' if add_label else None)\n",
    "#     ax.plot(continuation_indexes, real1stock[MINUTES1DAY:], color='C1', label='Real' if add_label else None)\n",
    "#     ax.plot(continuation_indexes, synthetic1stock[MINUTES1DAY:], color='C2', label='Synthetic' if add_label else None)\n",
    "#\n",
    "#     add_label = False\n",
    "#\n",
    "# fig.suptitle(\"Prices\", fontsize=FONT_SIZE_TITLE_PLOT-18, y=1)\n",
    "# fig.legend(loc=\"upper center\", ncol=3, fontsize=FONT_SIZE_LEGEND-8, frameon=False, bbox_to_anchor=(0.5, 0.97))\n",
    "# plt.tight_layout()\n",
    "# # plt.savefig(f\"{PROJECT_FOLDER}/plot_finali/dowjones/prices.pdf\")\n",
    "# plt.show()\n",
    "# plt.close(fig)"
   ]
  },
  {
   "cell_type": "code",
   "execution_count": null,
   "metadata": {},
   "outputs": [],
   "source": [
    "df_real_corr = pd.DataFrame(real.T, columns=stock_names).corr().round(2)\n",
    "df_synthetic_corr = pd.DataFrame(synthetic.T, columns=stock_names).corr().round(2)\n",
    "df_corr_dist = np.power(df_real_corr - df_synthetic_corr, 2)"
   ]
  },
  {
   "cell_type": "code",
   "execution_count": null,
   "metadata": {},
   "outputs": [],
   "source": [
    "i = 4\n",
    "stock_name1, stock_name2 = stock_names[i * 2 : (i * 2) + 2]\n",
    "df_real_corr[stock_name1][stock_name2], df_synthetic_corr[stock_name1][stock_name2], df_corr_dist[stock_name1][\n",
    "    stock_name2\n",
    "]"
   ]
  },
  {
   "cell_type": "code",
   "execution_count": null,
   "metadata": {},
   "outputs": [],
   "source": [
    "real1, synthetic1 = real[stock_names.index(stock_name1)], synthetic[stock_names.index(stock_name1)]\n",
    "real2, synthetic2 = real[stock_names.index(stock_name2)], synthetic[stock_names.index(stock_name2)]\n",
    "real12, synthetic12 = np.stack((real1, real2)), np.stack((synthetic1, synthetic2))\n",
    "real12.shape, synthetic12.shape"
   ]
  },
  {
   "cell_type": "code",
   "execution_count": null,
   "metadata": {},
   "outputs": [],
   "source": [
    "real12 = np.reshape(real12, newshape=(2, -1, MINUTES1DAY))\n",
    "synthetic12 = np.reshape(synthetic12, newshape=(2, -1, MINUTES1DAY))\n",
    "real12.shape, synthetic12.shape"
   ]
  },
  {
   "cell_type": "code",
   "execution_count": null,
   "metadata": {},
   "outputs": [],
   "source": [
    "minutely_returns_real = np.diff(np.log(real12)).reshape(2, -1)\n",
    "minutely_returns_synthetic = np.diff(np.log(synthetic12)).reshape(2, -1)\n",
    "minutely_returns_real.shape, minutely_returns_synthetic.shape"
   ]
  },
  {
   "cell_type": "code",
   "execution_count": null,
   "metadata": {},
   "outputs": [],
   "source": [
    "n_minutes = 15\n",
    "n_minutely_returns_real = np.diff(np.log(real12[:, :, ::n_minutes])).reshape(2, -1)\n",
    "n_minutely_returns_synthetic = np.diff(np.log(synthetic12[:, :, ::n_minutes])).reshape(2, -1)\n",
    "n_minutely_returns_real.shape, n_minutely_returns_synthetic.shape"
   ]
  },
  {
   "cell_type": "code",
   "execution_count": null,
   "metadata": {},
   "outputs": [],
   "source": [
    "xlim = (\n",
    "    min(\n",
    "        minutely_returns_real.min(),\n",
    "        minutely_returns_synthetic.min(),\n",
    "        n_minutely_returns_real.min(),\n",
    "        n_minutely_returns_synthetic.min(),\n",
    "    ),\n",
    "    max(\n",
    "        minutely_returns_real.max(),\n",
    "        minutely_returns_synthetic.max(),\n",
    "        n_minutely_returns_real.max(),\n",
    "        n_minutely_returns_synthetic.max(),\n",
    "    ),\n",
    ")"
   ]
  },
  {
   "cell_type": "code",
   "execution_count": null,
   "metadata": {},
   "outputs": [],
   "source": [
    "real12 = real12.reshape(2, -1) / 1e4\n",
    "synthetic12 = synthetic12.reshape(2, -1) / 1e4"
   ]
  },
  {
   "cell_type": "code",
   "execution_count": null,
   "metadata": {},
   "outputs": [],
   "source": [
    "window_shape = MINUTES1DAY\n",
    "rolled_minutely_returns_real = sliding_window_view(minutely_returns_real, window_shape=window_shape, axis=1)\n",
    "rolled_minutely_returns_synthetic = sliding_window_view(minutely_returns_synthetic, window_shape=window_shape, axis=1)"
   ]
  },
  {
   "cell_type": "code",
   "execution_count": null,
   "metadata": {},
   "outputs": [],
   "source": [
    "lags = [1, 10, 20, 30]\n",
    "stock_name2lag2autocorr = dict()\n",
    "for stock_name, real, synthetic in zip(\n",
    "    [stock_name1, stock_name2], rolled_minutely_returns_real, rolled_minutely_returns_synthetic\n",
    "):\n",
    "    lag2autocorr = dict()\n",
    "\n",
    "    for lag in lags:\n",
    "        l_real, l_synthetic = list(), list()\n",
    "\n",
    "        for window_real, window_synthetic in zip(real, synthetic):\n",
    "            autocorr_real = np.corrcoef(window_real[:-lag], window_real[lag:])[0, 1]\n",
    "            autocorr_synthetic = np.corrcoef(window_synthetic[:-lag], window_synthetic[lag:])[0, 1]\n",
    "            l_real.append(autocorr_real)\n",
    "            l_synthetic.append(autocorr_synthetic)\n",
    "\n",
    "        lag2autocorr[lag] = (np.asarray(l_real), np.asarray(l_synthetic))\n",
    "\n",
    "    stock_name2lag2autocorr[stock_name] = lag2autocorr"
   ]
  },
  {
   "cell_type": "code",
   "execution_count": null,
   "metadata": {},
   "outputs": [],
   "source": [
    "window_shape = 20\n",
    "windowed_price_real = sliding_window_view(real12, window_shape=window_shape, axis=-1)\n",
    "windowed_price_synthetic = sliding_window_view(synthetic12, window_shape=window_shape, axis=-1)\n",
    "rolled_volatility_real = (windowed_price_real.std(axis=-1) / np.sqrt(window_shape)).reshape(2, -1)\n",
    "rolled_volatility_synthetic = (windowed_price_synthetic.std(axis=-1) / np.sqrt(window_shape)).reshape(2, -1)"
   ]
  },
  {
   "cell_type": "code",
   "execution_count": null,
   "metadata": {},
   "outputs": [],
   "source": [
    "x_indices, y_indices = [k1 for k1 in range(len([stock_name1, stock_name2]))], [\n",
    "    k2 for k2 in range(len([stock_name1, stock_name2]), 2 * len([stock_name1, stock_name2]))\n",
    "]\n",
    "\n",
    "max_days = 11\n",
    "lags = np.asarray(range(1, max_days)) * MINUTES1DAY\n",
    "\n",
    "l_real, l_synthetic = list(), list()\n",
    "for lag in lags:\n",
    "    real = np.corrcoef(rolled_volatility_real[:, lag:], rolled_volatility_real[:, :-lag])[x_indices, y_indices]\n",
    "    l_real.append(real)\n",
    "    synthetic = np.corrcoef(rolled_volatility_synthetic[:, lag:], rolled_volatility_synthetic[:, :-lag])[\n",
    "        x_indices, y_indices\n",
    "    ]\n",
    "    l_synthetic.append(synthetic)\n",
    "\n",
    "corrs_real = np.asarray(l_real).T\n",
    "corrs_synthetic = np.asarray(l_synthetic).T"
   ]
  },
  {
   "cell_type": "code",
   "execution_count": null,
   "metadata": {},
   "outputs": [],
   "source": [
    "fig, axes = plt.subplots(5, 2, figsize=(16, 24))\n",
    "\n",
    "for ax in axes.ravel():\n",
    "    ax.xaxis.set_tick_params(labelsize=FONT_SIZE_TICKS)\n",
    "    ax.yaxis.set_tick_params(labelsize=FONT_SIZE_TICKS)\n",
    "\n",
    "# PRICES\n",
    "ax_price_s1, ax_price_s2 = axes[0]\n",
    "ax_price_s1.set_title(\"Price\", fontsize=FONT_SIZE_TITLE_AX)\n",
    "ax_price_s2.set_title(\"Price\", fontsize=FONT_SIZE_TITLE_AX)\n",
    "ax_price_s1.plot(history_indexes, real12[0, :MINUTES1DAY], label=\"Observed\")\n",
    "ax_price_s2.plot(history_indexes, real12[1, :MINUTES1DAY])\n",
    "ax_price_s1.plot(continuation_indexes, real12[0, MINUTES1DAY:], label=\"Real\")\n",
    "ax_price_s2.plot(continuation_indexes, real12[1, MINUTES1DAY:])\n",
    "ax_price_s1.plot(continuation_indexes, synthetic12[0, MINUTES1DAY:], label=\"Synthetic\")\n",
    "ax_price_s2.plot(continuation_indexes, synthetic12[1, MINUTES1DAY:])\n",
    "ax_price_s1.axvline(MINUTES1DAY, color=\"red\")\n",
    "ax_price_s2.axvline(MINUTES1DAY, color=\"red\")\n",
    "ax_price_s1.set_xlabel(\"Steps\", fontsize=FONT_SIZE_LABEL)\n",
    "ax_price_s2.set_xlabel(\"Steps\", fontsize=FONT_SIZE_LABEL)\n",
    "\n",
    "\n",
    "bins = np.linspace(xlim[0], xlim[1], 75)\n",
    "\n",
    "# RETURN DISTRIBUTION\n",
    "ax_ret_s1, ax_ret_s2 = axes[1]\n",
    "ax_ret_s1.set_title(\"Return 1m\", fontsize=FONT_SIZE_TITLE_AX)\n",
    "ax_ret_s2.set_title(\"Return 1m\", fontsize=FONT_SIZE_TITLE_AX)\n",
    "ax_ret_s1.hist(\n",
    "    x=[minutely_returns_synthetic[0], minutely_returns_real[0]],\n",
    "    color=[\"C2\", \"C1\"],\n",
    "    bins=bins,\n",
    "    density=True,\n",
    "    log=True,\n",
    "    histtype=\"step\",\n",
    "    linewidth=3,\n",
    ")\n",
    "ax_ret_s2.hist(\n",
    "    x=[minutely_returns_synthetic[1], minutely_returns_real[1]],\n",
    "    color=[\"C2\", \"C1\"],\n",
    "    bins=bins,\n",
    "    density=True,\n",
    "    log=True,\n",
    "    histtype=\"step\",\n",
    "    linewidth=3,\n",
    ")\n",
    "ax_ret_s1.set_xlabel(\"Corr coef\", fontsize=FONT_SIZE_LABEL)\n",
    "ax_ret_s2.set_xlabel(\"Corr coef\", fontsize=FONT_SIZE_LABEL)\n",
    "ax_ret_s1.set_ylabel(\"Density\", fontsize=FONT_SIZE_LABEL)\n",
    "ax_ret_s2.set_ylabel(\"Density\", fontsize=FONT_SIZE_LABEL)\n",
    "\n",
    "# AGGREGATIONAL GAUSSIANITY\n",
    "ax_agg_s1, ax_agg_s2 = axes[2]\n",
    "ax_agg_s1.set_title(f\"Return {n_minutes}m\", fontsize=FONT_SIZE_TITLE_AX)\n",
    "ax_agg_s2.set_title(f\"Return {n_minutes}m\", fontsize=FONT_SIZE_TITLE_AX)\n",
    "ax_agg_s1.hist(\n",
    "    x=[n_minutely_returns_synthetic[0], n_minutely_returns_real[0]],\n",
    "    color=[\"C2\", \"C1\"],\n",
    "    bins=bins,\n",
    "    density=True,\n",
    "    log=True,\n",
    "    histtype=\"step\",\n",
    "    linewidth=3,\n",
    ")\n",
    "ax_agg_s2.hist(\n",
    "    x=[n_minutely_returns_synthetic[1], n_minutely_returns_real[1]],\n",
    "    color=[\"C2\", \"C1\"],\n",
    "    bins=bins,\n",
    "    density=True,\n",
    "    log=True,\n",
    "    histtype=\"step\",\n",
    "    linewidth=3,\n",
    ")\n",
    "ax_agg_s1.set_xlabel(\"Corr coef\", fontsize=FONT_SIZE_LABEL)\n",
    "ax_agg_s2.set_xlabel(\"Corr coef\", fontsize=FONT_SIZE_LABEL)\n",
    "ax_agg_s1.set_ylabel(\"Density\", fontsize=FONT_SIZE_LABEL)\n",
    "ax_agg_s2.set_ylabel(\"Density\", fontsize=FONT_SIZE_LABEL)\n",
    "\n",
    "# AUTOCORRELATION\n",
    "bins = np.linspace(-1, 1, 50)\n",
    "lag = 20\n",
    "ax_auto_s1, ax_auto_s2 = axes[3]\n",
    "ax_auto_s1.set_xlim((-1, 1))\n",
    "ax_auto_s2.set_xlim((-1, 1))\n",
    "ax_auto_s1.set_title(f\"Return autocorr\", fontsize=FONT_SIZE_TITLE_AX)\n",
    "ax_auto_s2.set_title(f\"Return autocorr\", fontsize=FONT_SIZE_TITLE_AX)\n",
    "ax_auto_s1.hist(\n",
    "    x=[stock_name2lag2autocorr[stock_name1][lag][1], stock_name2lag2autocorr[stock_name1][lag][0]],\n",
    "    color=[\"C2\", \"C1\"],\n",
    "    bins=bins,\n",
    "    density=True,\n",
    "    log=True,\n",
    "    histtype=\"step\",\n",
    "    linewidth=3,\n",
    ")\n",
    "ax_auto_s2.hist(\n",
    "    x=[stock_name2lag2autocorr[stock_name2][lag][1], stock_name2lag2autocorr[stock_name2][lag][0]],\n",
    "    color=[\"C2\", \"C1\"],\n",
    "    bins=bins,\n",
    "    density=True,\n",
    "    log=True,\n",
    "    histtype=\"step\",\n",
    "    linewidth=3,\n",
    ")\n",
    "ax_auto_s1.set_xlabel(\"Corr coef\", fontsize=FONT_SIZE_LABEL)\n",
    "ax_auto_s2.set_xlabel(\"Corr coef\", fontsize=FONT_SIZE_LABEL)\n",
    "ax_auto_s1.set_ylabel(\"Density\", fontsize=FONT_SIZE_LABEL)\n",
    "ax_auto_s2.set_ylabel(\"Density\", fontsize=FONT_SIZE_LABEL)\n",
    "\n",
    "# VOLATILITY CLUSTERING\n",
    "ax_voclu_s1, ax_voclu_s2 = axes[4]\n",
    "ax_voclu_s1.set_title(f\"Volatility clustering\", fontsize=FONT_SIZE_TITLE_AX)\n",
    "ax_voclu_s2.set_title(f\"Volatility clustering\", fontsize=FONT_SIZE_TITLE_AX)\n",
    "ax_voclu_s1.plot(range(1, max_days), corrs_real[0], color=\"C1\", linewidth=3)\n",
    "ax_voclu_s2.plot(range(1, max_days), corrs_real[1], color=\"C1\", linewidth=3)\n",
    "ax_voclu_s1.plot(range(1, max_days), corrs_synthetic[0], color=\"C2\", linewidth=3)\n",
    "ax_voclu_s2.plot(range(1, max_days), corrs_synthetic[1], color=\"C2\", linewidth=3)\n",
    "\n",
    "ax_voclu_s1.set_xlabel(\"Lag (days)\", fontsize=FONT_SIZE_LABEL)\n",
    "ax_voclu_s2.set_xlabel(\"Lag (days)\", fontsize=FONT_SIZE_LABEL)\n",
    "ax_voclu_s1.set_ylabel(\"Corr coef\", fontsize=FONT_SIZE_LABEL)\n",
    "ax_voclu_s2.set_ylabel(\"Corr coef\", fontsize=FONT_SIZE_LABEL)\n",
    "\n",
    "fig.suptitle(f\"{stock_name1} - {stock_name2}\", fontsize=FONT_SIZE_TITLE_PLOT, y=1.0)\n",
    "fig.legend(loc=\"upper center\", ncol=3, fontsize=FONT_SIZE_LEGEND, bbox_to_anchor=(0.5, 0.99), frameon=False)\n",
    "fig.tight_layout()\n",
    "plt.savefig(f\"{PROJECT_FOLDER}/plot_finali/dowjones/{stock_name1}_{stock_name2}.pdf\")\n",
    "plt.show()\n",
    "plt.close(fig)"
   ]
  },
  {
   "cell_type": "code",
   "execution_count": null,
   "metadata": {},
   "outputs": [],
   "source": []
  }
 ],
 "metadata": {
  "kernelspec": {
   "display_name": "Python [conda env:thesis-gan]",
   "language": "python",
   "name": "conda-env-thesis-gan-py"
  },
  "language_info": {
   "codemirror_mode": {
    "name": "ipython",
    "version": 3
   },
   "file_extension": ".py",
   "mimetype": "text/x-python",
   "name": "python",
   "nbconvert_exporter": "python",
   "pygments_lexer": "ipython3",
   "version": "3.9.15"
  }
 },
 "nbformat": 4,
 "nbformat_minor": 1
}
