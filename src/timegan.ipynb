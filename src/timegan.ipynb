{
 "cells": [
  {
   "cell_type": "code",
   "execution_count": null,
   "metadata": {},
   "outputs": [],
   "source": [
    "import pickle\n",
    "import numpy as np\n",
    "import pandas as pd\n",
    "from openTSNE import TSNE\n",
    "import matplotlib.pyplot as plt\n",
    "from sklearn.preprocessing import MinMaxScaler"
   ]
  },
  {
   "cell_type": "code",
   "execution_count": null,
   "metadata": {},
   "outputs": [],
   "source": [
    "plt.rcParams[\"figure.figsize\"] = [16, 9]\n",
    "# plt.rcParams[\"figure.dpi\"] = 300\n",
    "plt.rcParams[\"font.size\"] = 20\n",
    "plt.rcParams[\"axes.labelsize\"] = 20\n",
    "plt.rcParams[\"axes.titlesize\"] = 24\n",
    "plt.rcParams[\"xtick.labelsize\"] = 16\n",
    "plt.rcParams[\"ytick.labelsize\"] = 16\n",
    "plt.rcParams[\"font.family\"] = \"serif\""
   ]
  },
  {
   "cell_type": "code",
   "execution_count": null,
   "metadata": {},
   "outputs": [],
   "source": [
    "FONT_SIZE_TITLE_PLOT = 48  # 40\n",
    "FONT_SIZE_TITLE_AX = 36  # 30\n",
    "FONT_SIZE_LABEL = 30  # 24\n",
    "FONT_SIZE_TICKS = 24  # 20\n",
    "FONT_SIZE_LEGEND = 32  # 28"
   ]
  },
  {
   "cell_type": "code",
   "execution_count": null,
   "metadata": {},
   "outputs": [],
   "source": [
    "PROJECT_FOLDER = \"PycharmProjects/thesis-gan\""
   ]
  },
  {
   "cell_type": "code",
   "execution_count": null,
   "metadata": {},
   "outputs": [],
   "source": [
    "with open(PROJECT_FOLDER + \"/data/timegan/generated_data.pickle\", \"rb\") as f:\n",
    "    data_timegan = pickle.load(f)\n",
    "n, seq_len, n_features = data_timegan.shape\n",
    "# data_timegan = np.reshape(data_timegan, newshape=(n, seq_len*n_features))\n",
    "data_timegan = np.mean(data_timegan, 2)\n",
    "data_timegan.shape"
   ]
  },
  {
   "cell_type": "code",
   "execution_count": null,
   "metadata": {},
   "outputs": [],
   "source": [
    "scaler = MinMaxScaler()\n",
    "data = pd.read_csv(PROJECT_FOLDER + \"/data/midprice_volume__KO_PEP_NVDA_KSU__train.csv\", index_col=0)\n",
    "data = data.to_numpy()\n",
    "data_scaled = scaler.fit_transform(data)\n",
    "data_real_scaled = np.array([data_scaled[i : i + 100] for i in range(data.shape[0] - 100)])\n",
    "n, seq_len, n_features = data_real_scaled.shape\n",
    "# data_real_scaled_train = np.reshape(data_real_scaled, newshape=(n, seq_len*n_features))\n",
    "data_real_scaled_train = np.mean(data_real_scaled, 2)\n",
    "data_real_scaled_train.shape"
   ]
  },
  {
   "cell_type": "code",
   "execution_count": null,
   "metadata": {},
   "outputs": [],
   "source": [
    "scaler = MinMaxScaler()\n",
    "data = pd.read_csv(PROJECT_FOLDER + \"/data/midprice_volume__KO_PEP_NVDA_KSU__val.csv\", index_col=0)\n",
    "data = data.to_numpy()\n",
    "data_scaled = scaler.fit_transform(data)\n",
    "data_real_scaled = np.array([data_scaled[i : i + 100] for i in range(data.shape[0] - 100)])\n",
    "n, seq_len, n_features = data_real_scaled.shape\n",
    "# data_real_scaled_val = np.reshape(data_real_scaled, newshape=(n, seq_len*n_features))\n",
    "data_real_scaled_val = np.mean(data_real_scaled, 2)\n",
    "data_real_scaled_val.shape"
   ]
  },
  {
   "cell_type": "code",
   "execution_count": null,
   "metadata": {},
   "outputs": [],
   "source": [
    "RUN_ID_PRICE = \"13v3dpxg\"\n",
    "EPOCH_PRICE = 121\n",
    "PATH_PICKLE_REAL_PRICE = f\"{PROJECT_FOLDER}/storage/thesis-gan/{RUN_ID_PRICE}/reals.pickle\"\n",
    "PATH_PICKLE_PRED_PRICE = f\"{PROJECT_FOLDER}/storage/thesis-gan/{RUN_ID_PRICE}/preds_epoch={EPOCH_PRICE}-seed=42-target_price=mid_price-target_volume=None-sampling_seed=599121577.pickle\""
   ]
  },
  {
   "cell_type": "code",
   "execution_count": null,
   "metadata": {},
   "outputs": [],
   "source": [
    "scaler = MinMaxScaler()\n",
    "with open(PATH_PICKLE_PRED_PRICE, \"rb\") as f:\n",
    "    data_conv = pickle.load(f)\n",
    "data_conv = data_conv[\"pred_prices\"].T\n",
    "data_conv_scaled = scaler.fit_transform(data_conv)\n",
    "data_conv_scaled = np.array([data_conv_scaled[i : i + 100] for i in range(data_conv_scaled.shape[0] - 100)])\n",
    "n, seq_len, n_features = data_conv_scaled.shape\n",
    "# data_conv_scaled = np.reshape(data_conv_scaled, newshape=(n, seq_len*n_features))\n",
    "data_conv_scaled = np.mean(data_conv_scaled, 2)\n",
    "data_conv_scaled.shape"
   ]
  },
  {
   "cell_type": "code",
   "execution_count": null,
   "metadata": {},
   "outputs": [],
   "source": [
    "tsne = TSNE(\n",
    "    perplexity=15,\n",
    "    metric=\"euclidean\",\n",
    "    n_jobs=8,\n",
    "    random_state=42,\n",
    "    verbose=False,\n",
    ")"
   ]
  },
  {
   "cell_type": "code",
   "execution_count": null,
   "metadata": {},
   "outputs": [],
   "source": [
    "dir_saving_embeddings = \"tsne_embeddings\""
   ]
  },
  {
   "cell_type": "code",
   "execution_count": null,
   "metadata": {},
   "outputs": [],
   "source": [
    "embedding_timegan = tsne.fit(data_timegan)\n",
    "embeddings2d_timegan = embedding_timegan.transform(data_timegan)\n",
    "x_timegan, y_timegan = embeddings2d_timegan[:, 0], embeddings2d_timegan[:, 1]\n",
    "dict_timegan = {\"x\": x_timegan, \"y\": y_timegan}\n",
    "with open(f\"{PROJECT_FOLDER}/data/timegan/{dir_saving_embeddings}/timegan.pickle\", \"wb\") as handle:\n",
    "    pickle.dump(dict_timegan, handle, protocol=pickle.HIGHEST_PROTOCOL)"
   ]
  },
  {
   "cell_type": "code",
   "execution_count": null,
   "metadata": {},
   "outputs": [],
   "source": [
    "embedding_real_train = tsne.fit(data_real_scaled_train)\n",
    "embeddings2d_real_train = embedding_real_train.transform(data_real_scaled_train)\n",
    "x_real_train, y_real_train = embeddings2d_real_train[:, 0], embeddings2d_real_train[:, 1]\n",
    "dict_real_train = {\"x\": x_real_train, \"y\": y_real_train}\n",
    "with open(f\"{PROJECT_FOLDER}/data/timegan/{dir_saving_embeddings}/real_train.pickle\", \"wb\") as handle:\n",
    "    pickle.dump(dict_real_train, handle, protocol=pickle.HIGHEST_PROTOCOL)"
   ]
  },
  {
   "cell_type": "code",
   "execution_count": null,
   "metadata": {},
   "outputs": [],
   "source": [
    "embedding_real_val = tsne.fit(data_real_scaled_val)\n",
    "embeddings2d_real_val = embedding_real_val.transform(data_real_scaled_val)\n",
    "x_real_val, y_real_val = embeddings2d_real_val[:, 0], embeddings2d_real_val[:, 1]\n",
    "dict_real_val = {\"x\": x_real_val, \"y\": y_real_val}\n",
    "with open(f\"{PROJECT_FOLDER}/data/timegan/{dir_saving_embeddings}/real_val.pickle\", \"wb\") as handle:\n",
    "    pickle.dump(dict_real_val, handle, protocol=pickle.HIGHEST_PROTOCOL)"
   ]
  },
  {
   "cell_type": "code",
   "execution_count": null,
   "metadata": {},
   "outputs": [],
   "source": [
    "embedding_conv = tsne.fit(data_conv_scaled)\n",
    "embeddings2d_conv = embedding_conv.transform(data_conv_scaled)\n",
    "x_conv, y_conv = embeddings2d_conv[:, 0], embeddings2d_conv[:, 1]\n",
    "dict_conv = {\"x\": x_conv, \"y\": y_conv}\n",
    "with open(f\"{PROJECT_FOLDER}/data/timegan/{dir_saving_embeddings}/conv.pickle\", \"wb\") as handle:\n",
    "    pickle.dump(dict_conv, handle, protocol=pickle.HIGHEST_PROTOCOL)"
   ]
  },
  {
   "cell_type": "markdown",
   "metadata": {},
   "source": [
    "# Plots"
   ]
  },
  {
   "cell_type": "code",
   "execution_count": null,
   "metadata": {},
   "outputs": [],
   "source": [
    "with open(f\"{PROJECT_FOLDER}/data/timegan/{dir_saving_embeddings}/timegan.pickle\", \"rb\") as f:\n",
    "    dict_timegan = pickle.load(f)\n",
    "x_timegan, y_timegan = dict_timegan[\"x\"], dict_timegan[\"y\"]"
   ]
  },
  {
   "cell_type": "code",
   "execution_count": null,
   "metadata": {},
   "outputs": [],
   "source": [
    "with open(f\"{PROJECT_FOLDER}/data/timegan/{dir_saving_embeddings}/real_train.pickle\", \"rb\") as f:\n",
    "    dict_real_train = pickle.load(f)\n",
    "x_real_train, y_real_train = dict_real_train[\"x\"], dict_real_train[\"y\"]"
   ]
  },
  {
   "cell_type": "code",
   "execution_count": null,
   "metadata": {},
   "outputs": [],
   "source": [
    "with open(f\"{PROJECT_FOLDER}/data/timegan/{dir_saving_embeddings}/real_val.pickle\", \"rb\") as f:\n",
    "    dict_real_val = pickle.load(f)\n",
    "x_real_val, y_real_val = dict_real_val[\"x\"], dict_real_val[\"y\"]"
   ]
  },
  {
   "cell_type": "code",
   "execution_count": null,
   "metadata": {},
   "outputs": [],
   "source": [
    "with open(f\"{PROJECT_FOLDER}/data/timegan/{dir_saving_embeddings}/conv.pickle\", \"rb\") as f:\n",
    "    dict_conv = pickle.load(f)\n",
    "x_conv, y_conv = dict_conv[\"x\"], dict_conv[\"y\"]"
   ]
  },
  {
   "cell_type": "code",
   "execution_count": null,
   "metadata": {},
   "outputs": [],
   "source": [
    "fig, axes = plt.subplots(1, 2, figsize=(16, 9))\n",
    "\n",
    "axes[0].scatter(x_real_train, y_real_train, alpha=1, c=\"C0\", label=\"Real\")\n",
    "axes[0].scatter(x_timegan, y_timegan, alpha=0.1, c=\"C1\", label=\"Synthetic - TimeGAN\")\n",
    "\n",
    "axes[1].scatter(x_real_val, y_real_val, alpha=1, c=\"C2\", label=\"Real\")\n",
    "axes[1].scatter(x_conv, y_conv, alpha=0.5, c=\"C3\", label=\"Synthetic - Conv\")\n",
    "\n",
    "\n",
    "axes[0].set_xticklabels([])\n",
    "axes[0].set_yticklabels([])\n",
    "axes[1].set_xticklabels([])\n",
    "axes[1].set_yticklabels([])\n",
    "\n",
    "axes[0].set_title(\"TimeGAN - Train\")\n",
    "axes[1].set_title(\"Conv - Val\")\n",
    "\n",
    "axes[0].legend(fontsize=16, loc=\"upper center\", ncol=2)\n",
    "axes[1].legend(fontsize=16, loc=\"upper center\", ncol=2)\n",
    "\n",
    "fig.suptitle(\"Scatter plot using t-SNE\")\n",
    "fig.tight_layout()\n",
    "plt.show()\n",
    "# plt.savefig('data/tsne.pdf')\n",
    "plt.close(fig)"
   ]
  },
  {
   "cell_type": "code",
   "execution_count": null,
   "metadata": {},
   "outputs": [],
   "source": []
  }
 ],
 "metadata": {
  "kernelspec": {
   "display_name": "Python 3 (ipykernel)",
   "language": "python",
   "name": "python3"
  },
  "language_info": {
   "codemirror_mode": {
    "name": "ipython",
    "version": 3
   },
   "file_extension": ".py",
   "mimetype": "text/x-python",
   "name": "python",
   "nbconvert_exporter": "python",
   "pygments_lexer": "ipython3",
   "version": "3.9.13"
  }
 },
 "nbformat": 4,
 "nbformat_minor": 1
}
