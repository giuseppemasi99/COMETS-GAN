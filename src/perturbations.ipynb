{
 "cells": [
  {
   "cell_type": "code",
   "execution_count": null,
   "metadata": {},
   "outputs": [],
   "source": [
    "import numpy as np\n",
    "import matplotlib.pyplot as plt\n",
    "import pickle"
   ]
  },
  {
   "cell_type": "code",
   "execution_count": null,
   "metadata": {},
   "outputs": [],
   "source": [
    "plt.rcParams[\"figure.figsize\"] = [16, 9]\n",
    "# plt.rcParams[\"figure.dpi\"] = 300\n",
    "plt.rcParams[\"font.size\"] = 20\n",
    "plt.rcParams[\"axes.labelsize\"] = 20\n",
    "plt.rcParams[\"axes.titlesize\"] = 24\n",
    "plt.rcParams[\"xtick.labelsize\"] = 16\n",
    "plt.rcParams[\"ytick.labelsize\"] = 16\n",
    "plt.rcParams[\"font.family\"] = \"serif\""
   ]
  },
  {
   "cell_type": "code",
   "execution_count": null,
   "metadata": {},
   "outputs": [],
   "source": [
    "FONT_SIZE_TITLE_PLOT = 48  # 40\n",
    "FONT_SIZE_TITLE_AX = 36  # 30\n",
    "FONT_SIZE_LABEL = 30  # 24\n",
    "FONT_SIZE_TICKS = 24  # 20\n",
    "FONT_SIZE_LEGEND = 32  # 28"
   ]
  },
  {
   "cell_type": "code",
   "execution_count": null,
   "metadata": {},
   "outputs": [],
   "source": [
    "PROJECT_FOLDER = \"PycharmProjects/thesis-gan\""
   ]
  },
  {
   "cell_type": "code",
   "execution_count": null,
   "metadata": {},
   "outputs": [],
   "source": [
    "stock_names = [\"PEP\", \"KO\", \"NVDA\", \"KSU\"]\n",
    "stock_names = [\"KO\"]\n",
    "n_stocks = len(stock_names)"
   ]
  },
  {
   "cell_type": "code",
   "execution_count": null,
   "metadata": {},
   "outputs": [],
   "source": [
    "RUN_ID_PRICE = \"3m9c18s6\""
   ]
  },
  {
   "cell_type": "code",
   "execution_count": null,
   "metadata": {},
   "outputs": [],
   "source": [
    "PATH_PICKLE_PRICE_REALS = f\"{PROJECT_FOLDER}/storage/thesis-gan/{RUN_ID_PRICE}/reals.pickle\"\n",
    "PATH_PICKLE_PRICE_NOPER = f\"{PROJECT_FOLDER}/storage/thesis-gan/{RUN_ID_PRICE}/perturbations/no_perturbation.pickle\"\n",
    "PATH_PICKLE_PRICE_PER = f\"{PROJECT_FOLDER}/storage/thesis-gan/{RUN_ID_PRICE}/perturbations/perturbation.pickle\""
   ]
  },
  {
   "cell_type": "code",
   "execution_count": null,
   "metadata": {},
   "outputs": [],
   "source": [
    "with open(PATH_PICKLE_PRICE_REALS, \"rb\") as handle:\n",
    "    dict_reals = pickle.load(handle)\n",
    "with open(PATH_PICKLE_PRICE_NOPER, \"rb\") as handle:\n",
    "    dict_no_per = pickle.load(handle)\n",
    "with open(PATH_PICKLE_PRICE_PER, \"rb\") as handle:\n",
    "    dict_per = pickle.load(handle)"
   ]
  },
  {
   "cell_type": "code",
   "execution_count": null,
   "metadata": {},
   "outputs": [],
   "source": [
    "price_no_per = dict_no_per[\"pred_prices\"].numpy().squeeze()\n",
    "price_per = dict_per[\"pred_prices\"].numpy().squeeze()\n",
    "price_reals = dict_reals[\"prices\"].squeeze()[: len(price_per)]"
   ]
  },
  {
   "cell_type": "code",
   "execution_count": null,
   "metadata": {},
   "outputs": [],
   "source": [
    "history_indexes = np.arange(390)\n",
    "continuation_indexes = np.arange(390, len(price_per))\n",
    "history_indexes.shape, continuation_indexes.shape"
   ]
  },
  {
   "cell_type": "code",
   "execution_count": null,
   "metadata": {},
   "outputs": [],
   "source": [
    "fig, ax = plt.subplots(1, 1, figsize=(16, 9))\n",
    "\n",
    "ax.plot(history_indexes, price_no_per[:390], color=\"C0\", label=\"Observed\")\n",
    "# ax.plot(continuation_indexes, price_reals[390:], color=\"C1\", label=\"Real\")\n",
    "ax.plot(continuation_indexes, price_no_per[390:], color=\"C2\", label=\"W/o perturbation\")\n",
    "ax.plot(continuation_indexes, price_per[390:], color=\"C3\", label=\"W/ perturbation\")\n",
    "ax.axvline(x=1140, color=\"r\")\n",
    "ax.axvline(x=1290, color=\"r\")\n",
    "\n",
    "ax.set_title(stock_names[0], fontsize=FONT_SIZE_TITLE_AX)\n",
    "ax.set_xlabel(\"Steps\", fontsize=FONT_SIZE_LABEL)\n",
    "ax.set_ylabel(\"Price ($)\", fontsize=FONT_SIZE_LABEL, rotation=90)\n",
    "ax.xaxis.set_tick_params(labelsize=FONT_SIZE_TICKS)\n",
    "ax.yaxis.set_tick_params(labelsize=FONT_SIZE_TICKS)\n",
    "ax.set_xticks(list(ax.get_xticks()[2:-1]) + [390])\n",
    "\n",
    "\n",
    "fig.suptitle(\"Prices\", fontsize=FONT_SIZE_TITLE_PLOT, y=1)\n",
    "fig.legend(loc=\"upper center\", ncol=4, fontsize=FONT_SIZE_LEGEND, frameon=False, bbox_to_anchor=(0.5, 0.97))\n",
    "fig.tight_layout()\n",
    "plt.savefig(f\"{PROJECT_FOLDER}/plot_finali/multistock/perturbations/perturbed_KO.png\")\n",
    "# plt.show()\n",
    "plt.close(fig)"
   ]
  },
  {
   "cell_type": "code",
   "execution_count": null,
   "metadata": {},
   "outputs": [],
   "source": [
    "fig, axes = plt.subplots(2, 2, figsize=(16, 9))\n",
    "axes = axes.ravel()\n",
    "\n",
    "add_label = True\n",
    "for (\n",
    "    ax,\n",
    "    stock_name,\n",
    "    price_no_per,\n",
    "    price_per,\n",
    ") in zip(axes, stock_names, prices_no_per, prices_per):\n",
    "    ax.plot(history_indexes, price_no_per[:390], color=\"C0\", label=\"Observed\" if add_label else None)\n",
    "    ax.plot(continuation_indexes, price_no_per[390:], color=\"C1\", label=\"W/o perturbation\" if add_label else None)\n",
    "    ax.plot(continuation_indexes, price_per[390:], color=\"C2\", label=\"W/ perturbation\" if add_label else None)\n",
    "    ax.axvline(x=1140, color=\"r\")\n",
    "\n",
    "    ax.set_title(stock_name, fontsize=FONT_SIZE_TITLE_AX)\n",
    "    ax.set_xlabel(\"Steps\", fontsize=FONT_SIZE_LABEL)\n",
    "    ax.set_ylabel(\"Price ($)\", fontsize=FONT_SIZE_LABEL, rotation=90)\n",
    "    ax.xaxis.set_tick_params(labelsize=FONT_SIZE_TICKS)\n",
    "    ax.yaxis.set_tick_params(labelsize=FONT_SIZE_TICKS)\n",
    "    ax.set_xticks(list(ax.get_xticks()[2:-1]) + [390])\n",
    "\n",
    "    add_label = False\n",
    "\n",
    "fig.suptitle(\"Prices\", fontsize=FONT_SIZE_TITLE_PLOT, y=1)\n",
    "fig.legend(loc=\"upper center\", ncol=3, fontsize=FONT_SIZE_LEGEND, frameon=False, bbox_to_anchor=(0.5, 0.97))\n",
    "fig.tight_layout()\n",
    "# plt.savefig(f\"{PROJECT_FOLDER}/plot_finali/multistock/perturbations/perturbed_KO.pdf\")\n",
    "plt.show()\n",
    "plt.close(fig)"
   ]
  },
  {
   "cell_type": "code",
   "execution_count": null,
   "metadata": {},
   "outputs": [],
   "source": []
  }
 ],
 "metadata": {
  "kernelspec": {
   "display_name": "Python [conda env:thesis-gan]",
   "language": "python",
   "name": "conda-env-thesis-gan-py"
  },
  "language_info": {
   "codemirror_mode": {
    "name": "ipython",
    "version": 2
   },
   "file_extension": ".py",
   "mimetype": "text/x-python",
   "name": "python",
   "nbconvert_exporter": "python",
   "pygments_lexer": "ipython2",
   "version": "2.7.6"
  }
 },
 "nbformat": 4,
 "nbformat_minor": 0
}
