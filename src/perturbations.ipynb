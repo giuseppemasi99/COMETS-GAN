{
 "cells": [
  {
   "cell_type": "code",
   "execution_count": null,
   "metadata": {},
   "outputs": [],
   "source": [
    "!ls"
   ]
  },
  {
   "cell_type": "code",
   "execution_count": null,
   "metadata": {},
   "outputs": [],
   "source": [
    "import numpy as np\n",
    "import matplotlib.pyplot as plt\n",
    "from matplotlib.patches import Rectangle\n",
    "import pickle"
   ]
  },
  {
   "cell_type": "code",
   "execution_count": null,
   "metadata": {},
   "outputs": [],
   "source": [
    "plt.rcParams[\"figure.figsize\"] = [16, 9]\n",
    "# plt.rcParams[\"figure.dpi\"] = 300\n",
    "plt.rcParams[\"font.size\"] = 20\n",
    "plt.rcParams[\"axes.labelsize\"] = 20\n",
    "plt.rcParams[\"axes.titlesize\"] = 24\n",
    "plt.rcParams[\"xtick.labelsize\"] = 16\n",
    "plt.rcParams[\"ytick.labelsize\"] = 16\n",
    "plt.rcParams[\"font.family\"] = \"serif\""
   ]
  },
  {
   "cell_type": "code",
   "execution_count": null,
   "metadata": {},
   "outputs": [],
   "source": [
    "FONT_SIZE_TITLE_PLOT = 48  # 40\n",
    "FONT_SIZE_TITLE_AX = 36  # 30\n",
    "FONT_SIZE_LABEL = 30  # 24\n",
    "FONT_SIZE_TICKS = 24  # 20\n",
    "FONT_SIZE_LEGEND = 32  # 28"
   ]
  },
  {
   "cell_type": "code",
   "execution_count": null,
   "metadata": {},
   "outputs": [],
   "source": [
    "PROJECT_FOLDER = \"PycharmProjects/thesis-gan\""
   ]
  },
  {
   "cell_type": "code",
   "execution_count": null,
   "metadata": {},
   "outputs": [],
   "source": [
    "stock_names = [\"KO\", \"PEP\", \"NVDA\"]\n",
    "n_stocks = len(stock_names)\n",
    "RUN_ID_PRICE = \"oy1upczq\"\n",
    "SIGMA_SCALERs = [0.1, 0.2, 0.3, 0.4, 0.5, 0.6, 0.7]\n",
    "SEEDS = range(14, 15)"
   ]
  },
  {
   "cell_type": "code",
   "execution_count": null,
   "metadata": {},
   "outputs": [],
   "source": [
    "stock_names = [\"KO\", \"PEP\"]\n",
    "n_stocks = len(stock_names)\n",
    "RUN_ID_PRICE = \"19oly5ng\"\n",
    "SIGMA_SCALERs = [0.4]\n",
    "SEEDS = range(10, 11)"
   ]
  },
  {
   "cell_type": "code",
   "execution_count": null,
   "metadata": {},
   "outputs": [],
   "source": [
    "seed2priceWoPer = dict()\n",
    "for seed in SEEDS:\n",
    "    PATH_PICKLE_PRICE_NOPER = f\"{PROJECT_FOLDER}/storage/thesis-gan/{RUN_ID_PRICE}/perturbations/shock/perturbation_seed={seed}_sigmascaler=None.pickle\"\n",
    "\n",
    "    with open(PATH_PICKLE_PRICE_NOPER, \"rb\") as handle:\n",
    "        dict_no_per = pickle.load(handle)\n",
    "\n",
    "    prices_no_per = dict_no_per[\"pred_prices\"].numpy()\n",
    "    seed2priceWoPer[seed] = prices_no_per\n",
    "seed2priceWoPer[SEEDS[0]].shape"
   ]
  },
  {
   "cell_type": "code",
   "execution_count": null,
   "metadata": {},
   "outputs": [],
   "source": [
    "PATH_PICKLE_PRICE_REALS = f\"{PROJECT_FOLDER}/storage/thesis-gan/{RUN_ID_PRICE}/reals.pickle\"\n",
    "with open(PATH_PICKLE_PRICE_REALS, \"rb\") as handle:\n",
    "    dict_reals = pickle.load(handle)\n",
    "prices_reals = dict_reals[\"prices\"][:, : seed2priceWoPer[SEEDS[0]].shape[-1]]\n",
    "prices_reals.shape"
   ]
  },
  {
   "cell_type": "code",
   "execution_count": null,
   "metadata": {},
   "outputs": [],
   "source": [
    "seed2priceWPerS = dict()\n",
    "for seed in SEEDS:\n",
    "    PATHs_PICKLE_PRICE_PER = [\n",
    "        f\"{PROJECT_FOLDER}/storage/thesis-gan/{RUN_ID_PRICE}/perturbations/shock/perturbation_seed={seed}_sigmascaler={sigma_scaler}.pickle\"\n",
    "        for sigma_scaler in SIGMA_SCALERs\n",
    "    ]\n",
    "\n",
    "    l = list()\n",
    "    for path in PATHs_PICKLE_PRICE_PER:\n",
    "        with open(path, \"rb\") as handle:\n",
    "            dict_per = pickle.load(handle)\n",
    "        prices_per = dict_per[\"pred_prices\"].numpy()\n",
    "        l.append(prices_per)\n",
    "\n",
    "    prices_per = np.asarray(l).transpose(1, 0, 2)\n",
    "    seed2priceWPerS[seed] = prices_per\n",
    "seed2priceWPerS[SEEDS[0]].shape"
   ]
  },
  {
   "cell_type": "code",
   "execution_count": null,
   "metadata": {},
   "outputs": [],
   "source": [
    "with open(\n",
    "    f\"{PROJECT_FOLDER}/storage/thesis-gan/{RUN_ID_PRICE}/perturbations/shock/perturbation_seed={seed}_sigmascaler=0.4_updown.pickle\",\n",
    "    \"rb\",\n",
    ") as f:\n",
    "    d = pickle.load(f)\n",
    "    pricesWPer_updown = d[\"pred_prices\"].numpy()\n",
    "with open(\n",
    "    f\"{PROJECT_FOLDER}/storage/thesis-gan/{RUN_ID_PRICE}/perturbations/shock/perturbation_seed={seed}_sigmascaler=0.4_downup.pickle\",\n",
    "    \"rb\",\n",
    ") as f:\n",
    "    d = pickle.load(f)\n",
    "    pricesWPer_downup = d[\"pred_prices\"].numpy()\n",
    "pricesWPer_updown.shape, pricesWPer_downup.shape"
   ]
  },
  {
   "cell_type": "code",
   "execution_count": null,
   "metadata": {},
   "outputs": [],
   "source": [
    "history_indexes = np.arange(390)\n",
    "continuation_indexes = np.arange(390, prices_reals.shape[-1])\n",
    "history_indexes.shape, continuation_indexes.shape"
   ]
  },
  {
   "cell_type": "code",
   "execution_count": null,
   "metadata": {},
   "outputs": [],
   "source": [
    "decoder_length = 50"
   ]
  },
  {
   "cell_type": "code",
   "execution_count": null,
   "metadata": {},
   "outputs": [],
   "source": [
    "start_iteration_perturbation = 8\n",
    "n_iterations = 17\n",
    "\n",
    "start_perturbation_n1 = 390 + decoder_length * start_iteration_perturbation + 1\n",
    "start_perturbation_n2 = start_perturbation_n1 + decoder_length * n_iterations\n",
    "end_perturbation = start_perturbation_n2 + decoder_length * n_iterations\n",
    "start_perturbation_n1, start_perturbation_n2, end_perturbation"
   ]
  },
  {
   "cell_type": "code",
   "execution_count": null,
   "metadata": {},
   "outputs": [],
   "source": [
    "pricesWoPer = seed2priceWoPer[SEEDS[0]]\n",
    "prices_reals.shape, pricesWoPer.shape, pricesWPer_updown.shape, pricesWPer_updown.shape"
   ]
  },
  {
   "cell_type": "code",
   "execution_count": null,
   "metadata": {},
   "outputs": [],
   "source": [
    "fig, axes = plt.subplots(2, 1, figsize=(16, 9))\n",
    "axes = axes.ravel()\n",
    "\n",
    "for ax, stock_name, price_real, priceWoPer, priceWPer_updown, priceWPer_downup in zip(\n",
    "    axes, stock_names, prices_reals, pricesWoPer, pricesWPer_updown, pricesWPer_downup\n",
    "):\n",
    "    ax.plot(history_indexes, priceWoPer[:390], color=\"C0\")\n",
    "    ax.axvline(x=390, color=\"r\")\n",
    "\n",
    "    # ax.plot(continuation_indexes, price_real[390:], color=\"C1\", label=\"Real\" if add_label else None)\n",
    "\n",
    "    ax.plot(continuation_indexes, priceWoPer[390:], color=\"C2\", label=\"W/o Per\" if stock_name == \"KO\" else None)\n",
    "    ax.plot(\n",
    "        continuation_indexes, priceWPer_updown[390:], color=\"C3\", label=\"W/ Per UpDown\" if stock_name == \"KO\" else None\n",
    "    )\n",
    "    # ax.plot(continuation_indexes, priceWPer_downup[390:], color=\"C4\", label=\"W/ Per DownUp\" if stock_name == 'KO' else None)\n",
    "\n",
    "    min_ = min(priceWoPer.min(), priceWPer_updown.min(), priceWPer_downup.min())\n",
    "    max_ = max(priceWoPer.max(), priceWPer_updown.max(), priceWPer_downup.max())\n",
    "    if stock_name == \"KO\":\n",
    "        ax.add_patch(\n",
    "            Rectangle(\n",
    "                xy=(start_perturbation_n1, min_),\n",
    "                width=start_perturbation_n2 - start_perturbation_n1,\n",
    "                height=max_ - min_,\n",
    "                color=\"r\",\n",
    "                alpha=0.3,\n",
    "            )\n",
    "        )\n",
    "    ax.add_patch(\n",
    "        Rectangle(\n",
    "            xy=(start_perturbation_n2 + 1, min_),\n",
    "            width=start_perturbation_n2 + 1 - start_perturbation_n1,\n",
    "            height=max_ - min_,\n",
    "            color=\"g\",\n",
    "            alpha=0.3,\n",
    "        )\n",
    "    )\n",
    "\n",
    "    ax.set_title(stock_name, fontsize=FONT_SIZE_TITLE_AX)\n",
    "    ax.set_xlabel(\"Steps\", fontsize=FONT_SIZE_LABEL)\n",
    "    ax.set_ylabel(\"Price ($)\", fontsize=FONT_SIZE_LABEL, rotation=90)\n",
    "    ax.xaxis.set_tick_params(labelsize=12)\n",
    "    ax.yaxis.set_tick_params(labelsize=FONT_SIZE_TICKS)\n",
    "    ax.set_xticks([0, 390, start_perturbation_n2, priceWoPer.shape[-1]])\n",
    "\n",
    "fig.suptitle(\"Introducing perturbations\", fontsize=FONT_SIZE_TITLE_PLOT, y=1.03)\n",
    "fig.legend(loc=\"upper center\", ncol=3, fontsize=FONT_SIZE_LEGEND, frameon=False, bbox_to_anchor=(0.5, 0.97))\n",
    "fig.tight_layout()\n",
    "# plt.savefig(f\"{PROJECT_FOLDER}/plot_finali/multistock/perturbations/perturbed_NVDA_one.pdf\")\n",
    "plt.show()\n",
    "plt.close(fig)"
   ]
  },
  {
   "cell_type": "code",
   "execution_count": null,
   "metadata": {},
   "outputs": [],
   "source": [
    "pricesWPer_updown"
   ]
  },
  {
   "cell_type": "code",
   "execution_count": null,
   "metadata": {},
   "outputs": [],
   "source": [
    "np.corrcoef(pricesWPer_updown[:, end_perturbation:])"
   ]
  },
  {
   "cell_type": "markdown",
   "metadata": {},
   "source": [
    "# PEP & KO"
   ]
  },
  {
   "cell_type": "code",
   "execution_count": null,
   "metadata": {},
   "outputs": [],
   "source": [
    "corr_real = np.corrcoef(prices_reals)[0, 1]\n",
    "corr_real = round(corr_real, 2)"
   ]
  },
  {
   "cell_type": "code",
   "execution_count": null,
   "metadata": {},
   "outputs": [],
   "source": [
    "seed2corr_KOwoPer_PEPwoPer = dict()\n",
    "for seed, priceWoPer in seed2priceWoPer.items():\n",
    "    KOwoPer, PEPwoPer = priceWoPer[:, start_perturbation_n2 + 150 :]\n",
    "    corr_KOwoPer_PEPwoPer = np.corrcoef(KOwoPer, PEPwoPer)[0, 1]\n",
    "    corr_KOwoPer_PEPwoPer = round(corr_KOwoPer_PEPwoPer, 2)\n",
    "    if corr_KOwoPer_PEPwoPer >= 0.7:\n",
    "        seed2corr_KOwoPer_PEPwoPer[seed] = corr_KOwoPer_PEPwoPer"
   ]
  },
  {
   "cell_type": "code",
   "execution_count": null,
   "metadata": {},
   "outputs": [],
   "source": [
    "seed2sigma2corr_KOwPer_PEPwoPer, seed2sigma2corr_KOwPer_PEPwPer = dict(), dict()\n",
    "for seed in seed2corr_KOwoPer_PEPwoPer:\n",
    "    _, PEPwoPer = seed2priceWoPer[seed][:, start_perturbation_n2 + 150 :]\n",
    "    KOwPerS, PEPwPerS = seed2priceWPerS[seed][:, :, start_perturbation_n2 + 150 :]\n",
    "\n",
    "    seed2sigma2corr_KOwPer_PEPwoPer[seed] = dict()\n",
    "    seed2sigma2corr_KOwPer_PEPwPer[seed] = dict()\n",
    "    for sigma_scaler, KOwPer, PEPwPer in zip(SIGMA_SCALERs, KOwPerS, PEPwPerS):\n",
    "        seed2sigma2corr_KOwPer_PEPwoPer[seed][sigma_scaler] = round(np.corrcoef(KOwPer, PEPwoPer)[0, 1], 2)\n",
    "        seed2sigma2corr_KOwPer_PEPwPer[seed][sigma_scaler] = round(np.corrcoef(KOwPer, PEPwPer)[0, 1], 2)"
   ]
  },
  {
   "cell_type": "code",
   "execution_count": null,
   "metadata": {},
   "outputs": [],
   "source": [
    "print(\"\\t\\t\\t\\t\\tKOwoPer_PEPwoPer\\tKOwPer_PEPwoPer\\tKOwPer_PEPwPer\")\n",
    "\n",
    "for seed in seed2corr_KOwoPer_PEPwoPer:\n",
    "    corr_KOwoPer_PEPwoPer = seed2corr_KOwoPer_PEPwoPer[seed]\n",
    "    for sigma in SIGMA_SCALERs:\n",
    "        sigma2corr_KOwPer_PEPwoPer = seed2sigma2corr_KOwPer_PEPwoPer[seed][sigma]\n",
    "        sigma2corr_KOwPer_PEPwPer = seed2sigma2corr_KOwPer_PEPwPer[seed][sigma]\n",
    "        print(\n",
    "            f\"Seed: {seed} - Sigma: {sigma}\\t\\t{corr_KOwoPer_PEPwoPer}\\t\\t\\t{sigma2corr_KOwPer_PEPwoPer}\\t\\t\\t{sigma2corr_KOwPer_PEPwPer}\"\n",
    "        )\n",
    "    print()"
   ]
  },
  {
   "cell_type": "code",
   "execution_count": null,
   "metadata": {},
   "outputs": [],
   "source": [
    "good_seeds = list(seed2corr_KOwoPer_PEPwoPer.keys())"
   ]
  },
  {
   "cell_type": "code",
   "execution_count": null,
   "metadata": {},
   "outputs": [],
   "source": [
    "l = list()\n",
    "for d in seed2sigma2corr_KOwPer_PEPwoPer.values():\n",
    "    l.append(list(d.values()))\n",
    "corrs_KOwPer_PEPwoPer = np.asarray(l)\n",
    "corrs_KOwPer_PEPwoPer_mean = np.mean(corrs_KOwPer_PEPwoPer, axis=0)\n",
    "corrs_KOwPer_PEPwoPer_std = np.std(corrs_KOwPer_PEPwoPer, axis=0) / np.sqrt(len(corrs_KOwPer_PEPwoPer))\n",
    "corrs_KOwPer_PEPwoPer_mean.shape, corrs_KOwPer_PEPwoPer_std.shape"
   ]
  },
  {
   "cell_type": "code",
   "execution_count": null,
   "metadata": {},
   "outputs": [],
   "source": [
    "l = list()\n",
    "for d in seed2sigma2corr_KOwPer_PEPwPer.values():\n",
    "    l.append(list(d.values()))\n",
    "corrs_KOwPer_PEPwPer = np.asarray(l)\n",
    "corrs_KOwPer_PEPwPer_mean = np.mean(corrs_KOwPer_PEPwPer, axis=0)\n",
    "corrs_KOwPer_PEPwPer_std = np.std(corrs_KOwPer_PEPwPer, axis=0) / np.sqrt(len(corrs_KOwPer_PEPwPer))\n",
    "corrs_KOwPer_PEPwPer_mean.shape, corrs_KOwPer_PEPwPer_std.shape"
   ]
  },
  {
   "cell_type": "code",
   "execution_count": null,
   "metadata": {},
   "outputs": [],
   "source": [
    "fig = plt.figure(figsize=(16, 9))\n",
    "\n",
    "plt.plot(SIGMA_SCALERs, [corr_real] * len(SIGMA_SCALERs), label=r\"$\\rho(KO, PEP)$\", color=\"C1\")\n",
    "plt.plot(\n",
    "    SIGMA_SCALERs,\n",
    "    [seed2corr_KOwoPer_PEPwoPer[seed]] * len(SIGMA_SCALERs),\n",
    "    label=r\"$\\rho(\\widehat{KO}, \\widehat{PEP})$\",\n",
    "    color=\"C2\",\n",
    ")\n",
    "\n",
    "plt.fill_between(\n",
    "    SIGMA_SCALERs,\n",
    "    corrs_KOwPer_PEPwoPer_mean,\n",
    "    corrs_KOwPer_PEPwoPer_mean + corrs_KOwPer_PEPwoPer_std,\n",
    "    color=\"C3\",\n",
    "    alpha=0.2,\n",
    ")\n",
    "plt.fill_between(\n",
    "    SIGMA_SCALERs,\n",
    "    corrs_KOwPer_PEPwoPer_mean,\n",
    "    corrs_KOwPer_PEPwoPer_mean - corrs_KOwPer_PEPwoPer_std,\n",
    "    color=\"C3\",\n",
    "    alpha=0.2,\n",
    ")\n",
    "plt.plot(SIGMA_SCALERs, corrs_KOwPer_PEPwoPer_mean, label=r\"$\\rho(\\widehat{KO_p}, \\widehat{PEP})$\", color=\"C3\")\n",
    "\n",
    "plt.fill_between(\n",
    "    SIGMA_SCALERs,\n",
    "    corrs_KOwPer_PEPwPer_mean,\n",
    "    corrs_KOwPer_PEPwPer_mean + corrs_KOwPer_PEPwPer_std,\n",
    "    color=\"C4\",\n",
    "    alpha=0.2,\n",
    ")\n",
    "plt.fill_between(\n",
    "    SIGMA_SCALERs,\n",
    "    corrs_KOwPer_PEPwPer_mean,\n",
    "    corrs_KOwPer_PEPwPer_mean - corrs_KOwPer_PEPwPer_std,\n",
    "    color=\"C4\",\n",
    "    alpha=0.2,\n",
    ")\n",
    "plt.plot(SIGMA_SCALERs, corrs_KOwPer_PEPwPer_mean, color=\"C4\", label=r\"$\\rho(\\widehat{KO_p}, \\widehat{PEP_m})$\")\n",
    "\n",
    "plt.ylim((-1, 1))\n",
    "plt.xlabel(r\"$\\alpha$\", fontdict={\"fontsize\": FONT_SIZE_LABEL})\n",
    "plt.ylabel(\"Correlation\\ncoefficient\", fontdict={\"fontsize\": FONT_SIZE_LABEL})\n",
    "plt.title(\n",
    "    \"Reactive correlation dynamics\",\n",
    "    fontsize=FONT_SIZE_TITLE_PLOT,\n",
    ")\n",
    "plt.legend(\n",
    "    loc=\"best\",\n",
    "    ncol=2,\n",
    "    fontsize=FONT_SIZE_LEGEND,\n",
    "    frameon=False,\n",
    "    # bbox_to_anchor=(0.5, 1.)\n",
    ")\n",
    "plt.tight_layout()\n",
    "# plt.savefig(f\"{PROJECT_FOLDER}/plot_finali/multistock/perturbations/reactive_shock.pdf\")\n",
    "plt.show()\n",
    "plt.close(fig)"
   ]
  },
  {
   "cell_type": "code",
   "execution_count": null,
   "metadata": {},
   "outputs": [],
   "source": [
    "seed = good_seeds[0]\n",
    "\n",
    "priceWoPer = seed2priceWoPer[seed]\n",
    "priceWPer = seed2priceWPerS[seed]\n",
    "\n",
    "prices_reals.shape, priceWoPer.shape, priceWPer.shape"
   ]
  },
  {
   "cell_type": "code",
   "execution_count": null,
   "metadata": {},
   "outputs": [],
   "source": [
    "price"
   ]
  },
  {
   "cell_type": "markdown",
   "metadata": {},
   "source": [
    "# PEP & KO & NVDA"
   ]
  },
  {
   "cell_type": "code",
   "execution_count": null,
   "metadata": {},
   "outputs": [],
   "source": [
    "stock_names, prices_reals.shape, seed2priceWoPer[SEEDS[0]].shape, seed2priceWPerS[SEEDS[0]].shape"
   ]
  },
  {
   "cell_type": "code",
   "execution_count": null,
   "metadata": {},
   "outputs": [],
   "source": [
    "priceWoPer = seed2priceWoPer[SEEDS[0]]\n",
    "priceWPer = seed2priceWPerS[SEEDS[0]][:, :]\n",
    "priceWoPer.shape, priceWPer.shape"
   ]
  },
  {
   "cell_type": "code",
   "execution_count": null,
   "metadata": {},
   "outputs": [],
   "source": [
    "fig, axes = plt.subplots(2, 2, figsize=(16, 9))\n",
    "axes = axes.ravel()\n",
    "\n",
    "add_label = True\n",
    "add_label_ = True\n",
    "for (\n",
    "    ax,\n",
    "    stock_name,\n",
    "    price_real,\n",
    "    price_no_per,\n",
    "    price_per,\n",
    ") in zip(axes, stock_names, prices_reals, priceWoPer, priceWPer):\n",
    "    ax.plot(history_indexes, price_no_per[:390], color=\"C0\")\n",
    "    # ax.plot(continuation_indexes, price_real[390:], color=\"C1\", label=\"Real\" if add_label else None)\n",
    "\n",
    "    ax.plot(continuation_indexes, price_no_per[390:], color=\"C3\", label=\"W/o perturbation\" if add_label else None)\n",
    "\n",
    "    # for i, (price_per_s, sigma_scaler) in enumerate(zip(price_per, SIGMA_SCALERs)):\n",
    "    #     if i == 1:\n",
    "    #         ax.plot(\n",
    "    #             continuation_indexes,\n",
    "    #             price_per_s[390:],\n",
    "    #             color=f\"C{i+4}\",\n",
    "    #             label=f\"W/ perturbation: {sigma_scaler}\" if add_label_ else None,\n",
    "    #         )\n",
    "    #         add_label_ = False\n",
    "\n",
    "    ax.axvline(x=390, color=\"r\")\n",
    "\n",
    "    min_ = min(price_real.min(), price_no_per.min(), price_per.min())\n",
    "    max_ = max(price_real.max(), price_no_per.max(), price_per.max())\n",
    "    if stock_name == \"NVDA\":\n",
    "        ax.add_patch(\n",
    "            Rectangle(\n",
    "                xy=(start_perturbation_n1, min_),\n",
    "                width=start_perturbation_n2 - start_perturbation_n1,\n",
    "                height=max_ - min_,\n",
    "                color=\"r\",\n",
    "                alpha=0.3,\n",
    "            )\n",
    "        )\n",
    "    ax.add_patch(\n",
    "        Rectangle(\n",
    "            xy=(start_perturbation_n2, min_),\n",
    "            width=start_perturbation_n2 - start_perturbation_n1,\n",
    "            height=max_ - min_,\n",
    "            color=\"g\",\n",
    "            alpha=0.3,\n",
    "        )\n",
    "    )\n",
    "    ax.add_patch(\n",
    "        Rectangle(\n",
    "            xy=(start_perturbation_n2 + 150, min_),\n",
    "            width=price_no_per.shape[-1] - start_perturbation_n2,\n",
    "            height=max_ - min_,\n",
    "            color=\"b\",\n",
    "            alpha=0.1,\n",
    "        )\n",
    "    )\n",
    "    add_label = False\n",
    "\n",
    "    ax.set_title(stock_name, fontsize=FONT_SIZE_TITLE_AX)\n",
    "    ax.set_xlabel(\"Steps\", fontsize=FONT_SIZE_LABEL)\n",
    "    ax.set_ylabel(\"Price ($)\", fontsize=FONT_SIZE_LABEL, rotation=90)\n",
    "    ax.xaxis.set_tick_params(labelsize=12)\n",
    "    ax.yaxis.set_tick_params(labelsize=FONT_SIZE_TICKS)\n",
    "    ax.set_xticks([0, 390, start_perturbation_n2, price_no_per.shape[-1]])\n",
    "\n",
    "fig.suptitle(\"Introducing perturbations\", fontsize=FONT_SIZE_TITLE_PLOT, y=1.0)\n",
    "fig.legend(loc=\"upper center\", ncol=3, fontsize=FONT_SIZE_LEGEND, frameon=False, bbox_to_anchor=(0.5, 0.97))\n",
    "fig.tight_layout()\n",
    "# plt.savefig(f\"{PROJECT_FOLDER}/plot_finali/multistock/perturbations/perturbed_NVDA_one.pdf\")\n",
    "plt.show()\n",
    "plt.close(fig)"
   ]
  },
  {
   "cell_type": "code",
   "execution_count": null,
   "metadata": {},
   "outputs": [],
   "source": [
    "corr_real = np.round(np.corrcoef(prices_reals), 2)\n",
    "corr_real"
   ]
  },
  {
   "cell_type": "code",
   "execution_count": null,
   "metadata": {},
   "outputs": [],
   "source": [
    "corr_syntheticWoPer = np.round(np.corrcoef(priceWoPer[:, start_perturbation_n2 + 150 :]), 2)\n",
    "corr_syntheticWoPer"
   ]
  },
  {
   "cell_type": "code",
   "execution_count": null,
   "metadata": {},
   "outputs": [],
   "source": [
    "corr_syntheticWPer = np.round(np.corrcoef(priceWPer[:, 0, start_perturbation_n2 + 150 :]), 2)\n",
    "corr_syntheticWPer"
   ]
  },
  {
   "cell_type": "code",
   "execution_count": null,
   "metadata": {},
   "outputs": [],
   "source": [
    "priceWPer_KO, priceWPer_PEP, priceWPer_NVDA = priceWPer[:, 1, start_perturbation_n2 + 150 :]\n",
    "priceWoPer_KO, priceWoPer_PEP, priceWoPer_NVDA = priceWoPer[:, start_perturbation_n2 + 150 :]\n",
    "\n",
    "corr_KOWPer_PEPWoPer = round(np.corrcoef(priceWPer_KO, priceWoPer_PEP)[0, 1], 2)\n",
    "corr_KOWPer_PEPWPer = round(np.corrcoef(priceWPer_KO, priceWPer_PEP)[0, 1], 2)\n",
    "\n",
    "corr_KOWPer_NVDAWoPer = round(np.corrcoef(priceWPer_KO, priceWoPer_NVDA)[0, 1], 2)\n",
    "corr_KOWPer_NVDAWPer = round(np.corrcoef(priceWPer_KO, priceWPer_NVDA)[0, 1], 2)\n",
    "\n",
    "corr_PEPWPer_NVDAWoPer = round(np.corrcoef(priceWPer_PEP, priceWoPer_NVDA)[0, 1], 2)\n",
    "corr_PEPWPer_NVDAWPer = round(np.corrcoef(priceWPer_PEP, priceWPer_NVDA)[0, 1], 2)\n",
    "\n",
    "print(corr_KOWPer_PEPWoPer, corr_KOWPer_PEPWPer)\n",
    "print(corr_KOWPer_NVDAWoPer, corr_KOWPer_NVDAWPer)\n",
    "print(corr_PEPWPer_NVDAWoPer, corr_PEPWPer_NVDAWPer)"
   ]
  },
  {
   "cell_type": "markdown",
   "metadata": {},
   "source": [
    "## Long perturbations"
   ]
  },
  {
   "cell_type": "code",
   "execution_count": null,
   "metadata": {},
   "outputs": [],
   "source": [
    "seed = 1"
   ]
  },
  {
   "cell_type": "code",
   "execution_count": null,
   "metadata": {},
   "outputs": [],
   "source": [
    "PATH_PICKLE_PRICE_NOPER = (\n",
    "    f\"{PROJECT_FOLDER}/storage/thesis-gan/{RUN_ID_PRICE}/perturbations/perturbation_seed={seed}_sigmascaler=None.pickle\"\n",
    ")\n",
    "\n",
    "with open(PATH_PICKLE_PRICE_NOPER, \"rb\") as handle:\n",
    "    dict_no_per = pickle.load(handle)\n",
    "\n",
    "pricesWoPer = dict_no_per[\"pred_prices\"].numpy()\n",
    "pricesWoPer.shape"
   ]
  },
  {
   "cell_type": "code",
   "execution_count": null,
   "metadata": {},
   "outputs": [],
   "source": [
    "PATH_PICKLE_PRICE_PER = (\n",
    "    f\"{PROJECT_FOLDER}/storage/thesis-gan/{RUN_ID_PRICE}/perturbations/\"\n",
    "    f\"perturbation_seed={seed}_sigmascaler=0.1.pickle\"\n",
    ")\n",
    "\n",
    "with open(PATH_PICKLE_PRICE_PER, \"rb\") as handle:\n",
    "    dict_per = pickle.load(handle)\n",
    "\n",
    "pricesWPer = dict_per[\"pred_prices\"].numpy()\n",
    "pricesWPer.shape"
   ]
  },
  {
   "cell_type": "code",
   "execution_count": null,
   "metadata": {},
   "outputs": [],
   "source": [
    "history_indexes = np.arange(390)\n",
    "continuation_indexes = np.arange(390, pricesWPer.shape[-1])\n",
    "continuation_indexes_real = np.arange(390, prices_reals.shape[-1])"
   ]
  },
  {
   "cell_type": "code",
   "execution_count": null,
   "metadata": {},
   "outputs": [],
   "source": [
    "i_start, i_end = 3, 15\n",
    "start_perturbation, end_perturbation = 390 + i_start * 150, 390 + (i_end + 1) * 150\n",
    "start_perturbation, end_perturbation"
   ]
  },
  {
   "cell_type": "code",
   "execution_count": null,
   "metadata": {},
   "outputs": [],
   "source": [
    "fig, axes = plt.subplots(2, 1, figsize=(16, 9))\n",
    "axes = axes.ravel()\n",
    "\n",
    "add_label = True\n",
    "for (\n",
    "    ax,\n",
    "    stock_name,\n",
    "    price_real,\n",
    "    price_no_per,\n",
    "    price_per,\n",
    ") in zip(axes, stock_names, prices_reals, pricesWoPer, pricesWPer):\n",
    "    ax.plot(history_indexes, price_real[:390], color=\"C0\")\n",
    "    ax.plot(continuation_indexes_real, price_real[390:], color=\"C1\", label=\"Real\" if add_label else None)\n",
    "\n",
    "    ax.plot(continuation_indexes, price_no_per[390:], color=\"C3\", label=\"W/o perturbation\" if add_label else None)\n",
    "    ax.plot(continuation_indexes, price_per[390:], color=\"C4\", label=\"W/ perturbation\" if add_label else None)\n",
    "\n",
    "    ax.axvline(x=390, color=\"r\")\n",
    "\n",
    "    min_ = min(price_real.min(), price_no_per.min(), price_per.min())\n",
    "    max_ = max(price_real.max(), price_no_per.max(), price_per.max())\n",
    "    ax.add_patch(\n",
    "        Rectangle(\n",
    "            xy=(start_perturbation, min_),\n",
    "            width=end_perturbation - start_perturbation,\n",
    "            height=max_ - min_,\n",
    "            color=\"r\",\n",
    "            alpha=0.3,\n",
    "        )\n",
    "    )\n",
    "    add_label = False\n",
    "\n",
    "    ax.set_title(stock_name, fontsize=FONT_SIZE_TITLE_AX)\n",
    "    ax.set_xlabel(\"Steps\", fontsize=FONT_SIZE_LABEL)\n",
    "    ax.set_ylabel(\"Price ($)\", fontsize=FONT_SIZE_LABEL, rotation=90)\n",
    "    ax.xaxis.set_tick_params(labelsize=12)\n",
    "    ax.yaxis.set_tick_params(labelsize=FONT_SIZE_TICKS)\n",
    "    ax.set_xticks([0, 390, start_perturbation, end_perturbation])\n",
    "\n",
    "fig.suptitle(\"Prices\", fontsize=FONT_SIZE_TITLE_PLOT, y=1.0)\n",
    "fig.legend(loc=\"upper center\", ncol=3, fontsize=FONT_SIZE_LEGEND, frameon=False, bbox_to_anchor=(0.5, 0.97))\n",
    "fig.tight_layout()\n",
    "# plt.savefig(f\"{PROJECT_FOLDER}/plot_finali/multistock/perturbations/long_perturbed.pdf\")\n",
    "plt.show()\n",
    "plt.close(fig)"
   ]
  },
  {
   "cell_type": "code",
   "execution_count": null,
   "metadata": {},
   "outputs": [],
   "source": [
    "corr_after_perturbation = round(np.corrcoef(pricesWPer[:, end_perturbation:])[0, 1], 2)\n",
    "corr_during_perturbation = round(np.corrcoef(pricesWPer[:, start_perturbation:end_perturbation])[0, 1], 2)"
   ]
  },
  {
   "cell_type": "code",
   "execution_count": null,
   "metadata": {},
   "outputs": [],
   "source": [
    "print(f\"Real: {corr_real}\")\n",
    "print(f\"After perturbation: {corr_after_perturbation}\")\n",
    "print(f\"During perturbation: {corr_during_perturbation}\")"
   ]
  },
  {
   "cell_type": "code",
   "execution_count": null,
   "metadata": {},
   "outputs": [],
   "source": []
  }
 ],
 "metadata": {
  "kernelspec": {
   "display_name": "Python [conda env:thesis-gan]",
   "language": "python",
   "name": "conda-env-thesis-gan-py"
  },
  "language_info": {
   "codemirror_mode": {
    "name": "ipython",
    "version": 2
   },
   "file_extension": ".py",
   "mimetype": "text/x-python",
   "name": "python",
   "nbconvert_exporter": "python",
   "pygments_lexer": "ipython2",
   "version": "2.7.6"
  }
 },
 "nbformat": 4,
 "nbformat_minor": 0
}
