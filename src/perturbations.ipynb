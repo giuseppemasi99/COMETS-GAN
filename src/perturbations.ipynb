{
 "cells": [
  {
   "cell_type": "code",
   "execution_count": null,
   "metadata": {},
   "outputs": [],
   "source": [
    "!ls"
   ]
  },
  {
   "cell_type": "code",
   "execution_count": null,
   "metadata": {},
   "outputs": [],
   "source": [
    "import numpy as np\n",
    "import matplotlib.pyplot as plt\n",
    "from matplotlib.patches import Rectangle\n",
    "import pickle"
   ]
  },
  {
   "cell_type": "code",
   "execution_count": null,
   "metadata": {},
   "outputs": [],
   "source": [
    "plt.rcParams[\"figure.figsize\"] = [16, 9]\n",
    "# plt.rcParams[\"figure.dpi\"] = 300\n",
    "plt.rcParams[\"font.size\"] = 20\n",
    "plt.rcParams[\"axes.labelsize\"] = 20\n",
    "plt.rcParams[\"axes.titlesize\"] = 24\n",
    "plt.rcParams[\"xtick.labelsize\"] = 16\n",
    "plt.rcParams[\"ytick.labelsize\"] = 16\n",
    "plt.rcParams[\"font.family\"] = \"serif\""
   ]
  },
  {
   "cell_type": "code",
   "execution_count": null,
   "metadata": {},
   "outputs": [],
   "source": [
    "FONT_SIZE_TITLE_PLOT = 48  # 40\n",
    "FONT_SIZE_TITLE_AX = 36  # 30\n",
    "FONT_SIZE_LABEL = 30  # 24\n",
    "FONT_SIZE_TICKS = 24  # 20\n",
    "FONT_SIZE_LEGEND = 32  # 28"
   ]
  },
  {
   "cell_type": "code",
   "execution_count": null,
   "metadata": {},
   "outputs": [],
   "source": [
    "PROJECT_FOLDER = \"PycharmProjects/thesis-gan\""
   ]
  },
  {
   "cell_type": "code",
   "execution_count": null,
   "metadata": {},
   "outputs": [],
   "source": [
    "stock_names = [\"PEP\", \"KO\", \"NVDA\", \"KSU\"]\n",
    "stock_names = [\"KO\", \"PEP\"]\n",
    "n_stocks = len(stock_names)"
   ]
  },
  {
   "cell_type": "code",
   "execution_count": null,
   "metadata": {},
   "outputs": [],
   "source": [
    "RUN_ID_PRICE = \"24uxrxqz\""
   ]
  },
  {
   "cell_type": "code",
   "execution_count": null,
   "metadata": {},
   "outputs": [],
   "source": [
    "SIGMA_SCALERs = [0.1, 0.2, 0.3, 0.4, 0.5, 0.6, 0.7]"
   ]
  },
  {
   "cell_type": "code",
   "execution_count": null,
   "metadata": {},
   "outputs": [],
   "source": [
    "PATH_PICKLE_PRICE_REALS = f\"{PROJECT_FOLDER}/storage/thesis-gan/{RUN_ID_PRICE}/reals.pickle\"\n",
    "PATH_PICKLE_PRICE_NOPER = (\n",
    "    f\"{PROJECT_FOLDER}/storage/thesis-gan/{RUN_ID_PRICE}/perturbations/perturbation_sigmascaler=None.pickle\"\n",
    ")\n",
    "\n",
    "with open(PATH_PICKLE_PRICE_REALS, \"rb\") as handle:\n",
    "    dict_reals = pickle.load(handle)\n",
    "with open(PATH_PICKLE_PRICE_NOPER, \"rb\") as handle:\n",
    "    dict_no_per = pickle.load(handle)\n",
    "\n",
    "prices_no_per = dict_no_per[\"pred_prices\"].numpy()\n",
    "prices_reals = dict_reals[\"prices\"][:, : prices_no_per.shape[-1]]\n",
    "\n",
    "prices_reals.shape, prices_no_per.shape"
   ]
  },
  {
   "cell_type": "code",
   "execution_count": null,
   "metadata": {},
   "outputs": [],
   "source": [
    "PATHs_PICKLE_PRICE_PER = [\n",
    "    f\"{PROJECT_FOLDER}/storage/thesis-gan/{RUN_ID_PRICE}/perturbations/perturbation_sigmascaler={sigma_scaler}.pickle\"\n",
    "    for sigma_scaler in SIGMA_SCALERs\n",
    "]\n",
    "\n",
    "l = list()\n",
    "for path in PATHs_PICKLE_PRICE_PER:\n",
    "    with open(path, \"rb\") as handle:\n",
    "        dict_per = pickle.load(handle)\n",
    "    prices_per = dict_per[\"pred_prices\"].numpy()\n",
    "    l.append(prices_per)\n",
    "\n",
    "prices_per = np.asarray(l).transpose(1, 0, 2)\n",
    "prices_per.shape"
   ]
  },
  {
   "cell_type": "code",
   "execution_count": null,
   "metadata": {},
   "outputs": [],
   "source": [
    "history_indexes = np.arange(390)\n",
    "continuation_indexes = np.arange(390, prices_reals.shape[-1])\n",
    "history_indexes.shape, continuation_indexes.shape"
   ]
  },
  {
   "cell_type": "code",
   "execution_count": null,
   "metadata": {},
   "outputs": [],
   "source": [
    "iteration_perturbation = 9\n",
    "start_perturbation_n1 = 390 + 150 * iteration_perturbation\n",
    "start_perturbation_n2 = start_perturbation_n1 + 150"
   ]
  },
  {
   "cell_type": "code",
   "execution_count": null,
   "metadata": {},
   "outputs": [],
   "source": [
    "fig, axes = plt.subplots(2, 1, figsize=(16, 9))\n",
    "axes = axes.ravel()\n",
    "\n",
    "add_label = True\n",
    "for (\n",
    "    ax,\n",
    "    stock_name,\n",
    "    price_real,\n",
    "    price_no_per,\n",
    "    price_per,\n",
    ") in zip(axes, stock_names, prices_reals, prices_no_per, prices_per):\n",
    "    ax.plot(history_indexes, price_no_per[:390], color=\"C0\", label=\"Observed\" if add_label else None)\n",
    "    ax.plot(continuation_indexes, price_real[390:], color=\"C1\", label=\"Real\" if add_label else None)\n",
    "\n",
    "    ax.plot(continuation_indexes, price_no_per[390:], color=\"C3\", label=\"W/o perturbation\" if add_label else None)\n",
    "\n",
    "    for i, (price_per_s, sigma_scaler) in enumerate(zip(price_per, SIGMA_SCALERs)):\n",
    "        ax.plot(\n",
    "            continuation_indexes,\n",
    "            price_per_s[390:],\n",
    "            color=f\"C{i+4}\",\n",
    "            label=f\"W/ perturbation: {sigma_scaler}\" if add_label else None,\n",
    "        )\n",
    "\n",
    "    ax.axvline(x=390, color=\"r\")\n",
    "\n",
    "    min_ = min(price_real.min(), price_no_per.min(), price_per.min())\n",
    "    max_ = max(price_real.max(), price_no_per.max(), price_per.max())\n",
    "    ax.add_patch(\n",
    "        Rectangle(\n",
    "            xy=(start_perturbation_n1, min_),\n",
    "            width=start_perturbation_n2 - start_perturbation_n1,\n",
    "            height=max_ - min_,\n",
    "            color=\"r\",\n",
    "            alpha=0.3,\n",
    "        )\n",
    "    )\n",
    "    ax.add_patch(\n",
    "        Rectangle(\n",
    "            xy=(start_perturbation_n2, min_),\n",
    "            width=start_perturbation_n2 - start_perturbation_n1,\n",
    "            height=max_ - min_,\n",
    "            color=\"g\",\n",
    "            alpha=0.3,\n",
    "        )\n",
    "    )\n",
    "\n",
    "    ax.set_title(stock_name, fontsize=FONT_SIZE_TITLE_AX)\n",
    "    ax.set_xlabel(\"Steps\", fontsize=FONT_SIZE_LABEL)\n",
    "    ax.set_ylabel(\"Price ($)\", fontsize=FONT_SIZE_LABEL, rotation=90)\n",
    "    ax.xaxis.set_tick_params(labelsize=12)\n",
    "    ax.yaxis.set_tick_params(labelsize=FONT_SIZE_TICKS)\n",
    "    ax.set_xticks([0, 390, start_perturbation_n1, start_perturbation_n2, start_perturbation_n2 + 150])\n",
    "\n",
    "    add_label = False\n",
    "\n",
    "fig.suptitle(\"Prices\", fontsize=FONT_SIZE_TITLE_PLOT, y=1)\n",
    "fig.legend(loc=\"upper center\", ncol=3, fontsize=FONT_SIZE_LEGEND, frameon=False, bbox_to_anchor=(0.5, 1.3))\n",
    "fig.tight_layout()\n",
    "# plt.savefig(f\"{PROJECT_FOLDER}/plot_finali/multistock/perturbations/perturbed_KO.pdf\")\n",
    "plt.show()\n",
    "plt.close(fig)"
   ]
  },
  {
   "cell_type": "code",
   "execution_count": null,
   "metadata": {},
   "outputs": [],
   "source": [
    "corr_real = np.corrcoef(prices_reals)[0, 1]\n",
    "corr_real = round(corr_real, 2)\n",
    "corr_real"
   ]
  },
  {
   "cell_type": "code",
   "execution_count": null,
   "metadata": {},
   "outputs": [],
   "source": [
    "KOwoPer, PEPwoPer = prices_no_per[:, start_perturbation_n2 + 150 :]\n",
    "corr_KOwoPer_PEPwoPer = np.corrcoef(KOwoPer, PEPwoPer)[0, 1]\n",
    "corr_KOwoPer_PEPwoPer = round(corr_KOwoPer_PEPwoPer, 2)\n",
    "corr_KOwoPer_PEPwoPer"
   ]
  },
  {
   "cell_type": "code",
   "execution_count": null,
   "metadata": {},
   "outputs": [],
   "source": [
    "KOwPer, PEPwPer = prices_per[:, :, start_perturbation_n2 + 150 :]\n",
    "corrs_KOwPerS_PEPwoPer = list()\n",
    "for KOwPerS, sigma in zip(KOwPer, SIGMA_SCALERs):\n",
    "    corr_KOwPerS_PEPwoPer = np.corrcoef(KOwPerS, PEPwoPer)[0, 1]\n",
    "    corr_KOwPerS_PEPwoPer = round(corr_KOwPerS_PEPwoPer, 2)\n",
    "    corrs_KOwPerS_PEPwoPer.append(corr_KOwPerS_PEPwoPer)\n",
    "corrs_KOwPerS_PEPwoPer"
   ]
  },
  {
   "cell_type": "code",
   "execution_count": null,
   "metadata": {},
   "outputs": [],
   "source": [
    "corrs_KOwPerS_PEPwPerS = list()\n",
    "for KOwPerS, PEPwPerS, sigma in zip(KOwPer, PEPwPer, SIGMA_SCALERs):\n",
    "    corr_KOwPerS_PEPwPerS = np.corrcoef(KOwPerS, PEPwPerS)[0, 1]\n",
    "    corr_KOwPerS_PEPwPerS = round(corr_KOwPerS_PEPwPerS, 2)\n",
    "    corrs_KOwPerS_PEPwPerS.append(corr_KOwPerS_PEPwPerS)\n",
    "corrs_KOwPerS_PEPwPerS"
   ]
  },
  {
   "cell_type": "code",
   "execution_count": null,
   "metadata": {},
   "outputs": [],
   "source": [
    "print(\"corr_real:\\t\\t\\t\\t\", corr_real)\n",
    "print(\"corr_KOwoPer_PEPwoPer:\\t\", corr_KOwoPer_PEPwoPer)\n",
    "print()\n",
    "print(\"sigma\\tcorrs_KOwPerS_PEPwoPer\\tcorrs_KOwPerS_PEPwPerS\")\n",
    "for sigma, corr_KOwPerS_PEPwoPer, corr_KOwPerS_PEPwPerS in zip(\n",
    "    SIGMA_SCALERs, corrs_KOwPerS_PEPwoPer, corrs_KOwPerS_PEPwPerS\n",
    "):\n",
    "    print(sigma, \"\\t\\t\", corr_KOwPerS_PEPwoPer, \"\\t\\t\\t\\t\\t\\t\", corr_KOwPerS_PEPwPerS)"
   ]
  },
  {
   "cell_type": "code",
   "execution_count": null,
   "metadata": {},
   "outputs": [],
   "source": []
  }
 ],
 "metadata": {
  "kernelspec": {
   "display_name": "Python [conda env:thesis-gan]",
   "language": "python",
   "name": "conda-env-thesis-gan-py"
  },
  "language_info": {
   "codemirror_mode": {
    "name": "ipython",
    "version": 2
   },
   "file_extension": ".py",
   "mimetype": "text/x-python",
   "name": "python",
   "nbconvert_exporter": "python",
   "pygments_lexer": "ipython2",
   "version": "2.7.6"
  }
 },
 "nbformat": 4,
 "nbformat_minor": 0
}
