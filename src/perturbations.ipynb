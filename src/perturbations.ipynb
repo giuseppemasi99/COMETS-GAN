{
 "cells": [
  {
   "cell_type": "code",
   "execution_count": null,
   "metadata": {},
   "outputs": [],
   "source": [
    "!ls"
   ]
  },
  {
   "cell_type": "code",
   "execution_count": null,
   "metadata": {},
   "outputs": [],
   "source": [
    "import math\n",
    "import numpy as np\n",
    "import matplotlib.pyplot as plt\n",
    "from matplotlib.patches import Rectangle\n",
    "import pickle\n",
    "from numpy.lib.stride_tricks import sliding_window_view"
   ]
  },
  {
   "cell_type": "code",
   "execution_count": null,
   "metadata": {},
   "outputs": [],
   "source": [
    "plt.rcParams[\"figure.figsize\"] = [16, 9]\n",
    "# plt.rcParams[\"figure.dpi\"] = 300\n",
    "plt.rcParams[\"font.size\"] = 20\n",
    "plt.rcParams[\"axes.labelsize\"] = 20\n",
    "plt.rcParams[\"axes.titlesize\"] = 24\n",
    "plt.rcParams[\"xtick.labelsize\"] = 16\n",
    "plt.rcParams[\"ytick.labelsize\"] = 16\n",
    "plt.rcParams[\"font.family\"] = \"serif\""
   ]
  },
  {
   "cell_type": "code",
   "execution_count": null,
   "metadata": {},
   "outputs": [],
   "source": [
    "FONT_SIZE_TITLE_PLOT = 48  # 40\n",
    "FONT_SIZE_TITLE_AX = 36  # 30\n",
    "FONT_SIZE_LABEL = 30  # 24\n",
    "FONT_SIZE_TICKS = 24  # 20\n",
    "FONT_SIZE_LEGEND = 32  # 28"
   ]
  },
  {
   "cell_type": "code",
   "execution_count": null,
   "metadata": {},
   "outputs": [],
   "source": [
    "PROJECT_FOLDER = \"PycharmProjects/thesis-gan\""
   ]
  },
  {
   "cell_type": "code",
   "execution_count": null,
   "metadata": {},
   "outputs": [],
   "source": [
    "stock_names = [\"KO\", \"PEP\"]\n",
    "n_stocks = len(stock_names)\n",
    "RUN_ID_PRICE = \"24uxrxqz\"\n",
    "SIGMA_SCALERs = [0.1, 0.2, 0.3, 0.4, 0.5, 0.6, 0.7]\n",
    "SEEDS = [1, 2, 5, 7, 8, 9, 12, 13, 15, 17]\n",
    "# SIGMA_SCALERs = [.4]\n",
    "# SEEDS = [20]"
   ]
  },
  {
   "cell_type": "code",
   "execution_count": null,
   "metadata": {},
   "outputs": [],
   "source": [
    "seed2priceWPerS = dict()\n",
    "for seed in SEEDS:\n",
    "    PATHs_PICKLE_PRICE_PER = [\n",
    "        f\"{PROJECT_FOLDER}/storage/thesis-gan/{RUN_ID_PRICE}/perturbations/15_06/perturbation_seed={seed}_sigmascaler={sigma_scaler}.pickle\"\n",
    "        for sigma_scaler in SIGMA_SCALERs\n",
    "    ]\n",
    "\n",
    "    l = list()\n",
    "    for path in PATHs_PICKLE_PRICE_PER:\n",
    "        with open(path, \"rb\") as handle:\n",
    "            dict_per = pickle.load(handle)\n",
    "        prices_per = dict_per[\"pred_prices\"].numpy()\n",
    "        l.append(prices_per)\n",
    "\n",
    "    prices_per = np.asarray(l).transpose((1, 0, 2))\n",
    "    seed2priceWPerS[seed] = prices_per\n",
    "pricesWPerS = seed2priceWPerS[SEEDS[0]]\n",
    "pricesWPerS.shape"
   ]
  },
  {
   "cell_type": "code",
   "execution_count": null,
   "metadata": {},
   "outputs": [],
   "source": [
    "seed2priceWoPer = dict()\n",
    "for seed in SEEDS:\n",
    "    PATH_PICKLE_PRICE_NOPER = f\"{PROJECT_FOLDER}/storage/thesis-gan/{RUN_ID_PRICE}/perturbations/15_06/perturbation_seed={seed}_sigmascaler=None.pickle\"\n",
    "\n",
    "    with open(PATH_PICKLE_PRICE_NOPER, \"rb\") as handle:\n",
    "        dict_no_per = pickle.load(handle)\n",
    "\n",
    "    prices_no_per = dict_no_per[\"pred_prices\"].numpy()\n",
    "    seed2priceWoPer[seed] = prices_no_per\n",
    "pricesWoPer = seed2priceWoPer[SEEDS[0]]\n",
    "pricesWoPer.shape"
   ]
  },
  {
   "cell_type": "code",
   "execution_count": null,
   "metadata": {},
   "outputs": [],
   "source": [
    "PATH_PICKLE_PRICE_REALS = f\"{PROJECT_FOLDER}/storage/thesis-gan/{RUN_ID_PRICE}/reals.pickle\"\n",
    "with open(PATH_PICKLE_PRICE_REALS, \"rb\") as handle:\n",
    "    dict_reals = pickle.load(handle)\n",
    "prices_reals = dict_reals[\"prices\"][:, : seed2priceWoPer[SEEDS[0]].shape[-1]]\n",
    "prices_reals.shape"
   ]
  },
  {
   "cell_type": "code",
   "execution_count": null,
   "metadata": {},
   "outputs": [],
   "source": [
    "# seed2priceWPerLinear = dict()\n",
    "# for seed in SEEDS:\n",
    "#     PATH_PICKLE_PRICE_WPERL = f\"{PROJECT_FOLDER}/storage/thesis-gan/{RUN_ID_PRICE}/perturbations/linear/perturbation_seed={seed}_sigmascaler=None_linear=True.pickle\"\n",
    "#\n",
    "#     with open(PATH_PICKLE_PRICE_WPERL, \"rb\") as handle:\n",
    "#         dict_per = pickle.load(handle)\n",
    "#\n",
    "#     pricesWperL = dict_per[\"pred_prices\"].numpy()\n",
    "#     seed2priceWPerLinear[seed] = pricesWperL\n",
    "# pricesWPerL = seed2priceWPerLinear[SEEDS[0]]\n",
    "# pricesWPerL.shape"
   ]
  },
  {
   "cell_type": "code",
   "execution_count": null,
   "metadata": {},
   "outputs": [],
   "source": [
    "end = pricesWoPer.shape[-1]\n",
    "# end = 4090\n",
    "\n",
    "history_indexes = np.arange(390)\n",
    "continuation_indexes = np.arange(390, end)\n",
    "history_indexes.shape, continuation_indexes.shape"
   ]
  },
  {
   "cell_type": "code",
   "execution_count": null,
   "metadata": {},
   "outputs": [],
   "source": [
    "decoder_length = 150"
   ]
  },
  {
   "cell_type": "code",
   "execution_count": null,
   "metadata": {},
   "outputs": [],
   "source": [
    "start_iteration_perturbation, end_iteration_perturbation = 4, 6\n",
    "n_iterations = end_iteration_perturbation - start_iteration_perturbation\n",
    "\n",
    "start_perturbation = 390 + decoder_length * start_iteration_perturbation\n",
    "end_perturbation = start_perturbation + n_iterations * decoder_length\n",
    "start_perturbation, end_perturbation"
   ]
  },
  {
   "cell_type": "code",
   "execution_count": null,
   "metadata": {},
   "outputs": [],
   "source": [
    "fig, axes = plt.subplots(2, 1, figsize=(16, 9))\n",
    "axes = axes.ravel()\n",
    "\n",
    "for ax, stock_name, price_real, priceWoPer, priceWPerS in zip(\n",
    "    axes, stock_names, prices_reals, pricesWoPer, pricesWPerS\n",
    "):\n",
    "    ax.plot(history_indexes, priceWoPer[:390], color=\"C0\")\n",
    "    ax.axvline(x=390, color=\"r\")\n",
    "\n",
    "    # ax.plot(continuation_indexes, price_real[390:end], color=\"C1\", label=\"Real\" if stock_name == \"KO\" else None)\n",
    "\n",
    "    ax.plot(continuation_indexes, priceWoPer[390:end], color=\"C2\", label=\"W/o Per\" if stock_name == \"KO\" else None)\n",
    "\n",
    "    # ax.plot(continuation_indexes, priceWperL[390:end], color=\"C3\", label=\"W/ Per L\" if stock_name == \"KO\" else None)\n",
    "\n",
    "    for i, (sigma, priceWPer) in enumerate(zip(SIGMA_SCALERs, priceWPerS)):\n",
    "        if sigma == 0.4:\n",
    "            ax.plot(\n",
    "                continuation_indexes,\n",
    "                priceWPer[390:end],\n",
    "                color=f\"C{i+3}\",\n",
    "                label=rf\"W/ Per $\\sigma={sigma}$\" if stock_name == \"KO\" else None,\n",
    "            )\n",
    "\n",
    "    min_ = min(priceWoPer.min(), priceWPerS.min())\n",
    "    max_ = max(priceWoPer.max(), priceWPerS.max())\n",
    "    if stock_name == \"KO\":\n",
    "        ax.add_patch(\n",
    "            Rectangle(\n",
    "                xy=(start_perturbation, min_),\n",
    "                width=end_perturbation - start_perturbation,\n",
    "                height=max_ - min_,\n",
    "                color=\"r\",\n",
    "                alpha=0.3,\n",
    "            )\n",
    "        )\n",
    "\n",
    "    ax.set_title(stock_name, fontsize=FONT_SIZE_TITLE_AX)\n",
    "    ax.set_xlabel(\"Steps\", fontsize=FONT_SIZE_LABEL)\n",
    "    ax.set_ylabel(\"Price ($)\", fontsize=FONT_SIZE_LABEL, rotation=90)\n",
    "    ax.xaxis.set_tick_params(labelsize=12)\n",
    "    ax.yaxis.set_tick_params(labelsize=FONT_SIZE_TICKS)\n",
    "    ax.set_xticks([0, 390, start_perturbation, end_perturbation, end])\n",
    "\n",
    "# fig.suptitle(\"Introducing perturbations\", fontsize=FONT_SIZE_TITLE_PLOT, y=1)\n",
    "fig.legend(\n",
    "    loc=\"upper center\",\n",
    "    ncol=3,\n",
    "    fontsize=FONT_SIZE_LEGEND,\n",
    "    frameon=False,\n",
    "    # bbox_to_anchor=(0.5, 1.06)\n",
    ")\n",
    "fig.tight_layout(rect=[0, 0, 1, 0.93])\n",
    "plt.savefig(f\"{PROJECT_FOLDER}/plot_finali/multistock/perturbations/perturbed_KO_one.pdf\")\n",
    "# plt.show()\n",
    "plt.close(fig)"
   ]
  },
  {
   "cell_type": "code",
   "execution_count": null,
   "metadata": {},
   "outputs": [],
   "source": [
    "for seed in SEEDS:\n",
    "    print(\"seed:\", seed)\n",
    "\n",
    "    priceWoPer = seed2priceWoPer[seed]\n",
    "    priceWPerS = seed2priceWPerS[seed]\n",
    "\n",
    "    corr_priceWoPer = np.round(np.corrcoef(priceWoPer)[0, 1], 2)\n",
    "\n",
    "    print(\"corr_priceWoPer:\", corr_priceWoPer)\n",
    "\n",
    "    corr_priceWPerS = list()\n",
    "    priceWPerS = priceWPerS.transpose((1, 0, 2))\n",
    "    for sigma_scaler, priceWPer in zip(SIGMA_SCALERs, priceWPerS):\n",
    "        corr_priceWPer = np.round(np.corrcoef(priceWPer)[0, 1], 2)\n",
    "        corr_priceWPerS.append(corr_priceWPer)\n",
    "    corr_priceWPerS = np.asarray(corr_priceWPerS)\n",
    "    print(\"corr_priceWPerS:\", list(zip(SIGMA_SCALERs, corr_priceWPerS)))\n",
    "    print()"
   ]
  },
  {
   "cell_type": "code",
   "execution_count": null,
   "metadata": {},
   "outputs": [],
   "source": [
    "print(seed2priceWoPer.keys(), seed2priceWPerS.keys())\n",
    "seed2priceWoPer[1].shape, seed2priceWPerS[1].shape"
   ]
  },
  {
   "cell_type": "markdown",
   "metadata": {},
   "source": [
    "# PEP & KO"
   ]
  },
  {
   "cell_type": "code",
   "execution_count": null,
   "metadata": {},
   "outputs": [],
   "source": [
    "corr_real = np.corrcoef(prices_reals)[0, 1]\n",
    "corr_real = round(corr_real, 2)"
   ]
  },
  {
   "cell_type": "code",
   "execution_count": null,
   "metadata": {},
   "outputs": [],
   "source": [
    "seed2corr_KOwoPer_PEPwoPer = dict()\n",
    "for seed, priceWoPer in seed2priceWoPer.items():\n",
    "    KOwoPer, PEPwoPer = priceWoPer[:, end_perturbation:]\n",
    "    corr_KOwoPer_PEPwoPer = np.corrcoef(KOwoPer, PEPwoPer)[0, 1]\n",
    "    corr_KOwoPer_PEPwoPer = round(corr_KOwoPer_PEPwoPer, 2)\n",
    "    if corr_KOwoPer_PEPwoPer >= 0.7:\n",
    "        seed2corr_KOwoPer_PEPwoPer[seed] = corr_KOwoPer_PEPwoPer"
   ]
  },
  {
   "cell_type": "code",
   "execution_count": null,
   "metadata": {},
   "outputs": [],
   "source": [
    "seed2sigma2corr_KOwPer_PEPwoPer, seed2sigma2corr_KOwPer_PEPwPer = dict(), dict()\n",
    "for seed in seed2corr_KOwoPer_PEPwoPer:\n",
    "    _, PEPwoPer = seed2priceWoPer[seed][:, end_perturbation:]\n",
    "    KOwPerS, PEPwPerS = seed2priceWPerS[seed][:, :, end_perturbation:]\n",
    "\n",
    "    seed2sigma2corr_KOwPer_PEPwoPer[seed] = dict()\n",
    "    seed2sigma2corr_KOwPer_PEPwPer[seed] = dict()\n",
    "    for sigma_scaler, KOwPer, PEPwPer in zip(SIGMA_SCALERs, KOwPerS, PEPwPerS):\n",
    "        seed2sigma2corr_KOwPer_PEPwoPer[seed][sigma_scaler] = round(np.corrcoef(KOwPer, PEPwoPer)[0, 1], 2)\n",
    "        seed2sigma2corr_KOwPer_PEPwPer[seed][sigma_scaler] = round(np.corrcoef(KOwPer, PEPwPer)[0, 1], 2)"
   ]
  },
  {
   "cell_type": "code",
   "execution_count": null,
   "metadata": {},
   "outputs": [],
   "source": [
    "print(\"\\t\\t\\t\\t\\tKOwoPer_PEPwoPer\\tKOwPer_PEPwoPer\\tKOwPer_PEPwPer\")\n",
    "\n",
    "for seed in seed2corr_KOwoPer_PEPwoPer:\n",
    "    corr_KOwoPer_PEPwoPer = seed2corr_KOwoPer_PEPwoPer[seed]\n",
    "    for sigma in SIGMA_SCALERs:\n",
    "        sigma2corr_KOwPer_PEPwoPer = seed2sigma2corr_KOwPer_PEPwoPer[seed][sigma]\n",
    "        sigma2corr_KOwPer_PEPwPer = seed2sigma2corr_KOwPer_PEPwPer[seed][sigma]\n",
    "        print(\n",
    "            f\"Seed: {seed} - Sigma: {sigma}\\t\\t{corr_KOwoPer_PEPwoPer}\\t\\t\\t{sigma2corr_KOwPer_PEPwoPer}\\t\\t\\t{sigma2corr_KOwPer_PEPwPer}\"\n",
    "        )\n",
    "    print()"
   ]
  },
  {
   "cell_type": "code",
   "execution_count": null,
   "metadata": {},
   "outputs": [],
   "source": [
    "good_seeds = list(seed2corr_KOwoPer_PEPwoPer.keys())\n",
    "good_seeds"
   ]
  },
  {
   "cell_type": "code",
   "execution_count": null,
   "metadata": {},
   "outputs": [],
   "source": [
    "l = list()\n",
    "for d in seed2sigma2corr_KOwPer_PEPwoPer.values():\n",
    "    l.append(list(d.values()))\n",
    "corrs_KOwPer_PEPwoPer = np.asarray(l)\n",
    "corrs_KOwPer_PEPwoPer_mean = np.mean(corrs_KOwPer_PEPwoPer, axis=0)\n",
    "corrs_KOwPer_PEPwoPer_std = np.std(corrs_KOwPer_PEPwoPer, axis=0) / np.sqrt(len(corrs_KOwPer_PEPwoPer))\n",
    "corrs_KOwPer_PEPwoPer_mean.shape, corrs_KOwPer_PEPwoPer_std.shape"
   ]
  },
  {
   "cell_type": "code",
   "execution_count": null,
   "metadata": {},
   "outputs": [],
   "source": [
    "l = list()\n",
    "for d in seed2sigma2corr_KOwPer_PEPwPer.values():\n",
    "    l.append(list(d.values()))\n",
    "corrs_KOwPer_PEPwPer = np.asarray(l)\n",
    "corrs_KOwPer_PEPwPer_mean = np.mean(corrs_KOwPer_PEPwPer, axis=0)\n",
    "corrs_KOwPer_PEPwPer_std = np.std(corrs_KOwPer_PEPwPer, axis=0) / np.sqrt(len(corrs_KOwPer_PEPwPer))\n",
    "corrs_KOwPer_PEPwPer_mean.shape, corrs_KOwPer_PEPwPer_std.shape"
   ]
  },
  {
   "cell_type": "code",
   "execution_count": null,
   "metadata": {},
   "outputs": [],
   "source": [
    "fig = plt.figure(figsize=(16, 9))\n",
    "\n",
    "plt.plot(SIGMA_SCALERs, [corr_real] * len(SIGMA_SCALERs), label=r\"$\\rho(KO, PEP)$\", color=\"C1\")\n",
    "plt.plot(\n",
    "    SIGMA_SCALERs,\n",
    "    [seed2corr_KOwoPer_PEPwoPer[seed]] * len(SIGMA_SCALERs),\n",
    "    label=r\"$\\rho(\\widehat{KO}, \\widehat{PEP})$\",\n",
    "    color=\"C2\",\n",
    ")\n",
    "\n",
    "plt.fill_between(\n",
    "    SIGMA_SCALERs,\n",
    "    corrs_KOwPer_PEPwoPer_mean,\n",
    "    corrs_KOwPer_PEPwoPer_mean + corrs_KOwPer_PEPwoPer_std,\n",
    "    color=\"C3\",\n",
    "    alpha=0.2,\n",
    ")\n",
    "plt.fill_between(\n",
    "    SIGMA_SCALERs,\n",
    "    corrs_KOwPer_PEPwoPer_mean,\n",
    "    corrs_KOwPer_PEPwoPer_mean - corrs_KOwPer_PEPwoPer_std,\n",
    "    color=\"C3\",\n",
    "    alpha=0.2,\n",
    ")\n",
    "plt.plot(SIGMA_SCALERs, corrs_KOwPer_PEPwoPer_mean, label=r\"$\\rho(\\widehat{KO_p}, \\widehat{PEP})$\", color=\"C3\")\n",
    "\n",
    "plt.fill_between(\n",
    "    SIGMA_SCALERs,\n",
    "    corrs_KOwPer_PEPwPer_mean,\n",
    "    corrs_KOwPer_PEPwPer_mean + corrs_KOwPer_PEPwPer_std,\n",
    "    color=\"C4\",\n",
    "    alpha=0.2,\n",
    ")\n",
    "plt.fill_between(\n",
    "    SIGMA_SCALERs,\n",
    "    corrs_KOwPer_PEPwPer_mean,\n",
    "    corrs_KOwPer_PEPwPer_mean - corrs_KOwPer_PEPwPer_std,\n",
    "    color=\"C4\",\n",
    "    alpha=0.2,\n",
    ")\n",
    "plt.plot(SIGMA_SCALERs, corrs_KOwPer_PEPwPer_mean, color=\"C4\", label=r\"$\\rho(\\widehat{KO_p}, \\widehat{PEP_r})$\")\n",
    "\n",
    "plt.ylim((-1, 1))\n",
    "plt.xlabel(r\"$\\alpha$\", fontdict={\"fontsize\": FONT_SIZE_LABEL})\n",
    "plt.ylabel(\"Correlation\\ncoefficient\", fontdict={\"fontsize\": FONT_SIZE_LABEL})\n",
    "plt.xticks(fontsize=FONT_SIZE_TICKS)\n",
    "plt.yticks(fontsize=FONT_SIZE_TICKS)\n",
    "# plt.title(\"Reactive correlation dynamics\", fontsize=FONT_SIZE_TITLE_PLOT)\n",
    "plt.legend(\n",
    "    loc=\"lower center\",\n",
    "    ncol=2,\n",
    "    fontsize=FONT_SIZE_LEGEND,\n",
    "    frameon=False,\n",
    "    # bbox_to_anchor=(0.5, 1.)\n",
    ")\n",
    "plt.tight_layout()\n",
    "plt.savefig(f\"{PROJECT_FOLDER}/plot_finali/multistock/perturbations/reactive_correlation.pdf\")\n",
    "# plt.show()\n",
    "plt.close(fig)"
   ]
  },
  {
   "cell_type": "code",
   "execution_count": null,
   "metadata": {},
   "outputs": [],
   "source": [
    "windowed_prices_reals = sliding_window_view(prices_reals, window_shape=390, axis=1).transpose((1, 0, 2))\n",
    "ts_corrs_real = list()\n",
    "for w in windowed_prices_reals:\n",
    "    ts_corrs_real.append(np.round(np.corrcoef(w)[0, 1], 2))\n",
    "ts_corrs_real = np.asarray(ts_corrs_real)"
   ]
  },
  {
   "cell_type": "code",
   "execution_count": null,
   "metadata": {},
   "outputs": [],
   "source": [
    "print(prices_reals.shape)\n",
    "s = 1\n",
    "print(seed2priceWoPer.keys(), seed2priceWoPer[s].shape)\n",
    "print(seed2priceWPerS.keys(), seed2priceWPerS[s].shape)"
   ]
  },
  {
   "cell_type": "code",
   "execution_count": null,
   "metadata": {},
   "outputs": [],
   "source": [
    "windowed_pricesWoPer = sliding_window_view(seed2priceWoPer[s], window_shape=390, axis=1).transpose((1, 0, 2))\n",
    "ts_corrsWoPer = list()\n",
    "for w in windowed_pricesWoPer:\n",
    "    ts_corrsWoPer.append(np.round(np.corrcoef(w)[0, 1], 2))\n",
    "ts_corrs_real = np.asarray(ts_corrs_real)"
   ]
  },
  {
   "cell_type": "code",
   "execution_count": null,
   "metadata": {},
   "outputs": [],
   "source": [
    "windowed_pricesWPerS = sliding_window_view(seed2priceWPerS[s], window_shape=390, axis=2).transpose((1, 2, 0, 3))\n",
    "ts_corrsWPer = list()\n",
    "for windowed_pricesWPer in windowed_pricesWPerS:\n",
    "    l = list()\n",
    "    for w in windowed_pricesWPer:\n",
    "        l.append(np.round(np.corrcoef(w)[0, 1], 2))\n",
    "    ts_corrsWPer.append(l)\n",
    "ts_corrsWPer = np.asarray(ts_corrsWPer)"
   ]
  },
  {
   "cell_type": "code",
   "execution_count": null,
   "metadata": {},
   "outputs": [],
   "source": [
    "fig = plt.figure(figsize=(16, 9))\n",
    "\n",
    "plt.axvline(start_perturbation, color=\"red\")\n",
    "plt.axvline(end_perturbation, color=\"red\")\n",
    "\n",
    "plt.plot(ts_corrs_real[:1500], color=\"C1\", label=\"Real\")\n",
    "plt.plot(ts_corrsWoPer[:1500], color=\"C2\", label=\"W/o Per\")\n",
    "plt.plot(ts_corrsWPer[0][:1500], color=\"C3\", label=\"W/ Per\")\n",
    "\n",
    "plt.ylim((-1, 1))\n",
    "# plt.xlabel(r\"$\\alpha$\", fontdict={\"fontsize\": FONT_SIZE_LABEL})\n",
    "# plt.ylabel(\"Correlation\\ncoefficient\", fontdict={\"fontsize\": FONT_SIZE_LABEL})\n",
    "# plt.xticks(fontsize=FONT_SIZE_TICKS)\n",
    "# plt.yticks(fontsize=FONT_SIZE_TICKS)\n",
    "plt.title(\n",
    "    \"TS Correlation\",\n",
    "    fontsize=FONT_SIZE_TITLE_PLOT,\n",
    ")\n",
    "plt.legend(\n",
    "    loc=\"lower center\",\n",
    "    ncol=3,\n",
    "    fontsize=FONT_SIZE_LEGEND,\n",
    "    # frameon=False,\n",
    "    # bbox_to_anchor=(0.5, 1.)\n",
    ")\n",
    "plt.tight_layout()\n",
    "# plt.savefig(f\"{PROJECT_FOLDER}/plot_finali/multistock/perturbations/reactive_correlation.pdf\")\n",
    "plt.show()\n",
    "plt.close(fig)"
   ]
  },
  {
   "cell_type": "markdown",
   "metadata": {},
   "source": [
    "# PEP & KO & NVDA"
   ]
  },
  {
   "cell_type": "code",
   "execution_count": null,
   "metadata": {},
   "outputs": [],
   "source": [
    "stock_names, prices_reals.shape, seed2priceWoPer[SEEDS[0]].shape, seed2priceWPerS[SEEDS[0]].shape"
   ]
  },
  {
   "cell_type": "code",
   "execution_count": null,
   "metadata": {},
   "outputs": [],
   "source": [
    "priceWoPer = seed2priceWoPer[SEEDS[0]]\n",
    "priceWPer = seed2priceWPerS[SEEDS[0]][:, :]\n",
    "priceWoPer.shape, priceWPer.shape"
   ]
  },
  {
   "cell_type": "code",
   "execution_count": null,
   "metadata": {},
   "outputs": [],
   "source": [
    "fig, axes = plt.subplots(2, 2, figsize=(16, 9))\n",
    "axes = axes.ravel()\n",
    "\n",
    "add_label = True\n",
    "add_label_ = True\n",
    "for (\n",
    "    ax,\n",
    "    stock_name,\n",
    "    price_real,\n",
    "    price_no_per,\n",
    "    price_per,\n",
    ") in zip(axes, stock_names, prices_reals, priceWoPer, priceWPer):\n",
    "    ax.plot(history_indexes, price_no_per[:390], color=\"C0\")\n",
    "    # ax.plot(continuation_indexes, price_real[390:], color=\"C1\", label=\"Real\" if add_label else None)\n",
    "\n",
    "    ax.plot(continuation_indexes, price_no_per[390:], color=\"C3\", label=\"W/o perturbation\" if add_label else None)\n",
    "\n",
    "    # for i, (price_per_s, sigma_scaler) in enumerate(zip(price_per, SIGMA_SCALERs)):\n",
    "    #     if i == 1:\n",
    "    #         ax.plot(\n",
    "    #             continuation_indexes,\n",
    "    #             price_per_s[390:],\n",
    "    #             color=f\"C{i+4}\",\n",
    "    #             label=f\"W/ perturbation: {sigma_scaler}\" if add_label_ else None,\n",
    "    #         )\n",
    "    #         add_label_ = False\n",
    "\n",
    "    ax.axvline(x=390, color=\"r\")\n",
    "\n",
    "    min_ = min(price_real.min(), price_no_per.min(), price_per.min())\n",
    "    max_ = max(price_real.max(), price_no_per.max(), price_per.max())\n",
    "    if stock_name == \"NVDA\":\n",
    "        ax.add_patch(\n",
    "            Rectangle(\n",
    "                xy=(start_perturbation_n1, min_),\n",
    "                width=start_perturbation_n2 - start_perturbation_n1,\n",
    "                height=max_ - min_,\n",
    "                color=\"r\",\n",
    "                alpha=0.3,\n",
    "            )\n",
    "        )\n",
    "    ax.add_patch(\n",
    "        Rectangle(\n",
    "            xy=(start_perturbation_n2, min_),\n",
    "            width=start_perturbation_n2 - start_perturbation_n1,\n",
    "            height=max_ - min_,\n",
    "            color=\"g\",\n",
    "            alpha=0.3,\n",
    "        )\n",
    "    )\n",
    "    ax.add_patch(\n",
    "        Rectangle(\n",
    "            xy=(start_perturbation_n2 + 150, min_),\n",
    "            width=price_no_per.shape[-1] - start_perturbation_n2,\n",
    "            height=max_ - min_,\n",
    "            color=\"b\",\n",
    "            alpha=0.1,\n",
    "        )\n",
    "    )\n",
    "    add_label = False\n",
    "\n",
    "    ax.set_title(stock_name, fontsize=FONT_SIZE_TITLE_AX)\n",
    "    ax.set_xlabel(\"Steps\", fontsize=FONT_SIZE_LABEL)\n",
    "    ax.set_ylabel(\"Price ($)\", fontsize=FONT_SIZE_LABEL, rotation=90)\n",
    "    ax.xaxis.set_tick_params(labelsize=12)\n",
    "    ax.yaxis.set_tick_params(labelsize=FONT_SIZE_TICKS)\n",
    "    ax.set_xticks([0, 390, start_perturbation_n2, price_no_per.shape[-1]])\n",
    "\n",
    "fig.suptitle(\"Introducing perturbations\", fontsize=FONT_SIZE_TITLE_PLOT, y=1.0)\n",
    "fig.legend(loc=\"upper center\", ncol=3, fontsize=FONT_SIZE_LEGEND, frameon=False, bbox_to_anchor=(0.5, 0.97))\n",
    "fig.tight_layout()\n",
    "# plt.savefig(f\"{PROJECT_FOLDER}/plot_finali/multistock/perturbations/perturbed_NVDA_one.pdf\")\n",
    "plt.show()\n",
    "plt.close(fig)"
   ]
  },
  {
   "cell_type": "code",
   "execution_count": null,
   "metadata": {},
   "outputs": [],
   "source": [
    "corr_real = np.round(np.corrcoef(prices_reals), 2)\n",
    "corr_real"
   ]
  },
  {
   "cell_type": "code",
   "execution_count": null,
   "metadata": {},
   "outputs": [],
   "source": [
    "corr_syntheticWoPer = np.round(np.corrcoef(priceWoPer[:, start_perturbation_n2 + 150 :]), 2)\n",
    "corr_syntheticWoPer"
   ]
  },
  {
   "cell_type": "code",
   "execution_count": null,
   "metadata": {},
   "outputs": [],
   "source": [
    "corr_syntheticWPer = np.round(np.corrcoef(priceWPer[:, 0, start_perturbation_n2 + 150 :]), 2)\n",
    "corr_syntheticWPer"
   ]
  },
  {
   "cell_type": "code",
   "execution_count": null,
   "metadata": {},
   "outputs": [],
   "source": [
    "priceWPer_KO, priceWPer_PEP, priceWPer_NVDA = priceWPer[:, 1, start_perturbation_n2 + 150 :]\n",
    "priceWoPer_KO, priceWoPer_PEP, priceWoPer_NVDA = priceWoPer[:, start_perturbation_n2 + 150 :]\n",
    "\n",
    "corr_KOWPer_PEPWoPer = round(np.corrcoef(priceWPer_KO, priceWoPer_PEP)[0, 1], 2)\n",
    "corr_KOWPer_PEPWPer = round(np.corrcoef(priceWPer_KO, priceWPer_PEP)[0, 1], 2)\n",
    "\n",
    "corr_KOWPer_NVDAWoPer = round(np.corrcoef(priceWPer_KO, priceWoPer_NVDA)[0, 1], 2)\n",
    "corr_KOWPer_NVDAWPer = round(np.corrcoef(priceWPer_KO, priceWPer_NVDA)[0, 1], 2)\n",
    "\n",
    "corr_PEPWPer_NVDAWoPer = round(np.corrcoef(priceWPer_PEP, priceWoPer_NVDA)[0, 1], 2)\n",
    "corr_PEPWPer_NVDAWPer = round(np.corrcoef(priceWPer_PEP, priceWPer_NVDA)[0, 1], 2)\n",
    "\n",
    "print(corr_KOWPer_PEPWoPer, corr_KOWPer_PEPWPer)\n",
    "print(corr_KOWPer_NVDAWoPer, corr_KOWPer_NVDAWPer)\n",
    "print(corr_PEPWPer_NVDAWoPer, corr_PEPWPer_NVDAWPer)"
   ]
  },
  {
   "cell_type": "markdown",
   "metadata": {},
   "source": [
    "## Long perturbations"
   ]
  },
  {
   "cell_type": "code",
   "execution_count": null,
   "metadata": {},
   "outputs": [],
   "source": [
    "seed = 1"
   ]
  },
  {
   "cell_type": "code",
   "execution_count": null,
   "metadata": {},
   "outputs": [],
   "source": [
    "PATH_PICKLE_PRICE_NOPER = (\n",
    "    f\"{PROJECT_FOLDER}/storage/thesis-gan/{RUN_ID_PRICE}/perturbations/perturbation_seed={seed}_sigmascaler=None.pickle\"\n",
    ")\n",
    "\n",
    "with open(PATH_PICKLE_PRICE_NOPER, \"rb\") as handle:\n",
    "    dict_no_per = pickle.load(handle)\n",
    "\n",
    "pricesWoPer = dict_no_per[\"pred_prices\"].numpy()\n",
    "pricesWoPer.shape"
   ]
  },
  {
   "cell_type": "code",
   "execution_count": null,
   "metadata": {},
   "outputs": [],
   "source": [
    "PATH_PICKLE_PRICE_PER = (\n",
    "    f\"{PROJECT_FOLDER}/storage/thesis-gan/{RUN_ID_PRICE}/perturbations/\"\n",
    "    f\"perturbation_seed={seed}_sigmascaler=0.1.pickle\"\n",
    ")\n",
    "\n",
    "with open(PATH_PICKLE_PRICE_PER, \"rb\") as handle:\n",
    "    dict_per = pickle.load(handle)\n",
    "\n",
    "pricesWPer = dict_per[\"pred_prices\"].numpy()\n",
    "pricesWPer.shape"
   ]
  },
  {
   "cell_type": "code",
   "execution_count": null,
   "metadata": {},
   "outputs": [],
   "source": [
    "history_indexes = np.arange(390)\n",
    "continuation_indexes = np.arange(390, pricesWPer.shape[-1])\n",
    "continuation_indexes_real = np.arange(390, prices_reals.shape[-1])"
   ]
  },
  {
   "cell_type": "code",
   "execution_count": null,
   "metadata": {},
   "outputs": [],
   "source": [
    "i_start, i_end = 3, 15\n",
    "start_perturbation, end_perturbation = 390 + i_start * 150, 390 + (i_end + 1) * 150\n",
    "start_perturbation, end_perturbation"
   ]
  },
  {
   "cell_type": "code",
   "execution_count": null,
   "metadata": {},
   "outputs": [],
   "source": [
    "fig, axes = plt.subplots(2, 1, figsize=(16, 9))\n",
    "axes = axes.ravel()\n",
    "\n",
    "add_label = True\n",
    "for (\n",
    "    ax,\n",
    "    stock_name,\n",
    "    price_real,\n",
    "    price_no_per,\n",
    "    price_per,\n",
    ") in zip(axes, stock_names, prices_reals, pricesWoPer, pricesWPer):\n",
    "    ax.plot(history_indexes, price_real[:390], color=\"C0\")\n",
    "    ax.plot(continuation_indexes_real, price_real[390:], color=\"C1\", label=\"Real\" if add_label else None)\n",
    "\n",
    "    ax.plot(continuation_indexes, price_no_per[390:], color=\"C3\", label=\"W/o perturbation\" if add_label else None)\n",
    "    ax.plot(continuation_indexes, price_per[390:], color=\"C4\", label=\"W/ perturbation\" if add_label else None)\n",
    "\n",
    "    ax.axvline(x=390, color=\"r\")\n",
    "\n",
    "    min_ = min(price_real.min(), price_no_per.min(), price_per.min())\n",
    "    max_ = max(price_real.max(), price_no_per.max(), price_per.max())\n",
    "    ax.add_patch(\n",
    "        Rectangle(\n",
    "            xy=(start_perturbation, min_),\n",
    "            width=end_perturbation - start_perturbation,\n",
    "            height=max_ - min_,\n",
    "            color=\"r\",\n",
    "            alpha=0.3,\n",
    "        )\n",
    "    )\n",
    "    add_label = False\n",
    "\n",
    "    ax.set_title(stock_name, fontsize=FONT_SIZE_TITLE_AX)\n",
    "    ax.set_xlabel(\"Steps\", fontsize=FONT_SIZE_LABEL)\n",
    "    ax.set_ylabel(\"Price ($)\", fontsize=FONT_SIZE_LABEL, rotation=90)\n",
    "    ax.xaxis.set_tick_params(labelsize=12)\n",
    "    ax.yaxis.set_tick_params(labelsize=FONT_SIZE_TICKS)\n",
    "    ax.set_xticks([0, 390, start_perturbation, end_perturbation])\n",
    "\n",
    "fig.suptitle(\"Prices\", fontsize=FONT_SIZE_TITLE_PLOT, y=1.0)\n",
    "fig.legend(loc=\"upper center\", ncol=3, fontsize=FONT_SIZE_LEGEND, frameon=False, bbox_to_anchor=(0.5, 0.97))\n",
    "fig.tight_layout()\n",
    "# plt.savefig(f\"{PROJECT_FOLDER}/plot_finali/multistock/perturbations/long_perturbed.pdf\")\n",
    "plt.show()\n",
    "plt.close(fig)"
   ]
  },
  {
   "cell_type": "code",
   "execution_count": null,
   "metadata": {},
   "outputs": [],
   "source": [
    "corr_after_perturbation = round(np.corrcoef(pricesWPer[:, end_perturbation:])[0, 1], 2)\n",
    "corr_during_perturbation = round(np.corrcoef(pricesWPer[:, start_perturbation:end_perturbation])[0, 1], 2)"
   ]
  },
  {
   "cell_type": "code",
   "execution_count": null,
   "metadata": {},
   "outputs": [],
   "source": [
    "print(f\"Real: {corr_real}\")\n",
    "print(f\"After perturbation: {corr_after_perturbation}\")\n",
    "print(f\"During perturbation: {corr_during_perturbation}\")"
   ]
  },
  {
   "cell_type": "code",
   "execution_count": null,
   "metadata": {},
   "outputs": [],
   "source": []
  }
 ],
 "metadata": {
  "kernelspec": {
   "display_name": "Python [conda env:thesis-gan]",
   "language": "python",
   "name": "conda-env-thesis-gan-py"
  },
  "language_info": {
   "codemirror_mode": {
    "name": "ipython",
    "version": 2
   },
   "file_extension": ".py",
   "mimetype": "text/x-python",
   "name": "python",
   "nbconvert_exporter": "python",
   "pygments_lexer": "ipython2",
   "version": "2.7.6"
  }
 },
 "nbformat": 4,
 "nbformat_minor": 0
}
