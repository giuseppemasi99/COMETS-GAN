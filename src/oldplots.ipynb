{
 "cells": [
  {
   "cell_type": "code",
   "execution_count": null,
   "metadata": {},
   "outputs": [],
   "source": [
    "import pandas as pd\n",
    "import numpy as np\n",
    "import seaborn as sb\n",
    "import matplotlib.pyplot as plt\n",
    "import pickle\n",
    "from matplotlib.lines import Line2D\n",
    "import scipy.stats as scs\n",
    "from itertools import combinations"
   ]
  },
  {
   "cell_type": "code",
   "execution_count": null,
   "metadata": {},
   "outputs": [],
   "source": [
    "plt.rcParams[\"figure.figsize\"] = [16, 9]\n",
    "# plt.rcParams[\"figure.dpi\"] = 300\n",
    "plt.rcParams[\"font.size\"] = 20\n",
    "plt.rcParams[\"axes.labelsize\"] = 20\n",
    "plt.rcParams[\"axes.titlesize\"] = 24\n",
    "plt.rcParams[\"xtick.labelsize\"] = 16\n",
    "plt.rcParams[\"ytick.labelsize\"] = 16\n",
    "plt.rcParams[\"font.family\"] = \"serif\""
   ]
  },
  {
   "cell_type": "code",
   "execution_count": null,
   "metadata": {},
   "outputs": [],
   "source": [
    "PROJECT_FOLDER = \"PycharmProjects/thesis-gan\""
   ]
  },
  {
   "cell_type": "code",
   "execution_count": null,
   "metadata": {},
   "outputs": [],
   "source": [
    "stock_names = [\"PEP\", \"KO\", \"NVDA\", \"KSU\"]"
   ]
  },
  {
   "cell_type": "code",
   "execution_count": null,
   "metadata": {},
   "outputs": [],
   "source": [
    "RUN_ID_PRICE = \"iksf94ne\"\n",
    "EPOCH_PRICE = 260\n",
    "PATH_PICKLE_REAL_PRICE = f\"{PROJECT_FOLDER}/storage/thesis-gan/{RUN_ID_PRICE}/reals.pickle\"\n",
    "PATH_PICKLE_PRED_PRICE = f\"{PROJECT_FOLDER}/storage/thesis-gan/{RUN_ID_PRICE}/preds_epoch={EPOCH_PRICE}-target_price=mid_price-target_volume=None.pickle\""
   ]
  },
  {
   "cell_type": "code",
   "execution_count": null,
   "metadata": {},
   "outputs": [],
   "source": [
    "RUN_ID_VOLUME = \"3ogpusxf\"\n",
    "EPOCH_VOLUME = 71\n",
    "PATH_PICKLE_REAL_VOLUME = f\"{PROJECT_FOLDER}/storage/thesis-gan/{RUN_ID_VOLUME}/reals.pickle\"\n",
    "PATH_PICKLE_PRED_VOLUME = f\"{PROJECT_FOLDER}/storage/thesis-gan/{RUN_ID_VOLUME}/preds_epoch={EPOCH_VOLUME}-target_price=None-target_volume=volume.pickle\""
   ]
  },
  {
   "cell_type": "code",
   "execution_count": null,
   "metadata": {},
   "outputs": [],
   "source": [
    "with open(PATH_PICKLE_REAL_PRICE, \"rb\") as handle:\n",
    "    real_price_dict = pickle.load(handle)\n",
    "with open(PATH_PICKLE_PRED_PRICE, \"rb\") as handle:\n",
    "    pred_price_dict = pickle.load(handle)"
   ]
  },
  {
   "cell_type": "code",
   "execution_count": null,
   "metadata": {},
   "outputs": [],
   "source": [
    "with open(PATH_PICKLE_REAL_VOLUME, \"rb\") as handle:\n",
    "    real_volume_dict = pickle.load(handle)\n",
    "with open(PATH_PICKLE_PRED_VOLUME, \"rb\") as handle:\n",
    "    pred_volume_dict = pickle.load(handle)"
   ]
  },
  {
   "cell_type": "code",
   "execution_count": null,
   "metadata": {},
   "outputs": [],
   "source": [
    "real_price_dict.keys(), pred_price_dict.keys()"
   ]
  },
  {
   "cell_type": "code",
   "execution_count": null,
   "metadata": {},
   "outputs": [],
   "source": [
    "real_volume_dict.keys(), pred_volume_dict.keys()"
   ]
  },
  {
   "cell_type": "code",
   "execution_count": null,
   "metadata": {},
   "outputs": [],
   "source": [
    "x = real_price_dict[\"x\"]\n",
    "x_hat = pred_price_dict[\"x_hat\"]\n",
    "x.shape, x_hat.shape"
   ]
  },
  {
   "cell_type": "code",
   "execution_count": null,
   "metadata": {},
   "outputs": [],
   "source": [
    "price_real = real_price_dict[\"prices\"]\n",
    "price_pred = pred_price_dict[\"pred_prices\"]\n",
    "price_real.shape, price_pred.shape"
   ]
  },
  {
   "cell_type": "code",
   "execution_count": null,
   "metadata": {},
   "outputs": [],
   "source": [
    "volume_real = real_volume_dict[\"volumes\"]\n",
    "volume_pred = pred_volume_dict[\"pred_volumes\"]\n",
    "volume_real.shape, volume_pred.shape"
   ]
  },
  {
   "cell_type": "code",
   "execution_count": null,
   "metadata": {},
   "outputs": [],
   "source": [
    "history_indexes = np.arange(390)\n",
    "continuation_indexes = np.arange(390, price_real.shape[1])\n",
    "history_indexes.shape, continuation_indexes.shape"
   ]
  },
  {
   "cell_type": "code",
   "execution_count": null,
   "metadata": {},
   "outputs": [],
   "source": [
    "price_real.shape, price_pred.shape"
   ]
  },
  {
   "cell_type": "code",
   "execution_count": null,
   "metadata": {},
   "outputs": [],
   "source": [
    "price_real_ = price_real / 10000\n",
    "price_pred_ = price_pred / 10000\n",
    "price_real_[0, 1000], price_pred_[0, 1000]"
   ]
  },
  {
   "cell_type": "code",
   "execution_count": null,
   "metadata": {},
   "outputs": [],
   "source": [
    "FONT_SIZE_TITLE_PLOT = 48  # 40\n",
    "FONT_SIZE_TITLE_AX = 36  # 30\n",
    "FONT_SIZE_LABEL = 30  # 24\n",
    "FONT_SIZE_TICKS = 24  # 20\n",
    "FONT_SIZE_LEGEND = 32  # 28"
   ]
  },
  {
   "cell_type": "markdown",
   "metadata": {},
   "source": [
    "# PRICES"
   ]
  },
  {
   "cell_type": "code",
   "execution_count": null,
   "metadata": {},
   "outputs": [],
   "source": [
    "fig, axes = plt.subplots(2, 2, figsize=(16, 9))\n",
    "axes = axes.ravel()\n",
    "\n",
    "add_label = True\n",
    "for (\n",
    "    ax,\n",
    "    stock_name,\n",
    "    real,\n",
    "    synthetic,\n",
    ") in zip(axes, stock_names, price_real_, price_pred_):\n",
    "    ax.plot(history_indexes, real[:390], color=\"C0\", label=\"Observed\" if add_label else None)\n",
    "    ax.plot(continuation_indexes, real[390:], color=\"C1\", label=\"Real continuation\" if add_label else None)\n",
    "    ax.plot(continuation_indexes, synthetic[390:], color=\"C2\", label=\"Synthetic continuation\" if add_label else None)\n",
    "    ax.axvline(x=390, color=\"r\")\n",
    "\n",
    "    ax.set_title(stock_name, fontsize=FONT_SIZE_TITLE_AX)\n",
    "    ax.set_xlabel(\"Steps\", fontsize=FONT_SIZE_LABEL)\n",
    "    ax.set_ylabel(\"Price ($)\", fontsize=FONT_SIZE_LABEL, rotation=90)\n",
    "    ax.xaxis.set_tick_params(labelsize=FONT_SIZE_TICKS)\n",
    "    ax.yaxis.set_tick_params(labelsize=FONT_SIZE_TICKS)\n",
    "    ax.set_xticks(list(ax.get_xticks()[1:-1]) + [390])\n",
    "\n",
    "    add_label = False\n",
    "\n",
    "fig.suptitle(\"Prices\", fontsize=FONT_SIZE_TITLE_PLOT, y=1)\n",
    "fig.legend(loc=\"upper center\", ncol=3, fontsize=FONT_SIZE_LEGEND, frameon=False, bbox_to_anchor=(0.5, 0.97))\n",
    "fig.tight_layout()\n",
    "# plt.savefig(f\"{PROJECT_FOLDER}/plot_finali/multistock/prices.pdf\")\n",
    "plt.show()\n",
    "plt.close(fig)"
   ]
  },
  {
   "cell_type": "markdown",
   "metadata": {},
   "source": [
    "# Couples"
   ]
  },
  {
   "cell_type": "code",
   "execution_count": null,
   "metadata": {},
   "outputs": [],
   "source": [
    "corr_real = np.corrcoef(price_real)\n",
    "corr_pred = np.corrcoef(price_pred)"
   ]
  },
  {
   "cell_type": "code",
   "execution_count": null,
   "metadata": {},
   "outputs": [],
   "source": [
    "for stock_name_1, stock_name_2 in combinations(stock_names, 2):\n",
    "    fig, axes = plt.subplots(2, 2)\n",
    "    legend_elements = [\n",
    "        Line2D([0], [0], color=\"C0\", lw=2, label=\"Observed\"),\n",
    "        Line2D([0], [0], color=\"C1\", lw=2, label=\"Real continuation\"),\n",
    "        Line2D([0], [0], color=\"C2\", lw=2, label=\"Synthetic continuation\"),\n",
    "    ]\n",
    "\n",
    "    stock_index_1, stock_index_2 = stock_names.index(stock_name_1), stock_names.index(stock_name_2)\n",
    "    corr_real_12, corr_pred_12 = corr_real[stock_index_1][stock_index_2], corr_pred[stock_index_1][stock_index_2]\n",
    "\n",
    "    price_real_1, price_real_2 = price_real[stock_index_1], price_real[stock_index_2]\n",
    "\n",
    "    history_indexes = np.arange(390)\n",
    "    continuation_indexes = np.arange(390, price_real.shape[1])\n",
    "\n",
    "    history_1, history_2 = price_real[stock_index_1, :390], price_real[stock_index_2, :390]\n",
    "    continuation_real_1, continuation_real_2 = price_real[stock_index_1, 390:], price_real[stock_index_2, 390:]\n",
    "    continuation_pred_1, continuation_pred_2 = price_pred[stock_index_1, 390:], price_pred[stock_index_2, 390:]\n",
    "\n",
    "    # Titles\n",
    "    axes[0, 0].set_title(f\"{stock_name_1} - Real\", fontsize=FONT_SIZE_TITLE_AX)\n",
    "    axes[0, 1].set_title(f\"{stock_name_2} - Real\", fontsize=FONT_SIZE_TITLE_AX)\n",
    "    axes[1, 0].set_title(f\"{stock_name_1} - Synthetic\", fontsize=FONT_SIZE_TITLE_AX)\n",
    "    axes[1, 1].set_title(f\"{stock_name_2} - Synthetic\", fontsize=FONT_SIZE_TITLE_AX)\n",
    "\n",
    "    # Histories\n",
    "    axes[0, 0].plot(history_indexes, history_1, color=\"C0\")\n",
    "    axes[0, 1].plot(history_indexes, history_2, color=\"C0\")\n",
    "    axes[1, 0].plot(history_indexes, history_1, color=\"C0\")\n",
    "    axes[1, 1].plot(history_indexes, history_2, color=\"C0\")\n",
    "\n",
    "    # Reals\n",
    "    axes[0, 0].plot(continuation_indexes, continuation_real_1, color=\"C1\")\n",
    "    axes[0, 1].plot(continuation_indexes, continuation_real_2, color=\"C1\")\n",
    "\n",
    "    # Synthetic\n",
    "    axes[1, 0].plot(continuation_indexes, continuation_pred_1, color=\"C2\")\n",
    "    axes[1, 1].plot(continuation_indexes, continuation_pred_2, color=\"C2\")\n",
    "\n",
    "    # y_lim\n",
    "    axes[0, 0].set_ylim(\n",
    "        [min(price_real_1.min(), continuation_pred_1.min()), max(price_real_1.max(), continuation_pred_1.max())]\n",
    "    )\n",
    "    axes[1, 0].set_ylim(\n",
    "        [min(price_real_1.min(), continuation_pred_1.min()), max(price_real_1.max(), continuation_pred_1.max())]\n",
    "    )\n",
    "    axes[0, 1].set_ylim(\n",
    "        [min(price_real_2.min(), continuation_pred_2.min()), max(price_real_2.max(), continuation_pred_2.max())]\n",
    "    )\n",
    "    axes[1, 1].set_ylim(\n",
    "        [min(price_real_2.min(), continuation_pred_2.min()), max(price_real_2.max(), continuation_pred_2.max())]\n",
    "    )\n",
    "\n",
    "    for axs in axes:\n",
    "        for ax in axs:\n",
    "            ax.set_yticklabels([])\n",
    "            ax.set_xticklabels([])\n",
    "\n",
    "    axes[0, 1].set_ylabel(\n",
    "        round(corr_real_12, 2), rotation=\"horizontal\", horizontalalignment=\"right\", fontsize=FONT_SIZE_LABEL\n",
    "    )\n",
    "    axes[1, 1].set_ylabel(\n",
    "        round(corr_pred_12, 2), rotation=\"horizontal\", horizontalalignment=\"right\", fontsize=FONT_SIZE_LABEL\n",
    "    )\n",
    "\n",
    "    fig.legend(\n",
    "        handles=legend_elements,\n",
    "        loc=\"upper center\",\n",
    "        ncol=3,\n",
    "        fontsize=FONT_SIZE_LEGEND,\n",
    "        bbox_to_anchor=(0.5, 0.97),\n",
    "        frameon=False,\n",
    "    )\n",
    "    fig.suptitle(\"Prices\", fontsize=FONT_SIZE_TITLE_PLOT, y=1.0)\n",
    "    fig.tight_layout()\n",
    "    plt.savefig(f\"{PROJECT_FOLDER}/plot_finali/multistock/couples/{stock_name_1}-{stock_name_2}.pdf\")\n",
    "    # plt.show()\n",
    "    plt.close(fig)"
   ]
  },
  {
   "cell_type": "markdown",
   "metadata": {},
   "source": [
    "# VOLUMES"
   ]
  },
  {
   "cell_type": "code",
   "execution_count": null,
   "metadata": {},
   "outputs": [],
   "source": [
    "fig, axes = plt.subplots(2, 2, figsize=(16, 9))\n",
    "axes = axes.ravel()\n",
    "\n",
    "add_label = True\n",
    "for (\n",
    "    ax,\n",
    "    stock_name,\n",
    "    real,\n",
    "    synthetic,\n",
    ") in zip(axes, stock_names, volume_real, volume_pred):\n",
    "    ax.plot(history_indexes, real[:390], color=\"C0\", label=\"Observed\" if add_label else None)\n",
    "    ax.plot(continuation_indexes, real[390:], color=\"C1\", label=\"Real continuation\" if add_label else None)\n",
    "    ax.plot(\n",
    "        continuation_indexes,\n",
    "        synthetic[390:],\n",
    "        color=\"C2\",\n",
    "        alpha=0.7,\n",
    "        label=\"Synthetic continuation\" if add_label else None,\n",
    "    )\n",
    "    ax.axvline(x=390, color=\"r\")\n",
    "\n",
    "    ax.set_title(stock_name, fontsize=FONT_SIZE_TITLE_AX)\n",
    "    ax.set_xlabel(\"Steps\", fontsize=FONT_SIZE_LABEL)\n",
    "    ax.set_ylabel(\"Shares\", fontsize=FONT_SIZE_LABEL, rotation=90)\n",
    "    ax.xaxis.set_tick_params(labelsize=FONT_SIZE_TICKS)\n",
    "    ax.yaxis.set_tick_params(labelsize=FONT_SIZE_TICKS)\n",
    "    ax.set_xticks(list(ax.get_xticks()[1:-1]) + [390])\n",
    "\n",
    "    add_label = False\n",
    "\n",
    "fig.suptitle(\"Volumes\", fontsize=FONT_SIZE_TITLE_PLOT, y=1)\n",
    "fig.legend(loc=\"upper center\", ncol=3, fontsize=FONT_SIZE_LEGEND, frameon=False, bbox_to_anchor=(0.5, 0.97))\n",
    "fig.tight_layout()\n",
    "# plt.savefig(f\"{PROJECT_FOLDER}/plot_finali/multistock/prices.pdf\")\n",
    "plt.show()\n",
    "plt.close(fig)"
   ]
  },
  {
   "cell_type": "markdown",
   "metadata": {},
   "source": [
    "# STYLISED FACT"
   ]
  },
  {
   "cell_type": "code",
   "execution_count": null,
   "metadata": {},
   "outputs": [],
   "source": [
    "minutes_in_a_day = 6 * 60 + 30"
   ]
  },
  {
   "cell_type": "code",
   "execution_count": null,
   "metadata": {},
   "outputs": [],
   "source": [
    "day = 3\n",
    "assert day > 0, \"The first day is the same for real and pred\"\n",
    "assert day < 11, \"The sequence is 10-days long\"\n",
    "one_day_price_real = price_real[:, minutes_in_a_day * day : minutes_in_a_day * (day + 1)]\n",
    "one_day_price_pred = price_pred[:, minutes_in_a_day * day : minutes_in_a_day * (day + 1)]\n",
    "one_day_price_real.shape, one_day_price_pred.shape"
   ]
  },
  {
   "cell_type": "code",
   "execution_count": null,
   "metadata": {},
   "outputs": [],
   "source": [
    "minutely_returns_real = np.diff(np.log(one_day_price_real))\n",
    "minutely_returns_synthetic = np.diff(np.log(one_day_price_pred))\n",
    "\n",
    "n_minutes = 15\n",
    "n_minutely_returns_real = np.diff(np.log(one_day_price_real[:, ::n_minutes]))\n",
    "n_minutely_returns_synthetic = np.diff(np.log(one_day_price_pred[:, ::n_minutes]))\n",
    "\n",
    "xlim = (\n",
    "    min(\n",
    "        minutely_returns_real.min(),\n",
    "        minutely_returns_synthetic.min(),\n",
    "        n_minutely_returns_real.min(),\n",
    "        n_minutely_returns_synthetic.min(),\n",
    "    ),\n",
    "    max(\n",
    "        minutely_returns_real.max(),\n",
    "        minutely_returns_synthetic.max(),\n",
    "        n_minutely_returns_real.max(),\n",
    "        n_minutely_returns_synthetic.max(),\n",
    "    ),\n",
    ")\n",
    "xlim = (-0.02, 0.02)"
   ]
  },
  {
   "cell_type": "markdown",
   "metadata": {},
   "source": [
    "## RETURNS DISTRIBUTION"
   ]
  },
  {
   "cell_type": "code",
   "execution_count": null,
   "metadata": {},
   "outputs": [],
   "source": [
    "fig, axes = plt.subplots(2, 2, figsize=(16, 9))\n",
    "axes = axes.ravel()\n",
    "\n",
    "add_label = True\n",
    "for ax, stock_name, real, synthetic in zip(axes, stock_names, minutely_returns_real, minutely_returns_synthetic):\n",
    "    ax.set_xlim(xlim)\n",
    "\n",
    "    left = min(min(real), min(synthetic))\n",
    "    right = max(max(real), max(synthetic))\n",
    "    bins = np.linspace(left, right, 15)\n",
    "\n",
    "    ax.hist(\n",
    "        x=[synthetic, real],\n",
    "        label=[\"Synthetic\", \"Real\"] if add_label else None,\n",
    "        color=[\"C2\", \"C1\"],\n",
    "        bins=bins,\n",
    "        density=True,\n",
    "        log=True,\n",
    "        histtype=\"step\",\n",
    "        linewidth=3,\n",
    "    )\n",
    "\n",
    "    add_label = False\n",
    "    ax.set_title(f\"{stock_name}\", fontsize=FONT_SIZE_TITLE_AX)\n",
    "    ax.set_xlabel(\"Minutely Log-Returns\", fontsize=FONT_SIZE_LABEL)\n",
    "    ax.set_ylabel(\"Density\", fontsize=FONT_SIZE_LABEL)\n",
    "    ax.xaxis.set_tick_params(labelsize=FONT_SIZE_TICKS)\n",
    "    ax.yaxis.set_tick_params(labelsize=FONT_SIZE_TICKS)\n",
    "\n",
    "fig.suptitle(\"Returns distribution\", fontsize=FONT_SIZE_TITLE_PLOT, y=1.0)\n",
    "fig.legend(loc=\"upper center\", ncol=2, fontsize=FONT_SIZE_LEGEND, bbox_to_anchor=(0.5, 0.97), frameon=False)\n",
    "fig.tight_layout()\n",
    "# plt.savefig(f\"{PROJECT_FOLDER}/plot_finali/multistock/return_distribution.pdf\")\n",
    "plt.show()\n",
    "plt.close(fig)"
   ]
  },
  {
   "cell_type": "markdown",
   "metadata": {},
   "source": [
    "## AGGREGATIONAL GAUSSIANITY"
   ]
  },
  {
   "cell_type": "code",
   "execution_count": null,
   "metadata": {},
   "outputs": [],
   "source": [
    "fig, axes = plt.subplots(2, 2, figsize=(16, 9))\n",
    "axes = axes.ravel()\n",
    "\n",
    "add_label = True\n",
    "for ax, stock_name, real, synthetic in zip(axes, stock_names, n_minutely_returns_real, n_minutely_returns_synthetic):\n",
    "    ax.set_xlim(xlim)\n",
    "\n",
    "    left = min(min(real), min(synthetic))\n",
    "    right = max(max(real), max(synthetic))\n",
    "    bins = np.linspace(left, right, 15)\n",
    "\n",
    "    ax.hist(\n",
    "        x=[synthetic, real],\n",
    "        label=[\"Synthetic\", \"Real\"] if add_label else None,\n",
    "        color=[\"C2\", \"C1\"],\n",
    "        bins=bins,\n",
    "        density=True,\n",
    "        log=True,\n",
    "        histtype=\"step\",\n",
    "        linewidth=3,\n",
    "    )\n",
    "\n",
    "    add_label = False\n",
    "    ax.set_title(f\"{stock_name}\", fontsize=FONT_SIZE_TITLE_AX)\n",
    "    ax.set_xlabel(f\"{n_minutes} Minute Log-Returns\", fontsize=FONT_SIZE_LABEL)\n",
    "    ax.set_ylabel(\"Density\", fontsize=FONT_SIZE_LABEL)\n",
    "    ax.xaxis.set_tick_params(labelsize=FONT_SIZE_TICKS)\n",
    "    ax.yaxis.set_tick_params(labelsize=FONT_SIZE_TICKS)\n",
    "\n",
    "fig.suptitle(\"Aggregational Gaussianity\", fontsize=FONT_SIZE_TITLE_PLOT, y=1.0)\n",
    "fig.legend(loc=\"upper center\", ncol=2, fontsize=FONT_SIZE_LEGEND, bbox_to_anchor=(0.5, 0.97), frameon=False)\n",
    "fig.tight_layout()\n",
    "# plt.savefig(f\"{PROJECT_FOLDER}/plot_finali/multistock/agg_gauss.pdf\")\n",
    "plt.show()\n",
    "plt.close(fig)"
   ]
  },
  {
   "cell_type": "markdown",
   "metadata": {},
   "source": [
    "## ABSENCE OF AUTOCORRELATION"
   ]
  },
  {
   "cell_type": "code",
   "execution_count": null,
   "metadata": {},
   "outputs": [],
   "source": [
    "from numpy.lib.stride_tricks import sliding_window_view"
   ]
  },
  {
   "cell_type": "code",
   "execution_count": null,
   "metadata": {},
   "outputs": [],
   "source": [
    "window_shape = 30\n",
    "rolled_minutely_returns_real = sliding_window_view(minutely_returns_real, window_shape=window_shape, axis=1)\n",
    "rolled_minutely_returns_synthetic = sliding_window_view(minutely_returns_synthetic, window_shape=window_shape, axis=1)\n",
    "rolled_minutely_returns_real.shape, rolled_minutely_returns_synthetic.shape"
   ]
  },
  {
   "cell_type": "code",
   "execution_count": null,
   "metadata": {},
   "outputs": [],
   "source": [
    "lag = 1\n",
    "d = dict()\n",
    "for stock_name, real, synthetic in zip(stock_names, rolled_minutely_returns_real, rolled_minutely_returns_synthetic):\n",
    "    # fixed stock\n",
    "    # real.shape = synthetic.shape = [n_windows, window_size]\n",
    "    l_real, l_synthetic = list(), list()\n",
    "    for window_real, window_synthetic in zip(real, synthetic):\n",
    "        # fixed window\n",
    "        # window_real.shape = window_real.shape = [window_size]\n",
    "        autocorr_real = np.corrcoef(window_real[:-lag], window_real[lag:])[0, 1]\n",
    "        autocorr_synthetic = np.corrcoef(window_synthetic[:-lag], window_synthetic[lag:])[0, 1]\n",
    "        l_real.append(autocorr_real)\n",
    "        l_synthetic.append(autocorr_synthetic)\n",
    "    d[stock_name] = (np.asarray(l_real), np.asarray(l_synthetic))"
   ]
  },
  {
   "cell_type": "code",
   "execution_count": null,
   "metadata": {},
   "outputs": [],
   "source": [
    "fig, axes = plt.subplots(2, 2, figsize=(16, 9))\n",
    "axes = axes.ravel()\n",
    "\n",
    "add_label = True\n",
    "for ax, stock_name in zip(axes, stock_names):\n",
    "    ax.set_xlim((-1, 1))\n",
    "    real, synthetic = d[stock_name][0], d[stock_name][1]\n",
    "\n",
    "    left = min(min(real), min(synthetic))\n",
    "    right = max(max(real), max(synthetic))\n",
    "    bins = np.linspace(left, right, 15)\n",
    "\n",
    "    ax.hist(\n",
    "        x=[synthetic, real],\n",
    "        label=[\"Synthetic\", \"Real\"] if add_label else None,\n",
    "        color=[\"C2\", \"C1\"],\n",
    "        bins=bins,\n",
    "        density=True,\n",
    "        log=True,\n",
    "        histtype=\"step\",\n",
    "        linewidth=3,\n",
    "    )\n",
    "\n",
    "    add_label = False\n",
    "    ax.set_title(f\"{stock_name}\", fontsize=FONT_SIZE_TITLE_AX)\n",
    "    ax.set_xlabel(\"Correlation Coefficient\", fontsize=FONT_SIZE_LABEL)\n",
    "    ax.set_ylabel(\"Density\", fontsize=FONT_SIZE_LABEL)\n",
    "    ax.xaxis.set_tick_params(labelsize=FONT_SIZE_TICKS)\n",
    "    ax.yaxis.set_tick_params(labelsize=FONT_SIZE_TICKS)\n",
    "\n",
    "fig.suptitle(f\"Returns Autocorrelations Window={window_shape}, Lag={lag}\", fontsize=FONT_SIZE_TITLE_PLOT, y=1.0)\n",
    "fig.legend(loc=\"upper center\", ncol=2, fontsize=FONT_SIZE_LEGEND, bbox_to_anchor=(0.5, 0.97), frameon=False)\n",
    "fig.tight_layout()\n",
    "# plt.savefig(f\"{PROJECT_FOLDER}/plot_finali/multistock/absence_autocorrelation.pdf\")\n",
    "plt.show()\n",
    "plt.close(fig)"
   ]
  },
  {
   "cell_type": "markdown",
   "metadata": {},
   "source": [
    "## VOLATILITY CLUSTERING"
   ]
  },
  {
   "cell_type": "code",
   "execution_count": null,
   "metadata": {},
   "outputs": [],
   "source": [
    "minutes_in_a_day"
   ]
  },
  {
   "cell_type": "code",
   "execution_count": null,
   "metadata": {},
   "outputs": [],
   "source": [
    "minutely_returns_real = np.diff(np.log(price_real))\n",
    "minutely_returns_synthetic = np.diff(np.log(price_pred))"
   ]
  },
  {
   "cell_type": "code",
   "execution_count": null,
   "metadata": {},
   "outputs": [],
   "source": [
    "df_minutely_returns_real = pd.DataFrame(minutely_returns_real.T)\n",
    "df_minutely_returns_synthetic = pd.DataFrame(minutely_returns_synthetic.T)\n",
    "df_minutely_returns_real.shape, df_minutely_returns_synthetic.shape"
   ]
  },
  {
   "cell_type": "code",
   "execution_count": null,
   "metadata": {},
   "outputs": [],
   "source": [
    "window_size, stride = 30, 1\n",
    "\n",
    "real_rolling_volatility = df_minutely_returns_real.rolling(window=window_size).std().dropna() / np.sqrt(window_size)\n",
    "real_rolling_volatility = real_rolling_volatility.values[::stride].T\n",
    "\n",
    "synthetic_rolling_volatility = df_minutely_returns_synthetic.rolling(window=window_size).std().dropna() / np.sqrt(\n",
    "    window_size\n",
    ")\n",
    "synthetic_rolling_volatility = synthetic_rolling_volatility.values[::stride].T\n",
    "\n",
    "real_rolling_volatility.shape, synthetic_rolling_volatility.shape"
   ]
  },
  {
   "cell_type": "code",
   "execution_count": null,
   "metadata": {},
   "outputs": [],
   "source": [
    "x_indices, y_indices = [k1 for k1 in range(len(stock_names))], [\n",
    "    k2 for k2 in range(len(stock_names), 2 * len(stock_names))\n",
    "]\n",
    "\n",
    "lags = np.asarray(range(1, 6)) * minutes_in_a_day\n",
    "\n",
    "l_real, l_synthetic = list(), list()\n",
    "for lag in lags:\n",
    "    real = np.corrcoef(real_rolling_volatility[:, lag:], real_rolling_volatility[:, :-lag])[x_indices, y_indices]\n",
    "    l_real.append(real)\n",
    "\n",
    "    synthetic = np.corrcoef(synthetic_rolling_volatility[:, lag:], synthetic_rolling_volatility[:, :-lag])[\n",
    "        x_indices, y_indices\n",
    "    ]\n",
    "    l_synthetic.append(synthetic)\n",
    "\n",
    "corrs_real = np.asarray(l_real).T\n",
    "corrs_synthetic = np.asarray(l_synthetic).T\n",
    "\n",
    "corrs_real.shape, corrs_synthetic.shape"
   ]
  },
  {
   "cell_type": "code",
   "execution_count": null,
   "metadata": {},
   "outputs": [],
   "source": [
    "fig, axes = plt.subplots(2, 2, figsize=(16, 9))\n",
    "axes = axes.ravel()\n",
    "\n",
    "add_label = True\n",
    "for ax, stock_name, real, synthetic in zip(axes, stock_names, corrs_real, corrs_synthetic):\n",
    "    ax.plot(range(1, 6), real, color=\"C1\", label=\"Real\" if add_label else None)\n",
    "    ax.plot(range(1, 6), synthetic, color=\"C2\", label=\"Synthetic\" if add_label else None)\n",
    "\n",
    "    add_label = False\n",
    "    ax.set_title(f\"{stock_name}\", fontsize=FONT_SIZE_TITLE_AX)\n",
    "    ax.set_xlabel(\"Lag (Days)\", fontsize=FONT_SIZE_LABEL)\n",
    "    ax.set_ylabel(\"Correlation\\nCoefficient\", fontsize=FONT_SIZE_LABEL)\n",
    "    ax.xaxis.set_tick_params(labelsize=FONT_SIZE_TICKS)\n",
    "    ax.yaxis.set_tick_params(labelsize=FONT_SIZE_TICKS)\n",
    "\n",
    "\n",
    "fig.suptitle(f\"Volatility clustering Window={window_size}\", fontsize=FONT_SIZE_TITLE_PLOT, y=1)\n",
    "fig.legend(loc=\"upper center\", ncol=2, fontsize=FONT_SIZE_LEGEND, bbox_to_anchor=(0.5, 0.97), frameon=False)\n",
    "fig.tight_layout()\n",
    "# plt.savefig(f\"{PROJECT_FOLDER}/plot_finali/multistock/volatility_clustering.pdf\")\n",
    "plt.show()\n",
    "plt.close(fig)"
   ]
  },
  {
   "cell_type": "markdown",
   "metadata": {},
   "source": [
    "## VOLUME VOLATILITY CORRELATION"
   ]
  },
  {
   "cell_type": "code",
   "execution_count": null,
   "metadata": {},
   "outputs": [],
   "source": [
    "price_real.shape, price_pred.shape, volume_real.shape, volume_pred.shape"
   ]
  },
  {
   "cell_type": "code",
   "execution_count": null,
   "metadata": {},
   "outputs": [],
   "source": [
    "def compute_avg_log_returns(x, delta):\n",
    "    # x.shape = [sequence_length, n_stocks]\n",
    "    x = pd.DataFrame(x)\n",
    "    x = np.log1p(x.pct_change()[1:])\n",
    "    x = x.rolling(delta).mean().to_numpy().squeeze()\n",
    "    x = x[::delta][1:]\n",
    "    return x.T\n",
    "\n",
    "\n",
    "def compute_avg_volumes(x, delta):\n",
    "    # x.shape = [sequence_length, n_stocks]\n",
    "    x = pd.DataFrame(x)\n",
    "    x = np.log1p(x)\n",
    "    x = x.rolling(delta).mean().to_numpy().squeeze()\n",
    "    x = x[::delta][1:]\n",
    "    return x.T"
   ]
  },
  {
   "cell_type": "code",
   "execution_count": null,
   "metadata": {},
   "outputs": [],
   "source": [
    "real_avg_log_returns = compute_avg_log_returns(price_real.T, 15)\n",
    "real_avg_volumes = compute_avg_volumes(volume_real.T, 15)\n",
    "\n",
    "pred_avg_log_returns = compute_avg_log_returns(price_pred.T, 15)\n",
    "pred_avg_volumes = compute_avg_volumes(volume_pred.T, 15)"
   ]
  },
  {
   "cell_type": "code",
   "execution_count": null,
   "metadata": {},
   "outputs": [],
   "source": [
    "real_avg_log_returns.shape, real_avg_volumes.shape, pred_avg_log_returns.shape, pred_avg_volumes.shape"
   ]
  },
  {
   "cell_type": "code",
   "execution_count": null,
   "metadata": {},
   "outputs": [],
   "source": [
    "fig, axes = plt.subplots(2, 2, figsize=(16, 9))\n",
    "axes = axes.ravel()\n",
    "\n",
    "for target_idx, ax in enumerate(axes):\n",
    "    stock_name = stock_names[target_idx]\n",
    "\n",
    "    ax.set_title(stock_name, fontsize=FONT_SIZE_TITLE_AX)\n",
    "    ax.set_xlabel(\"Avg log-returns\", fontsize=FONT_SIZE_LABEL)\n",
    "    ax.set_ylabel(\"Avg log-volumes\", fontsize=FONT_SIZE_LABEL)\n",
    "    ax.xaxis.set_tick_params(labelsize=FONT_SIZE_TICKS)\n",
    "    ax.yaxis.set_tick_params(labelsize=FONT_SIZE_TICKS)\n",
    "\n",
    "    ax.scatter(\n",
    "        real_avg_log_returns[target_idx],\n",
    "        real_avg_volumes[target_idx],\n",
    "        color=\"orange\",\n",
    "        label=\"Real\" if target_idx == 0 else None,\n",
    "    )\n",
    "\n",
    "    ax.scatter(\n",
    "        pred_avg_log_returns[target_idx],\n",
    "        pred_avg_volumes[target_idx],\n",
    "        color=\"green\",\n",
    "        label=\"Synthetic\" if target_idx == 0 else None,\n",
    "        alpha=0.5,\n",
    "    )\n",
    "\n",
    "fig.suptitle(\"Volume-Volatility Correlation\", fontsize=FONT_SIZE_TITLE_PLOT, y=1.00)\n",
    "fig.legend(loc=\"upper center\", ncol=2, fontsize=FONT_SIZE_LEGEND, bbox_to_anchor=(0.5, 0.96), frameon=False)\n",
    "fig.tight_layout()\n",
    "plt.savefig(f\"{PROJECT_FOLDER}/plot_finali/multistock/volume_volatility_correlation.pdf\")\n",
    "# plt.show()\n",
    "plt.close(fig)"
   ]
  }
 ],
 "metadata": {
  "kernelspec": {
   "display_name": "Python 3 (ipykernel)",
   "language": "python",
   "name": "python3"
  },
  "language_info": {
   "codemirror_mode": {
    "name": "ipython",
    "version": 3
   },
   "file_extension": ".py",
   "mimetype": "text/x-python",
   "name": "python",
   "nbconvert_exporter": "python",
   "pygments_lexer": "ipython3",
   "version": "3.9.13"
  }
 },
 "nbformat": 4,
 "nbformat_minor": 1
}
