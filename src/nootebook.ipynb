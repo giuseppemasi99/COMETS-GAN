{
 "cells": [
  {
   "cell_type": "code",
   "execution_count": null,
   "metadata": {},
   "outputs": [],
   "source": [
    "import matplotlib.pyplot as plt\n",
    "import numpy as np\n",
    "import pandas as pd\n",
    "import torch"
   ]
  },
  {
   "cell_type": "code",
   "execution_count": null,
   "metadata": {},
   "outputs": [],
   "source": [
    "x = torch.load(\"../data/debug/x.pt\", map_location=torch.device(\"cpu\"))"
   ]
  },
  {
   "cell_type": "code",
   "execution_count": null,
   "metadata": {},
   "outputs": [],
   "source": [
    "c = torch.corrcoef(x)"
   ]
  },
  {
   "cell_type": "code",
   "execution_count": null,
   "metadata": {},
   "outputs": [],
   "source": [
    "ind_cuda_nan = torch.where(torch.isnan(c))\n",
    "ind_cuda_nan"
   ]
  },
  {
   "cell_type": "code",
   "execution_count": null,
   "metadata": {},
   "outputs": [],
   "source": [
    "c[ind_cuda_nan[0].cpu(), ind_cuda_nan[1].cpu()]"
   ]
  },
  {
   "cell_type": "code",
   "execution_count": null,
   "metadata": {},
   "outputs": [],
   "source": [
    "c[ind_cuda_nan]"
   ]
  },
  {
   "cell_type": "code",
   "execution_count": null,
   "metadata": {},
   "outputs": [],
   "source": [
    "c[0, 19]"
   ]
  },
  {
   "cell_type": "code",
   "execution_count": null,
   "metadata": {},
   "outputs": [],
   "source": [
    "df = pd.read_csv(\"../data/ohlc_DowJones/ohlc_DowJones_train.csv\", index_col=\"date\")\n",
    "print(df.index[0], df.index[-1])\n",
    "stock_names = [\n",
    "    \"AAPL\",\n",
    "    \"AMGN\",\n",
    "    \"AXP\",\n",
    "    \"BA\",\n",
    "    \"CAT\",\n",
    "    \"CRM\",\n",
    "    \"CSCO\",\n",
    "    \"CVX\",\n",
    "    \"DIS\",\n",
    "    \"GE\",\n",
    "    \"GS\",\n",
    "    \"HD\",\n",
    "    \"HON\",\n",
    "    \"IBM\",\n",
    "    \"INTC\",\n",
    "    \"JNJ\",\n",
    "    \"JPM\",\n",
    "    \"KO\",\n",
    "    \"MCD\",\n",
    "    \"MMM\",\n",
    "    \"MRK\",\n",
    "    \"MSFT\",\n",
    "    \"NKE\",\n",
    "    \"PG\",\n",
    "    \"TRV\",\n",
    "    \"UNH\",\n",
    "    \"V\",\n",
    "    \"VZ\",\n",
    "    \"WBA\",\n",
    "    \"WMT\",\n",
    "]"
   ]
  },
  {
   "cell_type": "code",
   "execution_count": null,
   "metadata": {},
   "outputs": [],
   "source": [
    "target_cols = [f\"mid_price_{stock_name}\" for stock_name in stock_names]\n",
    "prices = df[target_cols].values.T\n",
    "prices.shape"
   ]
  },
  {
   "cell_type": "code",
   "execution_count": null,
   "metadata": {},
   "outputs": [],
   "source": [
    "np.sum(np.isnan(np.corrcoef(prices)))"
   ]
  },
  {
   "cell_type": "code",
   "execution_count": null,
   "metadata": {},
   "outputs": [],
   "source": [
    "df = pd.read_csv(\"../data/ohlc_DowJones_old/ohlc_DowJones_train.csv\", index_col=\"date\")\n",
    "print(df.index[0], df.index[-1])\n",
    "stock_names = [\n",
    "    \"AAPL\",\n",
    "    \"AMGN\",\n",
    "    \"AXP\",\n",
    "    \"BA\",\n",
    "    \"CAT\",\n",
    "    \"CRM\",\n",
    "    \"CSCO\",\n",
    "    \"CVX\",\n",
    "    \"DIS\",\n",
    "    \"GS\",\n",
    "    \"HD\",\n",
    "    \"HON\",\n",
    "    \"IBM\",\n",
    "    \"INTC\",\n",
    "    \"JNJ\",\n",
    "    \"JPM\",\n",
    "    \"KO\",\n",
    "    \"MCD\",\n",
    "    \"MMM\",\n",
    "    \"MRK\",\n",
    "    \"MSFT\",\n",
    "    \"NKE\",\n",
    "    \"PG\",\n",
    "    \"TRV\",\n",
    "    \"UNH\",\n",
    "    \"V\",\n",
    "    \"VZ\",\n",
    "    \"WBA\",\n",
    "    \"WMT\",\n",
    "]"
   ]
  },
  {
   "cell_type": "code",
   "execution_count": null,
   "metadata": {},
   "outputs": [],
   "source": [
    "target_cols = [f\"mid_price_{stock_name}\" for stock_name in stock_names]\n",
    "prices_old = df[target_cols].values.T\n",
    "prices_old.shape"
   ]
  },
  {
   "cell_type": "code",
   "execution_count": null,
   "metadata": {},
   "outputs": [],
   "source": [
    "prices.min(axis=1), prices_old.min(axis=1)"
   ]
  },
  {
   "cell_type": "code",
   "execution_count": null,
   "metadata": {},
   "outputs": [],
   "source": [
    "I, J = 5, 6\n",
    "fig, axes = plt.subplots(I, J, figsize=(16, 9))\n",
    "for i in range(I):\n",
    "    for j in range(J):\n",
    "        linear_index = i * J + j\n",
    "\n",
    "        axes[i, j].set_title(f\"{stock_names[linear_index]}\", fontsize=20)\n",
    "        axes[i, j].set_xticklabels([])\n",
    "        axes[i, j].set_yticklabels([])\n",
    "        axes[i, j].plot(prices[linear_index])\n",
    "\n",
    "plt.tight_layout()\n",
    "plt.show()\n",
    "plt.close(fig)"
   ]
  },
  {
   "cell_type": "code",
   "execution_count": null,
   "metadata": {},
   "outputs": [],
   "source": []
  }
 ],
 "metadata": {
  "kernelspec": {
   "display_name": "Python [conda env:thesis-gan]",
   "language": "python",
   "name": "conda-env-thesis-gan-py"
  },
  "language_info": {
   "codemirror_mode": {
    "name": "ipython",
    "version": 3
   },
   "file_extension": ".py",
   "mimetype": "text/x-python",
   "name": "python",
   "nbconvert_exporter": "python",
   "pygments_lexer": "ipython3",
   "version": "3.9.15"
  }
 },
 "nbformat": 4,
 "nbformat_minor": 1
}
