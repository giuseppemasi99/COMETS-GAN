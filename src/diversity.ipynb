{
 "cells": [
  {
   "cell_type": "code",
   "execution_count": null,
   "metadata": {},
   "outputs": [],
   "source": [
    "import numpy as np\n",
    "import matplotlib.pyplot as plt\n",
    "import pickle\n",
    "import os\n",
    "from sklearn.metrics import mean_squared_error"
   ]
  },
  {
   "cell_type": "code",
   "execution_count": null,
   "metadata": {},
   "outputs": [],
   "source": [
    "plt.rcParams[\"figure.figsize\"] = [16, 9]\n",
    "plt.rcParams[\"font.size\"] = 20\n",
    "plt.rcParams[\"axes.labelsize\"] = 20\n",
    "plt.rcParams[\"axes.titlesize\"] = 24\n",
    "plt.rcParams[\"xtick.labelsize\"] = 16\n",
    "plt.rcParams[\"ytick.labelsize\"] = 16\n",
    "plt.rcParams[\"font.family\"] = \"serif\""
   ]
  },
  {
   "cell_type": "code",
   "execution_count": null,
   "metadata": {},
   "outputs": [],
   "source": [
    "PROJECT_FOLDER = \"PycharmProjects/thesis-gan\""
   ]
  },
  {
   "cell_type": "code",
   "execution_count": null,
   "metadata": {},
   "outputs": [],
   "source": [
    "FONT_SIZE_TITLE_PLOT = 48  # 40\n",
    "FONT_SIZE_TITLE_AX = 36  # 30\n",
    "FONT_SIZE_LABEL = 30  # 24\n",
    "FONT_SIZE_TICKS = 24  # 20\n",
    "FONT_SIZE_LEGEND = 32  # 28"
   ]
  },
  {
   "cell_type": "code",
   "execution_count": null,
   "metadata": {},
   "outputs": [],
   "source": [
    "stock_names = [\"KO\", \"PEP\", \"NVDA\", \"KSU\"]"
   ]
  },
  {
   "cell_type": "code",
   "execution_count": null,
   "metadata": {},
   "outputs": [],
   "source": [
    "PATH_PICKLE_REAL_PRICE = PROJECT_FOLDER + \"/storage/thesis-gan/13v3dpxg/reals.pickle\"\n",
    "with open(PATH_PICKLE_REAL_PRICE, \"rb\") as handle:\n",
    "    real_price_dict = pickle.load(handle)\n",
    "real_prices = real_price_dict[\"prices\"]\n",
    "real_prices.shape"
   ]
  },
  {
   "cell_type": "code",
   "execution_count": null,
   "metadata": {},
   "outputs": [],
   "source": [
    "RUN_ID_PRICES = os.listdir(PROJECT_FOLDER + \"/storage/thesis-gan/diversity_val\")\n",
    "FILE_NAMES = list()\n",
    "for RUN_ID_PRICE in RUN_ID_PRICES:\n",
    "    pred_file_name = [\n",
    "        f_name\n",
    "        for f_name in os.listdir(f\"{PROJECT_FOLDER}/storage/thesis-gan/diversity_val/{RUN_ID_PRICE}\")\n",
    "        if f_name.startswith(\"preds\")\n",
    "    ]\n",
    "    if len(pred_file_name) > 0:\n",
    "        pred_file_name = pred_file_name[0]\n",
    "    FILE_NAMES.append(pred_file_name)"
   ]
  },
  {
   "cell_type": "code",
   "execution_count": null,
   "metadata": {},
   "outputs": [],
   "source": [
    "l = list()\n",
    "for RUN_ID_PRICE, FILE_NAME in zip(RUN_ID_PRICES, FILE_NAMES):\n",
    "    file_path = f\"{PROJECT_FOLDER}/storage/thesis-gan/diversity_val/{RUN_ID_PRICE}/{FILE_NAME}\"\n",
    "    with open(file_path, \"rb\") as handle:\n",
    "        pred_price_dict = pickle.load(handle)\n",
    "    pred_prices = pred_price_dict[\"pred_prices\"]\n",
    "    if pred_prices.shape == (4, 9360):\n",
    "        l.append(pred_prices)"
   ]
  },
  {
   "cell_type": "code",
   "execution_count": null,
   "metadata": {},
   "outputs": [],
   "source": [
    "all_pred_prices = np.stack(l)\n",
    "all_pred_prices.shape"
   ]
  },
  {
   "cell_type": "code",
   "execution_count": null,
   "metadata": {},
   "outputs": [],
   "source": [
    "corrcoef_real = np.corrcoef(real_prices)\n",
    "mses = list()\n",
    "for pred_prices in all_pred_prices:\n",
    "    corrcoef_pred = np.corrcoef(pred_prices)\n",
    "    mse_err = mean_squared_error(corrcoef_real, corrcoef_pred)\n",
    "    mses.append(mse_err)\n",
    "mses = np.asarray(mses)\n",
    "good_indexes = np.where(mses <= 0.23)\n",
    "good_pred_prices = all_pred_prices[good_indexes]\n",
    "good_mses = mses[good_indexes]\n",
    "good_mses"
   ]
  },
  {
   "cell_type": "code",
   "execution_count": null,
   "metadata": {},
   "outputs": [],
   "source": [
    "price_real = real_prices / 10000\n",
    "good_pred_prices = good_pred_prices / 10000\n",
    "good_pred_prices = np.transpose(good_pred_prices, axes=[1, 0, 2])\n",
    "price_real.shape, good_pred_prices.shape"
   ]
  },
  {
   "cell_type": "code",
   "execution_count": null,
   "metadata": {},
   "outputs": [],
   "source": [
    "history_indexes = np.arange(390)\n",
    "continuation_indexes = np.arange(390, price_real.shape[1])\n",
    "history_indexes.shape, continuation_indexes.shape"
   ]
  },
  {
   "cell_type": "code",
   "execution_count": null,
   "metadata": {},
   "outputs": [],
   "source": [
    "fig, axes = plt.subplots(2, 2, figsize=(16, 9))\n",
    "axes = axes.ravel()\n",
    "\n",
    "add_label = True\n",
    "for ax, stock_name, real, good_pred_price in zip(axes, stock_names, price_real, good_pred_prices):\n",
    "    ax.plot(history_indexes, real[:390], color=\"C0\", label=\"Observed\" if add_label else None)\n",
    "    ax.plot(continuation_indexes, real[390:], color=\"C1\", label=\"Real\" if add_label else None)\n",
    "    for i, (synthetic, mse) in enumerate(zip(good_pred_price, good_mses)):\n",
    "        ax.plot(\n",
    "            continuation_indexes,\n",
    "            synthetic[390:],\n",
    "            color=f\"C{i+3}\",  # label=round(mse, 2) if add_label else None\n",
    "        )\n",
    "    ax.axvline(x=390, color=\"r\")\n",
    "\n",
    "    ax.set_title(f\"{stock_name}\", fontsize=FONT_SIZE_TITLE_AX)\n",
    "    ax.set_xlabel(\"Steps\", fontsize=FONT_SIZE_LABEL)\n",
    "    ax.set_ylabel(\"Price ($)\", fontsize=FONT_SIZE_LABEL, rotation=90)\n",
    "    ax.xaxis.set_tick_params(labelsize=FONT_SIZE_TICKS)\n",
    "    ax.yaxis.set_tick_params(labelsize=FONT_SIZE_TICKS)\n",
    "    ax.set_xticks(list(ax.get_xticks()[2:-1]) + [390])\n",
    "\n",
    "    add_label = False\n",
    "\n",
    "# fig.suptitle(\"Prices - Diversity\", fontsize=FONT_SIZE_TITLE_PLOT, y=1)\n",
    "fig.legend(\n",
    "    loc=\"upper center\",\n",
    "    ncol=2,\n",
    "    fontsize=FONT_SIZE_LEGEND,\n",
    "    frameon=False,\n",
    "    # bbox_to_anchor=(0.5, 1.06)\n",
    ")\n",
    "fig.tight_layout(rect=[0, 0, 1, 0.95])\n",
    "plt.savefig(PROJECT_FOLDER + \"/plot_finali/multistock/diversity_prices.pdf\")\n",
    "# plt.show()\n",
    "plt.close(fig)"
   ]
  },
  {
   "cell_type": "code",
   "execution_count": null,
   "metadata": {},
   "outputs": [],
   "source": []
  }
 ],
 "metadata": {
  "kernelspec": {
   "display_name": "Python 3",
   "language": "python",
   "name": "python3"
  },
  "language_info": {
   "codemirror_mode": {
    "name": "ipython",
    "version": 2
   },
   "file_extension": ".py",
   "mimetype": "text/x-python",
   "name": "python",
   "nbconvert_exporter": "python",
   "pygments_lexer": "ipython2",
   "version": "2.7.6"
  }
 },
 "nbformat": 4,
 "nbformat_minor": 0
}
