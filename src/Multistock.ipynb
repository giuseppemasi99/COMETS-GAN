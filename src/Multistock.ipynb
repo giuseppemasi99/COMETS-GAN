{
 "cells": [
  {
   "cell_type": "code",
   "execution_count": null,
   "metadata": {},
   "outputs": [],
   "source": [
    "import pandas as pd\n",
    "import numpy as np\n",
    "import seaborn as sb\n",
    "import matplotlib.pyplot as plt\n",
    "import pickle\n",
    "from matplotlib.lines import Line2D\n",
    "import scipy.stats as scs"
   ]
  },
  {
   "cell_type": "code",
   "execution_count": null,
   "metadata": {},
   "outputs": [],
   "source": [
    "plt.rcParams[\"figure.figsize\"] = [16, 9]\n",
    "# plt.rcParams[\"figure.dpi\"] = 300\n",
    "plt.rcParams[\"font.size\"] = 20\n",
    "plt.rcParams[\"axes.labelsize\"] = 20\n",
    "plt.rcParams[\"axes.titlesize\"] = 24\n",
    "plt.rcParams[\"xtick.labelsize\"] = 16\n",
    "plt.rcParams[\"ytick.labelsize\"] = 16\n",
    "plt.rcParams[\"font.family\"] = \"serif\""
   ]
  },
  {
   "cell_type": "code",
   "execution_count": null,
   "metadata": {},
   "outputs": [],
   "source": [
    "stock_names = [\"KO\", \"PEP\", \"NVDA\", \"KSU\"]"
   ]
  },
  {
   "cell_type": "code",
   "execution_count": null,
   "metadata": {},
   "outputs": [],
   "source": [
    "PATH_PICKLE_PRICE = \"../storage/thesis-gan/ywbjynma/preds_epoch=109-target_price=mid_price-target_volume=None.pickle\"\n",
    "PATH_PICKLE_VOLUME = \"../storage/thesis-gan/3chof3p2/preds_epoch=118-target_price=None-target_volume=volume.pickle\"\n",
    "PATH_PICKLE_REAL = \"../storage/thesis-gan/reals.pickle\""
   ]
  },
  {
   "cell_type": "code",
   "execution_count": null,
   "metadata": {},
   "outputs": [],
   "source": [
    "with open(PATH_PICKLE_PRICE, \"rb\") as handle:\n",
    "    pred_prices_dict = pickle.load(handle)\n",
    "with open(PATH_PICKLE_VOLUME, \"rb\") as handle:\n",
    "    pred_volumes_dict = pickle.load(handle)\n",
    "with open(PATH_PICKLE_REAL, \"rb\") as handle:\n",
    "    reals_dict = pickle.load(handle)"
   ]
  },
  {
   "cell_type": "code",
   "execution_count": null,
   "metadata": {},
   "outputs": [],
   "source": [
    "pred_prices_dict.keys(), pred_volumes_dict.keys(), reals_dict.keys()"
   ]
  },
  {
   "cell_type": "code",
   "execution_count": null,
   "metadata": {},
   "outputs": [],
   "source": [
    "pred_sequence_price = pred_prices_dict[\"pred_sequence\"]\n",
    "pred_prices = pred_prices_dict[\"pred_prices\"]\n",
    "prices = reals_dict[\"prices\"]\n",
    "pred_sequence_price.shape, pred_prices.shape, prices.shape"
   ]
  },
  {
   "cell_type": "code",
   "execution_count": null,
   "metadata": {},
   "outputs": [],
   "source": [
    "pred_sequence_volume = pred_volumes_dict[\"pred_sequence\"]\n",
    "pred_volumes = pred_volumes_dict[\"pred_volumes\"]\n",
    "volumes = reals_dict[\"volumes\"]\n",
    "pred_sequence_volume.shape, pred_volumes.shape, volumes.shape"
   ]
  },
  {
   "cell_type": "code",
   "execution_count": null,
   "metadata": {},
   "outputs": [],
   "source": [
    "sequence = reals_dict[\"sequence\"]\n",
    "sequence_price = sequence[:, :4, :]\n",
    "sequence_volume = sequence[:, 4:, :]\n",
    "sequence_price.shape, sequence_volume.shape"
   ]
  },
  {
   "cell_type": "code",
   "execution_count": null,
   "metadata": {},
   "outputs": [],
   "source": [
    "sequence_price = sequence_price.squeeze().numpy().T\n",
    "pred_sequence_price = pred_sequence_price.squeeze().numpy().T\n",
    "prices = prices.squeeze().numpy().T\n",
    "pred_prices = pred_prices.squeeze().numpy().T\n",
    "sequence_price.shape, pred_sequence_price.shape, prices.shape, pred_prices.shape,"
   ]
  },
  {
   "cell_type": "code",
   "execution_count": null,
   "metadata": {},
   "outputs": [],
   "source": [
    "sequence_volume = sequence_volume.squeeze().numpy().T\n",
    "pred_sequence_volume = pred_sequence_volume.squeeze().numpy().T\n",
    "volumes = volumes.squeeze().numpy().T\n",
    "pred_volumes = pred_volumes.squeeze().numpy().T\n",
    "sequence_volume.shape, pred_sequence_volume.shape, volumes.shape, pred_volumes.shape,"
   ]
  },
  {
   "cell_type": "code",
   "execution_count": null,
   "metadata": {},
   "outputs": [],
   "source": [
    "prices.shape, pred_prices.shape, volumes.shape, pred_volumes.shape,"
   ]
  },
  {
   "cell_type": "code",
   "execution_count": null,
   "metadata": {},
   "outputs": [],
   "source": [
    "history_indexes = np.arange(390)\n",
    "continuation_indexes = np.arange(390, prices.shape[0])\n",
    "history_indexes.shape, continuation_indexes.shape"
   ]
  },
  {
   "cell_type": "code",
   "execution_count": null,
   "metadata": {},
   "outputs": [],
   "source": [
    "history = sequence_price[:390, :].T\n",
    "reals = sequence_price[390:, :].T\n",
    "preds = pred_sequence_price[390:, :].T\n",
    "history.shape, reals.shape, preds.shape"
   ]
  },
  {
   "cell_type": "code",
   "execution_count": null,
   "metadata": {},
   "outputs": [],
   "source": [
    "history_and_reals = np.concatenate((history, reals), axis=1)\n",
    "history_and_preds = np.concatenate((history, preds), axis=1)\n",
    "history_and_reals.shape, history_and_preds.shape"
   ]
  },
  {
   "cell_type": "markdown",
   "metadata": {},
   "source": [
    "# PRICES"
   ]
  },
  {
   "cell_type": "code",
   "execution_count": null,
   "metadata": {},
   "outputs": [],
   "source": [
    "fig, axes = plt.subplots(2, 2)\n",
    "legend_elements = [\n",
    "    Line2D([0], [0], color=\"C0\", lw=2, label=\"Observed\"),\n",
    "    Line2D([0], [0], color=\"C1\", lw=2, label=\"Real continuation\"),\n",
    "    Line2D([0], [0], color=\"C2\", lw=2, label=\"Predicted continuation\"),\n",
    "]\n",
    "\n",
    "for i in range(2):\n",
    "    for j in range(2):\n",
    "        linear_index = i * 2 + j\n",
    "        axes[i, j].set_title(f\"{stock_names[linear_index]}\", fontsize=20)\n",
    "\n",
    "        axes[i, j].plot(\n",
    "            history_indexes,\n",
    "            prices[:390, linear_index],\n",
    "            color=\"C0\",\n",
    "        )\n",
    "        axes[i, j].plot(\n",
    "            continuation_indexes,\n",
    "            prices[390:, linear_index],\n",
    "            color=\"C1\",\n",
    "        )\n",
    "        axes[i, j].plot(\n",
    "            continuation_indexes,\n",
    "            pred_prices[390:, linear_index],\n",
    "            color=\"C2\",\n",
    "        )\n",
    "        axes[i, j].axvline(x=390, color=\"r\")\n",
    "\n",
    "fig.suptitle(\"Prices\", fontsize=24, y=1.04)\n",
    "fig.legend(handles=legend_elements, loc=\"upper center\", ncol=3, fontsize=15, bbox_to_anchor=(0.5, 1))\n",
    "fig.tight_layout()\n",
    "# plt.savefig(\"../storage/thesis-gan/prices.png\")\n",
    "plt.show()\n",
    "plt.close(fig)"
   ]
  },
  {
   "cell_type": "markdown",
   "metadata": {},
   "source": [
    "# VOLUMES"
   ]
  },
  {
   "cell_type": "code",
   "execution_count": null,
   "metadata": {},
   "outputs": [],
   "source": [
    "fig, axes = plt.subplots(2, 2)\n",
    "legend_elements = [\n",
    "    Line2D([0], [0], color=\"C0\", lw=2, label=\"Observed\"),\n",
    "    Line2D([0], [0], color=\"C1\", lw=2, label=\"Real continuation\"),\n",
    "    Line2D([0], [0], color=\"C2\", lw=2, label=\"Predicted continuation\"),\n",
    "]\n",
    "\n",
    "for i in range(2):\n",
    "    for j in range(2):\n",
    "        linear_index = i * 2 + j\n",
    "        axes[i, j].set_title(f\"{stock_names[linear_index]}\", fontsize=20)\n",
    "\n",
    "        axes[i, j].plot(\n",
    "            history_indexes,\n",
    "            volumes[:390, linear_index],\n",
    "            color=\"C0\",\n",
    "        )\n",
    "        axes[i, j].plot(\n",
    "            continuation_indexes,\n",
    "            volumes[390:, linear_index],\n",
    "            color=\"C1\",\n",
    "        )\n",
    "        axes[i, j].plot(\n",
    "            continuation_indexes,\n",
    "            pred_volumes[390:, linear_index],\n",
    "            color=\"C2\",\n",
    "        )\n",
    "        axes[i, j].axvline(x=390, color=\"r\")\n",
    "\n",
    "fig.suptitle(\"Volumes\", fontsize=24, y=1.04)\n",
    "fig.legend(handles=legend_elements, loc=\"upper center\", ncol=3, fontsize=15, bbox_to_anchor=(0.5, 1))\n",
    "fig.tight_layout()\n",
    "# plt.savefig(\"../storage/thesis-gan/prices.png\")\n",
    "plt.show()\n",
    "plt.close(fig)"
   ]
  },
  {
   "cell_type": "markdown",
   "metadata": {},
   "source": [
    "# STYLISED FACT"
   ]
  },
  {
   "cell_type": "markdown",
   "metadata": {},
   "source": [
    "## RETURNS DISTRIBUTION"
   ]
  },
  {
   "cell_type": "code",
   "execution_count": null,
   "metadata": {},
   "outputs": [],
   "source": [
    "# extract all the stats from describe() function\n",
    "def extract_data_stats(col):\n",
    "    d_stat = col.describe()\n",
    "    mu = d_stat[\"mean\"]\n",
    "    sigma = d_stat[\"std\"]\n",
    "    rtn_range = np.linspace(d_stat[\"min\"], d_stat[\"max\"], num=1000)\n",
    "    norm_pdf = scs.norm.pdf(rtn_range, loc=mu, scale=sigma)\n",
    "    return mu, sigma, rtn_range, norm_pdf"
   ]
  },
  {
   "cell_type": "code",
   "execution_count": null,
   "metadata": {},
   "outputs": [],
   "source": [
    "# draw the histogram with Probability Density Function\n",
    "def draw_hist(ax, col_real, col_pred, stock_name, xlim=(-0.02, 0.02)):\n",
    "    sb.histplot(data=col_real, kde=True, color=\"orange\", legend=True, ax=ax)\n",
    "    sb.histplot(data=col_pred, kde=True, color=\"green\", legend=True, ax=ax)\n",
    "\n",
    "    mu, sigma, rtn_range, norm_pdf = extract_data_stats(col_real)\n",
    "    ax.plot(rtn_range, norm_pdf, \"orange\", lw=3, label=f\"Real: N({mu:.5f}, {sigma**2:.5f})\")\n",
    "\n",
    "    mu, sigma, rtn_range, norm_pdf = extract_data_stats(col_pred)\n",
    "    ax.plot(rtn_range, norm_pdf, \"green\", lw=3, label=f\"Pred: N({mu:.5f}, {sigma**2:.5f})\")\n",
    "\n",
    "    ax.axvline(x=0, c=\"c\", linestyle=\"--\", lw=3)\n",
    "    ax.set_title(f\"{stock_name}\", fontsize=24)\n",
    "    ax.set_xlim(xlim)\n",
    "    ax.legend(loc=\"upper right\", fontsize=10, frameon=True, fancybox=True, framealpha=1, shadow=True, borderpad=1)"
   ]
  },
  {
   "cell_type": "code",
   "execution_count": null,
   "metadata": {},
   "outputs": [],
   "source": [
    "def print_returns_distribution_stylised_fact(ax, stock_name):\n",
    "    stock_index = stock_names.index(stock_name)\n",
    "    prices_real = prices[:, stock_index]\n",
    "    prices_pred = pred_prices[:, stock_index]\n",
    "\n",
    "    prices_real = pd.DataFrame(prices_real, columns=[\"mid_price\"])\n",
    "    prices_pred = pd.DataFrame(prices_pred, columns=[\"mid_price\"])\n",
    "\n",
    "    prices_real[\"Returns\"] = prices_real[\"mid_price\"].pct_change()\n",
    "    prices_pred[\"Returns\"] = prices_pred[\"mid_price\"].pct_change()\n",
    "\n",
    "    prices_real = prices_real.dropna()\n",
    "    prices_pred = prices_pred.dropna()\n",
    "\n",
    "    draw_hist(ax, prices_real[\"Returns\"], prices_pred[\"Returns\"], stock_name)"
   ]
  },
  {
   "cell_type": "code",
   "execution_count": null,
   "metadata": {},
   "outputs": [],
   "source": [
    "fig, axs = plt.subplots(2, 2)\n",
    "\n",
    "print_returns_distribution_stylised_fact(axs[0, 0], \"NVDA\")\n",
    "print_returns_distribution_stylised_fact(axs[0, 1], \"KSU\")\n",
    "print_returns_distribution_stylised_fact(axs[1, 0], \"KO\")\n",
    "print_returns_distribution_stylised_fact(axs[1, 1], \"PEP\")\n",
    "\n",
    "fig.suptitle(\"Returns distribution\", fontsize=24)\n",
    "fig.tight_layout()\n",
    "# plt.savefig(\"../storage/thesis-gan/stylised_fact_distribution_returns.png\")\n",
    "plt.show()\n",
    "plt.close(fig)"
   ]
  },
  {
   "cell_type": "markdown",
   "metadata": {},
   "source": [
    "## AGGREGATIONAL GAUSSIANITY"
   ]
  },
  {
   "cell_type": "code",
   "execution_count": null,
   "metadata": {},
   "outputs": [],
   "source": [
    "# using ax to draw multi-grahps\n",
    "def draw_hist_multi(col_real, col_pred, xlim=(-0.02, 0.02), ax=None):\n",
    "    sb.histplot(data=col_real, kde=True, color=\"orange\", legend=True, ax=ax)\n",
    "    sb.histplot(data=col_pred, kde=True, color=\"green\", legend=True, ax=ax)\n",
    "\n",
    "    mu, sigma, rtn_range, norm_pdf = extract_data_stats(col_real)\n",
    "    ax.plot(rtn_range, norm_pdf, \"orange\", lw=3, label=f\"Real: N({mu:.5f}, {sigma**2:.5f})\")\n",
    "\n",
    "    mu, sigma, rtn_range, norm_pdf = extract_data_stats(col_pred)\n",
    "    ax.plot(rtn_range, norm_pdf, \"green\", lw=3, label=f\"Pred: N({mu:.5f}, {sigma**2:.5f})\")\n",
    "\n",
    "    ax.set_xlim(xlim)\n",
    "    ax.legend(loc=\"upper right\", fontsize=10, frameon=True, fancybox=True, framealpha=1, shadow=True, borderpad=1)"
   ]
  },
  {
   "cell_type": "code",
   "execution_count": null,
   "metadata": {},
   "outputs": [],
   "source": [
    "def print_aggregational_gaussianity_stylised_fact(stock_name):\n",
    "    stock_index = stock_names.index(stock_name)\n",
    "    prices_real = prices[:, stock_index]\n",
    "    prices_pred = pred_prices[:, stock_index]\n",
    "\n",
    "    prices_real = pd.DataFrame(prices_real, columns=[\"mid_price\"])\n",
    "    prices_pred = pd.DataFrame(prices_pred, columns=[\"mid_price\"])\n",
    "\n",
    "    df_simple_rtn_real = pd.DataFrame(prices_real[\"mid_price\"])\n",
    "    df_simple_rtn_pred = pd.DataFrame(prices_pred[\"mid_price\"])\n",
    "\n",
    "    lags = 6\n",
    "    cols = list()\n",
    "    for lag in range(1, lags + 1):\n",
    "        col = f\"Returns - Lag {lag}\"\n",
    "        cols.append(col)\n",
    "        df_simple_rtn_real[col] = df_simple_rtn_real[\"mid_price\"].pct_change(periods=lag)\n",
    "        df_simple_rtn_pred[col] = df_simple_rtn_pred[\"mid_price\"].pct_change(periods=lag)\n",
    "\n",
    "    df_simple_rtn_real.dropna(inplace=True)\n",
    "    df_simple_rtn_pred.dropna(inplace=True)\n",
    "\n",
    "    df_simple_rtn_real = df_simple_rtn_real.drop([\"mid_price\"], axis=1)\n",
    "    df_simple_rtn_pred = df_simple_rtn_pred.drop([\"mid_price\"], axis=1)\n",
    "\n",
    "    df_simple_rtn_real.columns = cols\n",
    "    df_simple_rtn_pred.columns = cols\n",
    "\n",
    "    draw_hist_subplots(df_simple_rtn_real, df_simple_rtn_pred, stock_name)"
   ]
  },
  {
   "cell_type": "code",
   "execution_count": null,
   "metadata": {},
   "outputs": [],
   "source": [
    "# create subplots figure with each plot drawed by draw_hist_multi()\n",
    "def draw_hist_subplots(df_real, df_pred, stock_name):\n",
    "    fig, axs = plt.subplots(nrows=2, ncols=3, figsize=(16, 9))\n",
    "\n",
    "    axs = axs.ravel()\n",
    "    for i, col in enumerate(df_real.columns):\n",
    "        draw_hist_multi(df_real[col], df_pred[col], ax=axs[i])\n",
    "\n",
    "    fig.suptitle(f\"Distribution of returns with increased time scale - {stock_name}\", fontsize=24)\n",
    "    fig.tight_layout()\n",
    "    # plt.savefig(f\"/../storage/thesis-gan/stylised_fact_aggregational_gaussianity_{stock_name}.png\")\n",
    "    plt.show()\n",
    "    plt.close(fig)"
   ]
  },
  {
   "cell_type": "code",
   "execution_count": null,
   "metadata": {},
   "outputs": [],
   "source": [
    "print_aggregational_gaussianity_stylised_fact(\"NVDA\")"
   ]
  },
  {
   "cell_type": "markdown",
   "metadata": {},
   "source": [
    "## ABSENCE OF AUTOCORRELATION"
   ]
  },
  {
   "cell_type": "code",
   "execution_count": null,
   "metadata": {},
   "outputs": [],
   "source": [
    "def corr_plot(corr, ax, title):\n",
    "    sb.set(style=\"white\")\n",
    "    cmap = sb.diverging_palette(220, 20, as_cmap=True)\n",
    "    sb.heatmap(corr, annot=True, cmap=cmap, square=True, linewidths=3, linecolor=\"w\", ax=ax)\n",
    "    ax.set_title(title, fontsize=20)\n",
    "    ax.set_xticklabels(ax.get_xticklabels(), rotation=45, horizontalalignment=\"center\")\n",
    "    ax.set_yticklabels(ax.get_yticklabels(), rotation=45, verticalalignment=\"center\")"
   ]
  },
  {
   "cell_type": "code",
   "execution_count": null,
   "metadata": {},
   "outputs": [],
   "source": [
    "def print_absence_autocorrelation_stylised_fact(stock_name):\n",
    "    stock_index = stock_names.index(stock_name)\n",
    "    prices_real = prices[:, stock_index]\n",
    "    prices_pred = pred_prices[:, stock_index]\n",
    "\n",
    "    prices_real = pd.DataFrame(prices_real, columns=[\"mid_price\"])\n",
    "    prices_pred = pd.DataFrame(prices_pred, columns=[\"mid_price\"])\n",
    "\n",
    "    df_simple_rtn_real = pd.DataFrame(prices_real[\"mid_price\"])\n",
    "    df_simple_rtn_pred = pd.DataFrame(prices_pred[\"mid_price\"])\n",
    "\n",
    "    lags = 6\n",
    "    cols = list()\n",
    "    for lag in range(1, lags + 1):\n",
    "        col = f\"Lag {lag}\"\n",
    "        cols.append(col)\n",
    "        df_simple_rtn_real[col] = df_simple_rtn_real[\"mid_price\"].pct_change(periods=lag)\n",
    "        df_simple_rtn_pred[col] = df_simple_rtn_pred[\"mid_price\"].pct_change(periods=lag)\n",
    "\n",
    "    df_simple_rtn_real.dropna(inplace=True)\n",
    "    df_simple_rtn_pred.dropna(inplace=True)\n",
    "\n",
    "    df_simple_rtn_real = df_simple_rtn_real.drop([\"mid_price\"], axis=1)\n",
    "    df_simple_rtn_pred = df_simple_rtn_pred.drop([\"mid_price\"], axis=1)\n",
    "\n",
    "    df_simple_rtn_real.columns = cols\n",
    "    df_simple_rtn_pred.columns = cols\n",
    "\n",
    "    corr_real = df_simple_rtn_real.corr()\n",
    "    corr_pred = df_simple_rtn_pred.corr()\n",
    "\n",
    "    fig, axs = plt.subplots(nrows=1, ncols=2, figsize=(16, 9))\n",
    "\n",
    "    axs = axs.ravel()\n",
    "    corr_plot(corr_real, ax=axs[0], title=\"Real - Returns\")\n",
    "    corr_plot(corr_pred, ax=axs[1], title=\"Pred - Returns\")\n",
    "\n",
    "    fig.suptitle(f\"Returns Autocorrelations - {stock_name}\", fontsize=24)\n",
    "    fig.tight_layout()\n",
    "    # plt.savefig(f\"../storage/thesis-gan/stylised_fact_absence_autocorrelation_{stock_name}.png\")\n",
    "    plt.show()\n",
    "    plt.close(fig)"
   ]
  },
  {
   "cell_type": "code",
   "execution_count": null,
   "metadata": {},
   "outputs": [],
   "source": [
    "print_absence_autocorrelation_stylised_fact(\"NVDA\")"
   ]
  },
  {
   "cell_type": "markdown",
   "metadata": {},
   "source": [
    "## VOLATILITY CLUSTERING"
   ]
  },
  {
   "cell_type": "code",
   "execution_count": null,
   "metadata": {},
   "outputs": [],
   "source": [
    "def print_volatility_clustering_stylised_fact(ax, stock_name):\n",
    "    stock_index = stock_names.index(stock_name)\n",
    "    prices_real = prices[:, stock_index]\n",
    "    prices_pred = pred_prices[:, stock_index]\n",
    "\n",
    "    prices_real = pd.DataFrame(prices_real, columns=[\"mid_price\"])\n",
    "    prices_pred = pd.DataFrame(prices_pred, columns=[\"mid_price\"])\n",
    "\n",
    "    prices_real[\"Returns\"] = prices_real[\"mid_price\"].pct_change()\n",
    "    prices_pred[\"Returns\"] = prices_pred[\"mid_price\"].pct_change()\n",
    "\n",
    "    prices_real = prices_real.dropna()\n",
    "    prices_pred = prices_pred.dropna()\n",
    "\n",
    "    ax.plot(prices_real[\"Returns\"], label=\"Real\", color=\"C1\")\n",
    "    ax.plot(prices_pred[\"Returns\"], label=\"Pred\", color=\"C2\", alpha=0.3)\n",
    "\n",
    "    ax.set_ylabel(\"Returns\")\n",
    "    ax.set_title(stock_name, fontsize=20)"
   ]
  },
  {
   "cell_type": "code",
   "execution_count": null,
   "metadata": {},
   "outputs": [],
   "source": [
    "fig, axs = plt.subplots(2, 2)\n",
    "legend_elements = [\n",
    "    Line2D([0], [0], color=\"C1\", lw=2, label=\"Real\"),\n",
    "    Line2D([0], [0], color=\"C2\", alpha=0.3, lw=2, label=\"Synthetic\"),\n",
    "]\n",
    "\n",
    "print_volatility_clustering_stylised_fact(axs[0, 0], \"NVDA\")\n",
    "print_volatility_clustering_stylised_fact(axs[0, 1], \"KSU\")\n",
    "print_volatility_clustering_stylised_fact(axs[1, 0], \"KO\")\n",
    "print_volatility_clustering_stylised_fact(axs[1, 1], \"PEP\")\n",
    "\n",
    "fig.suptitle(\"Volatility clustering\", fontsize=24, y=1.04)\n",
    "fig.legend(handles=legend_elements, loc=\"upper center\", ncol=2, fontsize=15, bbox_to_anchor=(0.5, 1))\n",
    "fig.tight_layout()\n",
    "# plt.savefig(\"../storage/thesis-gan/stylised_fact_volatility_clustering.png\")\n",
    "plt.show()\n",
    "plt.close(fig)"
   ]
  },
  {
   "cell_type": "markdown",
   "metadata": {},
   "source": [
    "## VOLUME VOLATILITY CORRELATION"
   ]
  },
  {
   "cell_type": "code",
   "execution_count": null,
   "metadata": {},
   "outputs": [],
   "source": [
    "def compute_avg_log_returns(x, delta):\n",
    "    # x.shape = [sequence_length, n_stocks]\n",
    "    x = pd.DataFrame(x)\n",
    "    x = x.rolling(delta).mean().to_numpy().squeeze()\n",
    "    x = x[::delta][1:]\n",
    "    return x.T\n",
    "\n",
    "\n",
    "def compute_avg_volumes(x, delta):\n",
    "    # x.shape = [sequence_length, n_stocks]\n",
    "    x = pd.DataFrame(x)\n",
    "    x = x.rolling(delta).mean().to_numpy().squeeze()\n",
    "    x = x[::delta][1:]\n",
    "    return x.T"
   ]
  },
  {
   "cell_type": "code",
   "execution_count": null,
   "metadata": {},
   "outputs": [],
   "source": [
    "real_avg_log_returns = compute_avg_log_returns(sequence_price, 15)\n",
    "real_avg_volumes = compute_avg_volumes(sequence_volume, 15)\n",
    "\n",
    "pred_avg_log_returns = compute_avg_log_returns(pred_sequence_price, 15)\n",
    "pred_avg_volumes = compute_avg_volumes(pred_sequence_volume, 15)"
   ]
  },
  {
   "cell_type": "code",
   "execution_count": null,
   "metadata": {},
   "outputs": [],
   "source": [
    "fig, ax = plt.subplots(2, 4)\n",
    "\n",
    "for target_idx in range(4):\n",
    "    stock_name = stock_names[target_idx]\n",
    "\n",
    "    # Real volume-volatility correlation\n",
    "    title = f\"{stock_name} - Real\"\n",
    "    ax[0, target_idx].set_title(title)\n",
    "    ax[0, target_idx].scatter(\n",
    "        real_avg_log_returns[target_idx],\n",
    "        real_avg_volumes[target_idx],\n",
    "        color=\"C0\",\n",
    "    )\n",
    "    ax[0, target_idx].set_xlabel(\"Avg log-returns\")\n",
    "    ax[0, target_idx].set_ylabel(\"Avg log-volumes\")\n",
    "\n",
    "    # Pred volume-volatility correlation\n",
    "    title = f\"{stock_name} - Pred\"\n",
    "    ax[1, target_idx].set_title(title)\n",
    "    ax[1, target_idx].scatter(\n",
    "        pred_avg_log_returns[target_idx],\n",
    "        pred_avg_volumes[target_idx],\n",
    "        color=\"C1\",\n",
    "    )\n",
    "    ax[1, target_idx].set_xlabel(\"Avg log-returns\")\n",
    "    ax[1, target_idx].set_ylabel(\"Avg log-volumes\")\n",
    "\n",
    "fig.suptitle(\"Volume-Volatility Correlation\", fontsize=24)\n",
    "fig.tight_layout()\n",
    "plt.show()\n",
    "# plt.savefig(\"../storage/thesis-gan/stylised_fact_volume_volatility_correlation.png\")\n",
    "plt.close(fig)"
   ]
  },
  {
   "cell_type": "markdown",
   "metadata": {},
   "source": [
    "# Correlations\n"
   ]
  },
  {
   "cell_type": "code",
   "execution_count": null,
   "metadata": {},
   "outputs": [],
   "source": [
    "FILE_PATH_TRAIN = \"../data/ohlc_KO_PEP_NVDA_KSU_train.csv\"\n",
    "FILE_PATH_VAL = \"../data/ohlc_KO_PEP_NVDA_KSU_val.csv\"\n",
    "FILE_PATH_TEST = \"../data/ohlc_KO_PEP_NVDA_KSU_test.csv\""
   ]
  },
  {
   "cell_type": "code",
   "execution_count": null,
   "metadata": {},
   "outputs": [],
   "source": [
    "df_train = pd.read_csv(FILE_PATH_TRAIN)\n",
    "df_train = df_train[[f\"mid_price_{stock_name}\" for stock_name in stock_names]]\n",
    "df_train.corr()"
   ]
  },
  {
   "cell_type": "code",
   "execution_count": null,
   "metadata": {},
   "outputs": [],
   "source": [
    "df_val = pd.read_csv(FILE_PATH_VAL)\n",
    "df_val = df_val[[f\"mid_price_{stock_name}\" for stock_name in stock_names]]\n",
    "df_val.corr()"
   ]
  },
  {
   "cell_type": "code",
   "execution_count": null,
   "metadata": {},
   "outputs": [],
   "source": [
    "df_val_preds = pd.DataFrame(pred_prices, columns=df_train.columns)\n",
    "df_val_preds.corr()"
   ]
  },
  {
   "cell_type": "code",
   "execution_count": null,
   "metadata": {},
   "outputs": [],
   "source": []
  }
 ],
 "metadata": {
  "kernelspec": {
   "display_name": "Python 3",
   "language": "python",
   "name": "python3"
  },
  "language_info": {
   "codemirror_mode": {
    "name": "ipython",
    "version": 2
   },
   "file_extension": ".py",
   "mimetype": "text/x-python",
   "name": "python",
   "nbconvert_exporter": "python",
   "pygments_lexer": "ipython2",
   "version": "2.7.6"
  }
 },
 "nbformat": 4,
 "nbformat_minor": 0
}
